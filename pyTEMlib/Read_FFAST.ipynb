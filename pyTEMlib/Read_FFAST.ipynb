{
 "cells": [
  {
   "cell_type": "code",
   "execution_count": 5,
   "metadata": {},
   "outputs": [],
   "source": [
    "txt_file = open('data\\XRPA\\Si.dat', 'rb')"
   ]
  },
  {
   "cell_type": "code",
   "execution_count": 4,
   "metadata": {},
   "outputs": [],
   "source": [
    "txt_file.close()"
   ]
  },
  {
   "cell_type": "code",
   "execution_count": 97,
   "metadata": {},
   "outputs": [],
   "source": [
    " line = txt_file.readline()"
   ]
  },
  {
   "cell_type": "code",
   "execution_count": 99,
   "metadata": {},
   "outputs": [
    {
     "name": "stdout",
     "output_type": "stream",
     "text": [
      "b'Si (Z = 14) Atomic weight: Ar = 28.08550 g mol-1   Nominal density:   rho(g cm-3) = 2.3200\\r\\n'\n",
      "['Si', '(Z', '=', '14)', 'Atomic', 'weight:', 'Ar', '=', '28.08550', 'g', 'mol-1', 'Nominal', 'density:', 'rho(g', 'cm-3)', '=', '2.3200']\n"
     ]
    }
   ],
   "source": [
    "\n",
    "print(line)\n",
    "l = line.decode(\"utf-8\").split()\n",
    "print(l)"
   ]
  },
  {
   "cell_type": "code",
   "execution_count": 10,
   "metadata": {},
   "outputs": [
    {
     "name": "stdout",
     "output_type": "stream",
     "text": [
      "Populating the interactive namespace from numpy and matplotlib\n",
      "['Si', '(Z', '=', '14)', 'Atomic', 'weight:', 'Ar', '=', '28.08550', 'g', 'mol-1', 'Nominal', 'density:', 'rho(g', 'cm-3)', '=', '2.3200']\n",
      "['Si', '(Z', '=', '14)', 'Atomic', 'weight:', 'Ar', '=', '28.08550', 'g', 'mol-1', 'Nominal', 'density:', 'rho(g', 'cm-3)', '=', '2.3200']\n",
      "['simga(barns/atom)', '=', '[mue/rho](cm2', 'g-1)', '×', '4.66371E+01']\n"
     ]
    },
    {
     "ename": "UnicodeDecodeError",
     "evalue": "'utf-8' codec can't decode byte 0xd7 in position 41: invalid continuation byte",
     "output_type": "error",
     "traceback": [
      "\u001b[1;31m---------------------------------------------------------------------------\u001b[0m",
      "\u001b[1;31mUnicodeDecodeError\u001b[0m                        Traceback (most recent call last)",
      "\u001b[1;32m<ipython-input-10-8e66b6df7209>\u001b[0m in \u001b[0;36m<module>\u001b[1;34m\u001b[0m\n\u001b[0;32m     21\u001b[0m \u001b[0mele_tag\u001b[0m\u001b[1;33m[\u001b[0m\u001b[1;34m'to_barnes'\u001b[0m\u001b[1;33m]\u001b[0m \u001b[1;33m=\u001b[0m \u001b[0mfloat\u001b[0m\u001b[1;33m(\u001b[0m\u001b[0mline\u001b[0m\u001b[1;33m[\u001b[0m\u001b[1;33m-\u001b[0m\u001b[1;36m1\u001b[0m\u001b[1;33m]\u001b[0m\u001b[1;33m)\u001b[0m\u001b[1;33m\u001b[0m\u001b[1;33m\u001b[0m\u001b[0m\n\u001b[0;32m     22\u001b[0m \u001b[1;33m\u001b[0m\u001b[0m\n\u001b[1;32m---> 23\u001b[1;33m \u001b[0mline\u001b[0m \u001b[1;33m=\u001b[0m \u001b[0mtxt_file\u001b[0m\u001b[1;33m.\u001b[0m\u001b[0mreadline\u001b[0m\u001b[1;33m(\u001b[0m\u001b[1;33m)\u001b[0m\u001b[1;33m.\u001b[0m\u001b[0mdecode\u001b[0m\u001b[1;33m(\u001b[0m\u001b[1;34m\"utf-8\"\u001b[0m\u001b[1;33m)\u001b[0m\u001b[1;33m\u001b[0m\u001b[1;33m\u001b[0m\u001b[0m\n\u001b[0m\u001b[0;32m     24\u001b[0m \u001b[0mprint\u001b[0m\u001b[1;33m(\u001b[0m\u001b[0mline\u001b[0m\u001b[1;33m)\u001b[0m\u001b[1;33m\u001b[0m\u001b[1;33m\u001b[0m\u001b[0m\n\u001b[0;32m     25\u001b[0m \u001b[0mline\u001b[0m \u001b[1;33m=\u001b[0m \u001b[0mtxt_file\u001b[0m\u001b[1;33m.\u001b[0m\u001b[0mreadline\u001b[0m\u001b[1;33m(\u001b[0m\u001b[1;33m)\u001b[0m\u001b[1;33m.\u001b[0m\u001b[0mdecode\u001b[0m\u001b[1;33m(\u001b[0m\u001b[1;34m\"utf-8\"\u001b[0m\u001b[1;33m)\u001b[0m\u001b[1;33m\u001b[0m\u001b[1;33m\u001b[0m\u001b[0m\n",
      "\u001b[1;31mUnicodeDecodeError\u001b[0m: 'utf-8' codec can't decode byte 0xd7 in position 41: invalid continuation byte"
     ]
    }
   ],
   "source": [
    "%pylab --no-import-all notebook \n",
    "\n",
    "roman = ['0','I','II','III','IV','V','VI','VII','VIII','IX','X']\n",
    "txt_file = open('data\\XRPA\\Si.dat', 'rb')\n",
    "## header\n",
    "tags = {}\n",
    "line = txt_file.readline().decode(\"utf-8\").split()\n",
    "\n",
    "\n",
    "print(line)\n",
    "tags[line[3][:-1]] ={}\n",
    "ele_tag = tags[line[3][:-1]]\n",
    "ele_tag['element'] = line[0]\n",
    "ele_tag['weight'] = float(line[8])\n",
    "print(line)\n",
    "ele_tag['density'] = float(line[-1])\n",
    "\n",
    "#print( txt_file.readline())\n",
    "line = txt_file.readline().decode(\"ISO-8859-1\").split()\n",
    "print(line)\n",
    "ele_tag['to_barnes'] = float(line[-1])\n",
    "\n",
    "line = txt_file.readline().decode(\"utf-8\")\n",
    "print(line)\n",
    "line = txt_file.readline().decode(\"utf-8\")\n",
    "print(line)\n",
    "ele_tag['edges']= {}\n",
    "for i in range(int(line[0][2:])):\n",
    "    line = str(txt_file.readline()).split()\n",
    "    #print(line)\n",
    "    name = line[0][2:]\n",
    "    if name =='K':\n",
    "        ele_tag['edges']['K1'] = float(line[1])\n",
    "    else:\n",
    "        name = name+str(roman.index(line[1]))\n",
    "        ele_tag['edges'][name] = float(line[2])\n",
    "for line in txt_file:    \n",
    "    l = line.split()\n",
    "    print(l[0][0:4])\n",
    "    if l[0][0:4] == b'Data':\n",
    "        break\n",
    "    print(line)\n",
    "line = str(txt_file.readline())\n",
    "\n",
    "print(line)\n",
    "print(tags)\n",
    "data = []\n",
    "energy = []\n",
    "for line in txt_file:\n",
    "    \n",
    "    l = line.split()\n",
    "    energy.append(float(l[0]))\n",
    "    data.append(float(l[1]))\n",
    "    #print(l,energy[-1], data[-1])\n",
    "\n",
    "ele_tag['energy'] = np.array(energy)     \n",
    "ele_tag['data'] = np.array(data)     \n",
    "txt_file.close()\n",
    "\n",
    "plt.figure()\n",
    "plt.plot(energy,data)"
   ]
  },
  {
   "cell_type": "code",
   "execution_count": null,
   "metadata": {},
   "outputs": [],
   "source": []
  }
 ],
 "metadata": {
  "kernelspec": {
   "display_name": "Python 3",
   "language": "python",
   "name": "python3"
  },
  "language_info": {
   "codemirror_mode": {
    "name": "ipython",
    "version": 3
   },
   "file_extension": ".py",
   "mimetype": "text/x-python",
   "name": "python",
   "nbconvert_exporter": "python",
   "pygments_lexer": "ipython3",
   "version": "3.7.3"
  }
 },
 "nbformat": 4,
 "nbformat_minor": 2
}
