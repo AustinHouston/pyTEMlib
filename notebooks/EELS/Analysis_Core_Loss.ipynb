{
 "cells": [
  {
   "cell_type": "markdown",
   "metadata": {
    "hideCode": true,
    "hidePrompt": true
   },
   "source": [
    "<font size = \"5\"> **EELS_Tools:  [Spectroscopy](Ch4-Spectroscopy.ipynb)** </font>\n",
    "\n",
    "<hr style=\"height:1px;border-top:4px solid #FF8200\" />\n",
    "\n",
    "# Analysis of Core-Loss EELS Spectra\n",
    "<br>\n",
    "\n",
    "\n",
    "[Download](https://raw.githubusercontent.com/pycroscopy/pyTEMlib/main/notebooks/EELS/Analysis_Core_Loss.ipynb)\n",
    " \n",
    "[![Open In Colab](https://colab.research.google.com/assets/colab-badge.svg)](\n",
    "    https://colab.research.google.com/github/pycroscopy/pyTEMlib/blob/main/notebooks/EELS/Analysis_Core_Loss.ipynb)\n",
    "    \n",
    "part of \n",
    "\n",
    "<font size = \"5\"> **[pyTEMlib](https://pycroscopy.github.io/pyTEMlib/about.html)**</font>\n",
    "\n",
    "a [pycroscopy](https://pycroscopy.github.io/pycroscopy/about.html) ecosystem package\n",
    "\n",
    "\n",
    "Notebook by Gerd Duscher, 2023\n",
    "\n",
    "Microscopy Facilities<br>\n",
    "Institute of Advanced Materials & Manufacturing<br>\n",
    "The University of Tennessee, Knoxville\n",
    "\n",
    "Model based analysis and quantification of data acquired with transmission electron microscopes\n",
    "\n",
    "\n"
   ]
  },
  {
   "cell_type": "markdown",
   "metadata": {
    "hideCode": true,
    "hidePrompt": true
   },
   "source": [
    "## Content\n",
    "\n",
    "Quantitative determination of chemical composition from a core-loss EELS spectrum\n",
    "\n",
    "\n",
    "Relavant notebooks in course [MSE 672: Introduction to TEM]()  give an in depth explanation of the method.\n",
    "\n",
    "Please cite:\n",
    "\n",
    "[M. Tian et  al. *Measuring the areal density of nanomaterials by electron energy-loss spectroscopy*\n",
    "Ultramicroscopy Volume 196, 2019, pages 154-160](https://doi.org/10.1016/j.ultramic.2018.10.009)\n",
    "\n",
    "as a reference of this quantification method.\n",
    "\n",
    "## Prerequesites\n",
    "This notebook will only run with  ``version 0.2022.6.0`` or higher.\n",
    "\n",
    "### Install missing packages\n",
    "This can take a while for the first time. This code will have to run at least once on you computer or colab session."
   ]
  },
  {
   "cell_type": "code",
   "execution_count": 1,
   "metadata": {},
   "outputs": [
    {
     "name": "stdout",
     "output_type": "stream",
     "text": [
      "installing pyTEMlib\n",
      "done\n"
     ]
    }
   ],
   "source": [
    "import sys\n",
    "\n",
    "from pkg_resources import get_distribution, DistributionNotFound\n",
    "\n",
    "def test_package(package_name):\n",
    "    \"\"\"Test if package exists and returns version or -1\"\"\"\n",
    "    try:\n",
    "        version = (get_distribution(package_name).version)\n",
    "    except (DistributionNotFound, ImportError) as err:\n",
    "        version = '-1'\n",
    "    return version\n",
    "\n",
    "\n",
    "# pyTEMlib setup ------------------\n",
    "if test_package('pyTEMlib') < '0.2023.5.0':\n",
    "    print('installing pyTEMlib')\n",
    "    !{sys.executable} -m pip install git+https://github.com/pycroscopy/SciFiReaders.git@main -q\n",
    "    !{sys.executable} -m pip install git+https://github.com/pycroscopy/pyTEMlib.git@use_dict_2 -q\n",
    "    \n",
    "# ------------------------------\n",
    "print('done')"
   ]
  },
  {
   "cell_type": "markdown",
   "metadata": {
    "hideCode": false,
    "hidePrompt": false
   },
   "source": [
    "### Load the relevant packages"
   ]
  },
  {
   "cell_type": "code",
   "execution_count": 1,
   "metadata": {
    "hideCode": true,
    "hidePrompt": false
   },
   "outputs": [
    {
     "name": "stdout",
     "output_type": "stream",
     "text": [
      "You don't have igor2 installed.     If you wish to open igor files, you will need to install it     (pip install igor2) before attempting.\n",
      "You don't have gwyfile installed.     If you wish to open .gwy files, you will need to      install it (pip install gwyfile) before attempting.\n",
      "Symmetry functions of spglib enabled\n",
      "pyTEMlib version:  0.2023.5.0\n"
     ]
    }
   ],
   "source": [
    "%matplotlib ipympl\n",
    "import numpy as np\n",
    "import matplotlib.pylab as plt \n",
    "import sys\n",
    "\n",
    "if 'google.colab' not in sys.modules:\n",
    "    %gui qt5\n",
    "    \n",
    "\n",
    "# sys.path.insert(0, '../../')\n",
    "\n",
    "import pyTEMlib\n",
    "import pyTEMlib.file_tools as ft     # File input/ output library\n",
    "import pyTEMlib.image_tools as it\n",
    "import pyTEMlib.eels_tools  as eels        # EELS methods \n",
    "\n",
    "import pyTEMlib.interactive_eels as ieels  # Dialogs for EELS input and quantification\n",
    "\n",
    "# For archiving reasons it is a good idea to print the version numbers out at this point\n",
    "print('pyTEMlib version: ', pyTEMlib.__version__)\n",
    "if pyTEMlib.__version__ < '0.2023.3.0':\n",
    "    print('This version of pyTEMlib will not work with this notebook')\n",
    "    print('Please install new pyTEMlib version with code cell above first and then restart this notebook!')\n",
    "    \n",
    "__notebook__ = 'analyze_core_loss'\n",
    "__notebook_version__ = '2023_03_20'\n",
    "\n",
    "\n",
    "if 'google.colab' in sys.modules:\n",
    "    drive.mount(\"/content/drive\")"
   ]
  },
  {
   "cell_type": "markdown",
   "metadata": {},
   "source": [
    "## Load and plot a spectrum\n",
    "\n",
    "As an example we load the spectrum **1EELS Acquire (high-loss).dm3** from the *example data* folder.\n",
    "\n",
    "Please see [Loading an EELS Spectrum](LoadEELS.ipynb) for details on storage and plotting.\n",
    "\n",
    "First a dialog to select a file will apear.\n",
    "\n",
    "Then the spectrum plot and ``Spectrum Info`` dialog will appear, in which we set the experimental parameters.\n",
    "\n",
    "Please use the ``Set Energy Scale`` button to change the energy scale. When pressed a new dialog and a cursor will appear in which one is able to set the energy scale based on known features in the spectrum.\n"
   ]
  },
  {
   "cell_type": "code",
   "execution_count": 7,
   "metadata": {},
   "outputs": [
    {
     "name": "stdout",
     "output_type": "stream",
     "text": [
      "edges\n",
      "0\n",
      "all_edges\n",
      "L1\n",
      "L2\n",
      "L3\n",
      "1\n",
      "all_edges\n",
      "K1\n",
      "fit_area\n",
      "model\n",
      "experiment\n",
      "DM\n",
      "DocumentObjectList\n",
      "0\n",
      "AnnotationGroupList\n",
      "ImageDisplayInfo\n",
      "CalibrationSliceId\n",
      "DimensionLabels\n",
      "GroupList\n",
      "0\n",
      "GroupToDisplay\n",
      "MainSliceId\n",
      "SliceList\n",
      "0\n",
      "ImageToGroup\n",
      "SliceId\n",
      "ObjectTags\n",
      "DocumentTags\n",
      "Image Behavior\n",
      "UnscaledTransform\n",
      "ZoomAndMoveTransform\n",
      "ImageData\n",
      "Calibrations\n",
      "Brightness\n",
      "Dimension\n",
      "0\n",
      "Dimensions\n",
      "ImageSourceList\n",
      "0\n",
      "Extra Slice Info\n",
      "0\n",
      "Id\n",
      "Id\n",
      "ImageTags\n",
      "Acquisition\n",
      "Device\n",
      "CCD\n",
      "Configuration\n",
      "Transpose\n",
      "Frame\n",
      "Area\n",
      "Transform\n",
      "Transform List\n",
      "0\n",
      "Transpose\n",
      "CCD\n",
      "Intensity\n",
      "Transform\n",
      "Transform List\n",
      "0\n",
      "1\n",
      "Parameters\n",
      "Base Detector\n",
      "Detector\n",
      "Environment\n",
      "High Level\n",
      "Shutter\n",
      "Transform\n",
      "Objects\n",
      "0\n",
      "EELS\n",
      "Acquisition\n",
      "Experimental Conditions\n",
      "EELS Spectrometer\n",
      "Meta Data\n",
      "Microscope Info\n",
      "Session Info\n",
      "Items\n",
      "0\n",
      "1\n",
      "2\n",
      "MinVersionList\n",
      "0\n",
      "Page Behavior\n",
      "PageTransform\n",
      "SentinelList\n",
      "Thumbnails\n",
      "0\n",
      "UniqueID\n"
     ]
    },
    {
     "data": {
      "application/vnd.jupyter.widget-view+json": {
       "model_id": "4469e6b45dd147e687d037bbafe82a11",
       "version_major": 2,
       "version_minor": 0
      },
      "text/plain": [
       "AppLayout(children=(GridspecLayout(children=(Dropdown(description='Main Dataset:', layout=Layout(grid_area='wi…"
      ]
     },
     "metadata": {},
     "output_type": "display_data"
    }
   ],
   "source": [
    "# -----Input -------#\n",
    "load_example = True\n",
    "\n",
    "if load_example:\n",
    "    datasets = ft.open_file('../../example_data/EELS_STO.hf5')\n",
    "else:\n",
    "    datasets = ft.open_file()\n",
    "#ft.add_dataset_from_file(datasets, '../example_data/1EELS Acquire (low-loss).dm3', 'Reference')\n",
    "#datasets['Reference_000'].metadata['experiment']['exposure_time'] = datasets['Reference_000'].metadata['experiment']['single_exposure_time'] * datasets['Reference_000'].metadata['experiment']['number_of_frames']\n",
    "info = ieels.InfoWidget(datasets)\n"
   ]
  },
  {
   "cell_type": "code",
   "execution_count": 5,
   "metadata": {
    "scrolled": true
   },
   "outputs": [
    {
     "name": "stdout",
     "output_type": "stream",
     "text": [
      "edges\n",
      "0\n",
      "all_edges\n",
      "L1\n",
      "L2\n",
      "L3\n",
      "1\n",
      "all_edges\n",
      "K1\n",
      "fit_area\n",
      "model\n",
      "experiment\n",
      "DM\n",
      "DocumentObjectList\n",
      "0\n",
      "AnnotationGroupList\n",
      "ImageDisplayInfo\n",
      "CalibrationSliceId\n",
      "DimensionLabels\n",
      "GroupList\n",
      "0\n",
      "GroupToDisplay\n",
      "MainSliceId\n",
      "SliceList\n",
      "0\n",
      "ImageToGroup\n",
      "SliceId\n",
      "ObjectTags\n",
      "DocumentTags\n",
      "Image Behavior\n",
      "UnscaledTransform\n",
      "ZoomAndMoveTransform\n",
      "ImageData\n",
      "Calibrations\n",
      "Brightness\n",
      "Dimension\n",
      "0\n",
      "Dimensions\n",
      "ImageSourceList\n",
      "0\n",
      "Extra Slice Info\n",
      "0\n",
      "Id\n",
      "Id\n",
      "ImageTags\n",
      "Acquisition\n",
      "Device\n",
      "CCD\n",
      "Configuration\n",
      "Transpose\n",
      "Frame\n",
      "Area\n",
      "Transform\n",
      "Transform List\n",
      "0\n",
      "Transpose\n",
      "CCD\n",
      "Intensity\n",
      "Transform\n",
      "Transform List\n",
      "0\n",
      "1\n",
      "Parameters\n",
      "Base Detector\n",
      "Detector\n",
      "Environment\n",
      "High Level\n",
      "Shutter\n",
      "Transform\n",
      "Objects\n",
      "0\n",
      "EELS\n",
      "Acquisition\n",
      "Experimental Conditions\n",
      "EELS Spectrometer\n",
      "Meta Data\n",
      "Microscope Info\n",
      "Session Info\n",
      "Items\n",
      "0\n",
      "1\n",
      "2\n",
      "MinVersionList\n",
      "0\n",
      "Page Behavior\n",
      "PageTransform\n",
      "SentinelList\n",
      "Thumbnails\n",
      "0\n",
      "UniqueID\n"
     ]
    },
    {
     "data": {
      "application/vnd.jupyter.widget-view+json": {
       "model_id": "b229d1ce827f4c50930f0a3b06621be4",
       "version_major": 2,
       "version_minor": 0
      },
      "text/plain": [
       "Dropdown(description='select dataset:', options=('Channel_000: 01_EELS Acquire_STO',), value='Channel_000: 01_…"
      ]
     },
     "metadata": {},
     "output_type": "display_data"
    }
   ],
   "source": [
    "filename='../../example_data/EELS_STO.hf5'\n",
    "\n",
    "datasets=  ft.open_file(filename=filename)\n",
    "chooser = ft.ChooseDataset(datasets)"
   ]
  },
  {
   "cell_type": "code",
   "execution_count": 3,
   "metadata": {},
   "outputs": [
    {
     "data": {
      "application/vnd.jupyter.widget-view+json": {
       "model_id": "335ae0516a784da39e2696fe246a0286",
       "version_major": 2,
       "version_minor": 0
      },
      "image/png": "[encoded data removed]",
      "text/html": [
       "\n",
       "            <div style=\"display: inline-block;\">\n",
       "                <div class=\"jupyter-widgets widget-label\" style=\"text-align: center;\">\n",
       "                    Figure\n",
       "                </div>\n",
       "                <img src='data:image/png;base64,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' width=640.0/>\n",
       "            </div>\n",
       "        "
      ],
      "text/plain": [
       "Canvas(toolbar=Toolbar(toolitems=[('Home', 'Reset original view', 'home', 'home'), ('Back', 'Back to previous …"
      ]
     },
     "metadata": {},
     "output_type": "display_data"
    }
   ],
   "source": [
    "dataset = chooser.dataset\n",
    "view = dataset.plot()\n",
    "plt.show() \n",
    "plt.draw()"
   ]
  },
  {
   "cell_type": "markdown",
   "metadata": {},
   "source": [
    "## Chemical Composition \n",
    "The fit of the cross-section and background to the spectrum results in the chemical composition. If the calibration is correct this composition is given as areal density in atoms/nm$^2$\n",
    "\n",
    "\n"
   ]
  },
  {
   "cell_type": "code",
   "execution_count": 9,
   "metadata": {},
   "outputs": [
    {
     "name": "stdout",
     "output_type": "stream",
     "text": [
      "Auto Quantification\n",
      "\n",
      "Relative composition: \n",
      "Ti: 18.8%  O: 81.2%  \n"
     ]
    }
   ],
   "source": [
    "print('Auto Quantification')\n",
    "eels.auto_chemical_composition(datasets['Channel_000'])"
   ]
  },
  {
   "cell_type": "markdown",
   "metadata": {},
   "source": [
    "###  Fit of Data\n",
    "A dialog window will open, enter the elements first (0 will open a periodic table) and press \n",
    "``Fit Composition`` button (bottom right). Adjust parameters as needed and check fit by pressing the ``Fit Composition`` button again.\n",
    "\n",
    "Select the ``Region`` checkbox to see which parts of the spectrum you choose to fit.\n",
    "\n",
    "Changing the multiplier value will make a simulation of your spectrum.\n",
    "\n",
    "The ``InfoDialog``, if open, still works to change experimental parameters and the energy scale."
   ]
  },
  {
   "cell_type": "code",
   "execution_count": 12,
   "metadata": {
    "tags": []
   },
   "outputs": [
    {
     "data": {
      "application/vnd.jupyter.widget-view+json": {
       "model_id": "5f0ee138bced4ee4a656b39a49e3d8aa",
       "version_major": 2,
       "version_minor": 0
      },
      "text/plain": [
       "AppLayout(children=(GridspecLayout(children=(Button(description='Fit Area', layout=Layout(grid_area='widget001…"
      ]
     },
     "metadata": {},
     "output_type": "display_data"
    }
   ],
   "source": [
    "composition = ieels.CompositionWidget(datasets)"
   ]
  },
  {
   "cell_type": "markdown",
   "metadata": {},
   "source": [
    "### Output of Results"
   ]
  },
  {
   "cell_type": "code",
   "execution_count": 15,
   "metadata": {},
   "outputs": [
    {
     "name": "stdout",
     "output_type": "stream",
     "text": [
      "Relative chemical composition of  01_EELS Acquire_STO\n",
      "Ti: 18.8 %\n",
      "O: 81.2 %\n"
     ]
    }
   ],
   "source": [
    "edges = datasets['Channel_000'].metadata['edges']\n",
    "element = []\n",
    "areal_density = []\n",
    "for key, edge in edges.items():\n",
    "    if key.isdigit():\n",
    "        element.append(edge['element'])\n",
    "        areal_density.append(edge['areal_density'])\n",
    "\n",
    "print('Relative chemical composition of ', datasets['Channel_000'].title)\n",
    "for i in range(len(element)):\n",
    "    print(f'{element[i]}: {areal_density[i]/np.sum(areal_density)*100:.1f} %')\n",
    "    \n",
    "saved_edges_metadata = edges"
   ]
  },
  {
   "cell_type": "markdown",
   "metadata": {},
   "source": [
    "### Log Data\n",
    "All the data associated with quantification are stored in the ``metadata`` attribute. The relevant keys of that dictionary are:  ``experiment`` and  ``edges``."
   ]
  },
  {
   "cell_type": "code",
   "execution_count": 10,
   "metadata": {},
   "outputs": [
    {
     "data": {
      "text/plain": [
       "dict_keys(['experiment', 'filename', 'edges'])"
      ]
     },
     "execution_count": 10,
     "metadata": {},
     "output_type": "execute_result"
    }
   ],
   "source": [
    "dataset.metadata.keys()"
   ]
  },
  {
   "cell_type": "code",
   "execution_count": 11,
   "metadata": {
    "scrolled": true
   },
   "outputs": [
    {
     "data": {
      "text/plain": [
       "{'experiment': {'single_exposure_time': 2.0,\n",
       "  'exposure_time': 20.0,\n",
       "  'number_of_frames': 10,\n",
       "  'collection_angle': 33.0,\n",
       "  'convergence_angle': 30.0,\n",
       "  'acceleration_voltage': 200000.0,\n",
       "  'offset': 350.0,\n",
       "  'dispersion': 0.25,\n",
       "  'binning': 1,\n",
       "  'conversion': 1.0,\n",
       "  'flux_ppm': -1.0,\n",
       "  'flux_unit': 'counts',\n",
       "  'current': 1.0,\n",
       "  'SI_bin_x': 1,\n",
       "  'SI_bin_y': 1},\n",
       " 'filename': 'C:/Users/gduscher/Documents/Github/pyTEMlib/example_data/EELS_STO.dm3',\n",
       " 'edges': {'model': {'background': array([169020.25174338, 168789.78918192, 168559.82605639, ...,\n",
       "            9149.54959508,   9100.75462706,   9051.94875424]),\n",
       "   'background-poly_0': -81470.80833794757,\n",
       "   'background-poly_1': 249.6292062065052,\n",
       "   'background-poly_2': -0.21422944630842575,\n",
       "   'background-A': 12172261631.904371,\n",
       "   'background-r': 1.8899156398038295,\n",
       "   'spectrum': array([176470.83278946, 176223.47467571, 175976.61599788, ...,\n",
       "           13245.7753568 ,  13191.95820283,  13138.13014407]),\n",
       "   'blurred': array([183081.86 , 183025.38 , 182917.77 , ...,  23102.238,  23095.361,\n",
       "           23091.861], dtype=float32),\n",
       "   'mask': array([0., 0., 0., ..., 1., 0., 1.]),\n",
       "   'fit_parameter': array([ 4.59670802e+12,  1.48706380e+13,  2.14449459e+05,  3.23511906e+04,\n",
       "           3.23511906e+04,  3.23511906e+04, -8.14708083e+04,  2.49629206e+02,\n",
       "          -2.14229446e-01]),\n",
       "   'fit_area_start': 362.5,\n",
       "   'fit_area_end': 861.5},\n",
       "  'use_low_loss': False,\n",
       "  '0': {'z': 22,\n",
       "   'symmetry': 'L3',\n",
       "   'element': 'Ti',\n",
       "   'onset': 455.5,\n",
       "   'end_exclude': 505.5,\n",
       "   'start_exclude': 450.5,\n",
       "   'all_edges': {'L3': {'onset': 455.5},\n",
       "    'L2': {'onset': 461.5},\n",
       "    'L1': {'onset': 563.6999999999999}},\n",
       "   'chemical_shift': 0.0,\n",
       "   'areal_density': 4596708022990.737,\n",
       "   'original_onset': 455.5,\n",
       "   'data': array([9.75030542e-10, 9.72936517e-10, 9.70842492e-10, ...,\n",
       "          4.76621339e-10, 4.76045667e-10, 4.75469995e-10]),\n",
       "   'X_section_type': 'XRPA',\n",
       "   'X_section_source': 'pyTEMlib'},\n",
       "  '1': {'z': 8,\n",
       "   'symmetry': 'K1',\n",
       "   'element': 'O',\n",
       "   'onset': 532.0,\n",
       "   'end_exclude': 582.0,\n",
       "   'start_exclude': 527.0,\n",
       "   'all_edges': {'K1': {'onset': 532.0}},\n",
       "   'chemical_shift': 0.0,\n",
       "   'areal_density': 14870637969963.275,\n",
       "   'original_onset': 532.0,\n",
       "   'data': array([1.99631645e-10, 1.99142767e-10, 1.98653888e-10, ...,\n",
       "          1.28127406e-10, 1.27967629e-10, 1.27807852e-10]),\n",
       "   'X_section_type': 'XRPA',\n",
       "   'X_section_source': 'pyTEMlib'},\n",
       "  '2': {'z': 52,\n",
       "   'symmetry': 'M3',\n",
       "   'element': 'Te',\n",
       "   'onset': 818.6999999999999,\n",
       "   'end_exclude': 861.25,\n",
       "   'start_exclude': 813.6999999999999,\n",
       "   'all_edges': {'M5': {'onset': 572.1},\n",
       "    'M4': {'onset': 582.5},\n",
       "    'M3': {'onset': 818.6999999999999}},\n",
       "   'chemical_shift': 0.0,\n",
       "   'areal_density': 214449.4593395918,\n",
       "   'original_onset': 818.6999999999999,\n",
       "   'data': array([1.94023197e-09, 1.93800932e-09, 1.93578667e-09, ...,\n",
       "          1.65155976e-09, 1.64981869e-09, 1.64807763e-09]),\n",
       "   'X_section_type': 'XRPA',\n",
       "   'X_section_source': 'pyTEMlib'},\n",
       "  'fit_area': {'fit_start': 362.5, 'fit_end': 861.5}}}"
      ]
     },
     "execution_count": 11,
     "metadata": {},
     "output_type": "execute_result"
    },
    {
     "name": "stdout",
     "output_type": "stream",
     "text": [
      "Could not find no edge of 1 in spectrum\n",
      "Could not find no edge of 1 in spectrum\n"
     ]
    }
   ],
   "source": [
    "dataset.metadata"
   ]
  },
  {
   "cell_type": "markdown",
   "metadata": {},
   "source": [
    "## ELNES\n",
    "The electron energy-loss near edge structure is determined by fititng the spectrum after quantification model subtraction. \n",
    "\n",
    "First smooth the spectrum (only 0 iteration available at this time) and then \n",
    "find the number of peaks you want (Can be repeated as oftern as one wants).\n",
    "\n",
    "Please note that the peaks do not necessarily have a physcial meaning as there are peaks with \n",
    "positive and negative amplitudes. The goal is to get a smooth representation of the spectrum.\n",
    "A difference of a good fit and the data should result in a residual of noise only. To achieve such a good fit, the careful setting of the edge onset is important.\n"
   ]
  },
  {
   "cell_type": "code",
   "execution_count": 12,
   "metadata": {},
   "outputs": [
    {
     "name": "stdout",
     "output_type": "stream",
     "text": [
      "Fitting peaks...\n",
      "Core loss model found. Fitting on top of the model.\n"
     ]
    }
   ],
   "source": [
    "peak_dialog = ieels.PeakFitDialog(dataset)"
   ]
  },
  {
   "cell_type": "markdown",
   "metadata": {},
   "source": [
    "### Output"
   ]
  },
  {
   "cell_type": "code",
   "execution_count": null,
   "metadata": {},
   "outputs": [],
   "source": [
    "areas = []\n",
    "for p, peak in peak_dialog.peaks['peaks'].items():\n",
    "    area = np.sqrt(2* np.pi)* peak['amplitude'] * np.abs(peak['width'] / np.sqrt(2 *np.log(2))) \n",
    "    areas.append(area)\n",
    "    if 'associated_edge' not in peak:\n",
    "        peak['associated_edge']= ''\n",
    "    print(f\"peak  {p}: position: {peak['position']:7.1f}, area: {area:12.3f} associated edge: {peak['associated_edge']}\")\n",
    "#print(f'\\n M4/M5 peak 2 to peak 1 ratio: {(areas[1])/areas[0]:.2f}')"
   ]
  },
  {
   "cell_type": "markdown",
   "metadata": {},
   "source": [
    "### Log Data\n",
    "All the data associated with quantification are stored in the ``metadata`` attribute. \n",
    "The new key in that dictionary is: ``peak_fit``."
   ]
  },
  {
   "cell_type": "code",
   "execution_count": null,
   "metadata": {},
   "outputs": [],
   "source": [
    "dataset.metadata.keys()"
   ]
  },
  {
   "cell_type": "markdown",
   "metadata": {
    "hideCode": false,
    "hidePrompt": true
   },
   "source": [
    "## Save and Close File\n",
    "The dataset with the metadata should be saved for further quantification. \n",
    "The file needs to be closed to be used with other notebooks."
   ]
  },
  {
   "cell_type": "code",
   "execution_count": null,
   "metadata": {
    "hideCode": false,
    "hidePrompt": true
   },
   "outputs": [],
   "source": [
    "h5_group = ft.save_dataset(datasets, '../../example_data/EELS_STO.hf5')\n",
    "h5_group.file.close()"
   ]
  },
  {
   "cell_type": "code",
   "execution_count": null,
   "metadata": {},
   "outputs": [],
   "source": []
  }
 ],
 "metadata": {
  "hide_code_all_hidden": true,
  "kernelspec": {
   "display_name": "ase",
   "language": "python",
   "name": "ase"
  },
  "language_info": {
   "codemirror_mode": {
    "name": "ipython",
    "version": 3
   },
   "file_extension": ".py",
   "mimetype": "text/x-python",
   "name": "python",
   "nbconvert_exporter": "python",
   "pygments_lexer": "ipython3",
   "version": "3.10.8"
  },
  "toc": {
   "base_numbering": 1,
   "nav_menu": {},
   "number_sections": true,
   "sideBar": true,
   "skip_h1_title": false,
   "title_cell": "Table of Contents",
   "title_sidebar": "Contents",
   "toc_cell": false,
   "toc_position": {
    "height": "calc(100% - 180px)",
    "left": "10px",
    "top": "150px",
    "width": "270px"
   },
   "toc_section_display": true,
   "toc_window_display": false
  },
  "varInspector": {
   "cols": {
    "lenName": 16,
    "lenType": 16,
    "lenVar": 40
   },
   "kernels_config": {
    "python": {
     "delete_cmd_postfix": "",
     "delete_cmd_prefix": "del ",
     "library": "var_list.py",
     "varRefreshCmd": "print(var_dic_list())"
    },
    "r": {
     "delete_cmd_postfix": ") ",
     "delete_cmd_prefix": "rm(",
     "library": "var_list.r",
     "varRefreshCmd": "cat(var_dic_list()) "
    }
   },
   "types_to_exclude": [
    "module",
    "function",
    "builtin_function_or_method",
    "instance",
    "_Feature"
   ],
   "window_display": false
  }
 },
 "nbformat": 4,
 "nbformat_minor": 4
}
