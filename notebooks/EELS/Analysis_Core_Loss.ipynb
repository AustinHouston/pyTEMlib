{
 "cells": [
  {
   "cell_type": "markdown",
   "metadata": {
    "hideCode": true,
    "hidePrompt": true
   },
   "source": [
    "<font size = \"5\"> **EELS_Tools:  [Spectroscopy](../4_EELS_Tools.ipynb)** </font>\n",
    "\n",
    "<hr style=\"height:1px;border-top:4px solid #FF8200\" />\n",
    "\n",
    "# Analysis of Core-Loss EELS Spectra\n",
    "<br>\n",
    "\n",
    "<link rel=\"stylesheet\" href=\"https://cdnjs.cloudflare.com/ajax/libs/font-awesome/4.7.0/css/font-awesome.min.css\">\n",
    "\n",
    "<!-- Auto width -->\n",
    "<a href=\"https://raw.githubusercontent.com/pycroscopy/pyTEMlib/main/notebooks/EELS/Analysis_Core_Loss.ipynb\" download><button class=\"btn\"><i class=\"fa fa-download\"></i> Download</button></a>\n",
    "\n",
    "[![Open In Colab](https://colab.research.google.com/assets/colab-badge.svg)](\n",
    "    https://colab.research.google.com/github/pycroscopy/pyTEMlib/blob/main/notebooks/EELS/Analysis_Core_Loss.ipynb)\n",
    "    \n",
    "part of \n",
    "\n",
    "<font size = \"5\"> **[pyTEMlib](https://pycroscopy.github.io/pyTEMlib/about.html)**</font>\n",
    "\n",
    "a [pycroscopy](https://pycroscopy.github.io/pycroscopy/about.html) ecosystem package\n",
    "\n",
    "\n",
    "Notebook by Gerd Duscher, 2023\n",
    "\n",
    "Microscopy Facilities<br>\n",
    "Institute of Advanced Materials & Manufacturing<br>\n",
    "The University of Tennessee, Knoxville\n",
    "\n",
    "Model based analysis and quantification of data acquired with transmission electron microscopes\n",
    "\n",
    "\n"
   ]
  },
  {
   "cell_type": "markdown",
   "metadata": {},
   "source": [
    "<link rel=\"stylesheet\" href=\"https://cdnjs.cloudflare.com/ajax/libs/font-awesome/4.7.0/css/font-awesome.min.css\">\n",
    "\n",
    "<!-- Auto width -->\n",
    "[<button class=\"btn\"><i class=\"fa fa-download\"></i> Download</button>](https://raw.githubusercontent.com/pycroscopy/pyTEMlib/main/notebooks/EELS/Analysis_Core_Loss.ipynb)"
   ]
  },
  {
   "cell_type": "markdown",
   "metadata": {
    "tags": []
   },
   "source": [
    "\n",
    "  <a href=\"https://raw.githubusercontent.com/pycroscopy/pyTEMlib/main/notebooks/EELS/Analysis_Core_Loss.ipynb\" download><button class=\"btn\"><i class=\"fa fa-download\"></i> Download</button></a>\n"
   ]
  },
  {
   "cell_type": "markdown",
   "metadata": {
    "hideCode": true,
    "hidePrompt": true
   },
   "source": [
    "## Content\n",
    "\n",
    "Quantitative determination of chemical composition from a core-loss EELS spectrum\n",
    "\n",
    "\n",
    "Relavant notebooks in course [MSE 672: Introduction to TEM]()  give an in depth explanation of the method.\n",
    "\n",
    "Please cite:\n",
    "\n",
    "[M. Tian et  al. *Measuring the areal density of nanomaterials by electron energy-loss spectroscopy*\n",
    "Ultramicroscopy Volume 196, 2019, pages 154-160](https://doi.org/10.1016/j.ultramic.2018.10.009)\n",
    "\n",
    "as a reference of this quantification method.\n",
    "\n",
    "## Prerequesites\n",
    "This notebook will only run with  ``pyTEMlib version 0.2023.5.0`` or higher.\n",
    "\n",
    "### Install missing packages\n",
    "This can take a while for the first time. This code will have to run at least once on your computer and for each colab session."
   ]
  },
  {
   "cell_type": "code",
   "execution_count": 1,
   "metadata": {},
   "outputs": [
    {
     "name": "stdout",
     "output_type": "stream",
     "text": [
      "done\n"
     ]
    }
   ],
   "source": [
    "import sys\n",
    "\n",
    "from pkg_resources import get_distribution, DistributionNotFound\n",
    "\n",
    "def test_package(package_name):\n",
    "    \"\"\"Test if package exists and returns version or -1\"\"\"\n",
    "    try:\n",
    "        version = (get_distribution(package_name).version)\n",
    "    except (DistributionNotFound, ImportError) as err:\n",
    "        version = '-1'\n",
    "    return version\n",
    "\n",
    "\n",
    "# pyTEMlib setup ------------------\n",
    "if test_package('pyTEMlib') < '0.2023.5.0':\n",
    "    print('installing pyTEMlib')\n",
    "    !{sys.executable} -m pip install git+https://github.com/pycroscopy/sidpy.git@rama_dev\n",
    "    !{sys.executable} -m pip install git+https://github.com/pycroscopy/SciFiReaders.git@main -q\n",
    "    !{sys.executable} -m pip install git+https://github.com/pycroscopy/pyTEMlib.git@main -q --upgrade\n",
    "    \n",
    "# ------------------------------\n",
    "print('done')"
   ]
  },
  {
   "cell_type": "code",
   "execution_count": 7,
   "metadata": {},
   "outputs": [
    {
     "name": "stdout",
     "output_type": "stream",
     "text": [
      "Requirement already satisfied: ipympl in c:\\users\\gduscher\\appdata\\local\\anaconda3\\envs\\pyter\\lib\\site-packages (0.9.3)\n",
      "Requirement already satisfied: matplotlib<4,>=3.4.0 in c:\\users\\gduscher\\appdata\\local\\anaconda3\\envs\\pyter\\lib\\site-packages (from ipympl) (3.7.1)\n",
      "Requirement already satisfied: ipython<9 in c:\\users\\gduscher\\appdata\\local\\anaconda3\\envs\\pyter\\lib\\site-packages (from ipympl) (8.13.2)\n",
      "Requirement already satisfied: ipywidgets<9,>=7.6.0 in c:\\users\\gduscher\\appdata\\local\\anaconda3\\envs\\pyter\\lib\\site-packages (from ipympl) (8.0.6)\n",
      "Requirement already satisfied: pillow in c:\\users\\gduscher\\appdata\\local\\anaconda3\\envs\\pyter\\lib\\site-packages (from ipympl) (9.4.0)\n",
      "Requirement already satisfied: traitlets<6 in c:\\users\\gduscher\\appdata\\local\\anaconda3\\envs\\pyter\\lib\\site-packages (from ipympl) (5.7.1)\n",
      "Requirement already satisfied: numpy in c:\\users\\gduscher\\appdata\\local\\anaconda3\\envs\\pyter\\lib\\site-packages (from ipympl) (1.24.3)\n",
      "Requirement already satisfied: ipython-genutils in c:\\users\\gduscher\\appdata\\local\\anaconda3\\envs\\pyter\\lib\\site-packages (from ipympl) (0.2.0)\n",
      "Requirement already satisfied: jedi>=0.16 in c:\\users\\gduscher\\appdata\\local\\anaconda3\\envs\\pyter\\lib\\site-packages (from ipython<9->ipympl) (0.18.1)\n",
      "Requirement already satisfied: backcall in c:\\users\\gduscher\\appdata\\local\\anaconda3\\envs\\pyter\\lib\\site-packages (from ipython<9->ipympl) (0.2.0)\n",
      "Requirement already satisfied: matplotlib-inline in c:\\users\\gduscher\\appdata\\local\\anaconda3\\envs\\pyter\\lib\\site-packages (from ipython<9->ipympl) (0.1.6)\n",
      "Requirement already satisfied: prompt-toolkit!=3.0.37,<3.1.0,>=3.0.30 in c:\\users\\gduscher\\appdata\\local\\anaconda3\\envs\\pyter\\lib\\site-packages (from ipython<9->ipympl) (3.0.38)\n",
      "Requirement already satisfied: pickleshare in c:\\users\\gduscher\\appdata\\local\\anaconda3\\envs\\pyter\\lib\\site-packages (from ipython<9->ipympl) (0.7.5)\n",
      "Requirement already satisfied: decorator in c:\\users\\gduscher\\appdata\\local\\anaconda3\\envs\\pyter\\lib\\site-packages (from ipython<9->ipympl) (5.1.1)\n",
      "Requirement already satisfied: stack-data in c:\\users\\gduscher\\appdata\\local\\anaconda3\\envs\\pyter\\lib\\site-packages (from ipython<9->ipympl) (0.2.0)\n",
      "Requirement already satisfied: colorama in c:\\users\\gduscher\\appdata\\local\\anaconda3\\envs\\pyter\\lib\\site-packages (from ipython<9->ipympl) (0.4.6)\n",
      "Requirement already satisfied: pygments>=2.4.0 in c:\\users\\gduscher\\appdata\\local\\anaconda3\\envs\\pyter\\lib\\site-packages (from ipython<9->ipympl) (2.11.2)\n",
      "Requirement already satisfied: ipykernel>=4.5.1 in c:\\users\\gduscher\\appdata\\local\\anaconda3\\envs\\pyter\\lib\\site-packages (from ipywidgets<9,>=7.6.0->ipympl) (6.23.1)\n",
      "Requirement already satisfied: widgetsnbextension~=4.0.7 in c:\\users\\gduscher\\appdata\\local\\anaconda3\\envs\\pyter\\lib\\site-packages (from ipywidgets<9,>=7.6.0->ipympl) (4.0.7)\n",
      "Requirement already satisfied: jupyterlab-widgets~=3.0.7 in c:\\users\\gduscher\\appdata\\local\\anaconda3\\envs\\pyter\\lib\\site-packages (from ipywidgets<9,>=7.6.0->ipympl) (3.0.7)\n",
      "Requirement already satisfied: contourpy>=1.0.1 in c:\\users\\gduscher\\appdata\\local\\anaconda3\\envs\\pyter\\lib\\site-packages (from matplotlib<4,>=3.4.0->ipympl) (1.0.5)\n",
      "Requirement already satisfied: python-dateutil>=2.7 in c:\\users\\gduscher\\appdata\\local\\anaconda3\\envs\\pyter\\lib\\site-packages (from matplotlib<4,>=3.4.0->ipympl) (2.8.2)\n",
      "Requirement already satisfied: pyparsing>=2.3.1 in c:\\users\\gduscher\\appdata\\local\\anaconda3\\envs\\pyter\\lib\\site-packages (from matplotlib<4,>=3.4.0->ipympl) (3.0.9)\n",
      "Requirement already satisfied: packaging>=20.0 in c:\\users\\gduscher\\appdata\\local\\anaconda3\\envs\\pyter\\lib\\site-packages (from matplotlib<4,>=3.4.0->ipympl) (23.0)\n",
      "Requirement already satisfied: kiwisolver>=1.0.1 in c:\\users\\gduscher\\appdata\\local\\anaconda3\\envs\\pyter\\lib\\site-packages (from matplotlib<4,>=3.4.0->ipympl) (1.4.4)\n",
      "Requirement already satisfied: cycler>=0.10 in c:\\users\\gduscher\\appdata\\local\\anaconda3\\envs\\pyter\\lib\\site-packages (from matplotlib<4,>=3.4.0->ipympl) (0.11.0)\n",
      "Requirement already satisfied: fonttools>=4.22.0 in c:\\users\\gduscher\\appdata\\local\\anaconda3\\envs\\pyter\\lib\\site-packages (from matplotlib<4,>=3.4.0->ipympl) (4.25.0)\n",
      "Requirement already satisfied: jupyter-core!=5.0.*,>=4.12 in c:\\users\\gduscher\\appdata\\local\\anaconda3\\envs\\pyter\\lib\\site-packages (from ipykernel>=4.5.1->ipywidgets<9,>=7.6.0->ipympl) (5.3.0)\n",
      "Requirement already satisfied: jupyter-client>=6.1.12 in c:\\users\\gduscher\\appdata\\local\\anaconda3\\envs\\pyter\\lib\\site-packages (from ipykernel>=4.5.1->ipywidgets<9,>=7.6.0->ipympl) (8.1.0)\n",
      "Requirement already satisfied: debugpy>=1.6.5 in c:\\users\\gduscher\\appdata\\local\\anaconda3\\envs\\pyter\\lib\\site-packages (from ipykernel>=4.5.1->ipywidgets<9,>=7.6.0->ipympl) (1.6.7)\n",
      "Requirement already satisfied: psutil in c:\\users\\gduscher\\appdata\\local\\anaconda3\\envs\\pyter\\lib\\site-packages (from ipykernel>=4.5.1->ipywidgets<9,>=7.6.0->ipympl) (5.9.0)\n",
      "Requirement already satisfied: nest-asyncio in c:\\users\\gduscher\\appdata\\local\\anaconda3\\envs\\pyter\\lib\\site-packages (from ipykernel>=4.5.1->ipywidgets<9,>=7.6.0->ipympl) (1.5.6)\n",
      "Requirement already satisfied: comm>=0.1.1 in c:\\users\\gduscher\\appdata\\local\\anaconda3\\envs\\pyter\\lib\\site-packages (from ipykernel>=4.5.1->ipywidgets<9,>=7.6.0->ipympl) (0.1.2)\n",
      "Requirement already satisfied: pyzmq>=20 in c:\\users\\gduscher\\appdata\\local\\anaconda3\\envs\\pyter\\lib\\site-packages (from ipykernel>=4.5.1->ipywidgets<9,>=7.6.0->ipympl) (25.0.2)\n",
      "Requirement already satisfied: tornado>=6.1 in c:\\users\\gduscher\\appdata\\local\\anaconda3\\envs\\pyter\\lib\\site-packages (from ipykernel>=4.5.1->ipywidgets<9,>=7.6.0->ipympl) (6.2)\n",
      "Requirement already satisfied: parso<0.9.0,>=0.8.0 in c:\\users\\gduscher\\appdata\\local\\anaconda3\\envs\\pyter\\lib\\site-packages (from jedi>=0.16->ipython<9->ipympl) (0.8.3)\n",
      "Requirement already satisfied: wcwidth in c:\\users\\gduscher\\appdata\\local\\anaconda3\\envs\\pyter\\lib\\site-packages (from prompt-toolkit!=3.0.37,<3.1.0,>=3.0.30->ipython<9->ipympl) (0.2.5)\n",
      "Requirement already satisfied: six>=1.5 in c:\\users\\gduscher\\appdata\\local\\anaconda3\\envs\\pyter\\lib\\site-packages (from python-dateutil>=2.7->matplotlib<4,>=3.4.0->ipympl) (1.16.0)\n",
      "Requirement already satisfied: pure-eval in c:\\users\\gduscher\\appdata\\local\\anaconda3\\envs\\pyter\\lib\\site-packages (from stack-data->ipython<9->ipympl) (0.2.2)\n",
      "Requirement already satisfied: executing in c:\\users\\gduscher\\appdata\\local\\anaconda3\\envs\\pyter\\lib\\site-packages (from stack-data->ipython<9->ipympl) (0.8.3)\n",
      "Requirement already satisfied: asttokens in c:\\users\\gduscher\\appdata\\local\\anaconda3\\envs\\pyter\\lib\\site-packages (from stack-data->ipython<9->ipympl) (2.0.5)\n",
      "Requirement already satisfied: platformdirs>=2.5 in c:\\users\\gduscher\\appdata\\local\\anaconda3\\envs\\pyter\\lib\\site-packages (from jupyter-core!=5.0.*,>=4.12->ipykernel>=4.5.1->ipywidgets<9,>=7.6.0->ipympl) (2.5.2)\n",
      "Requirement already satisfied: pywin32>=300 in c:\\users\\gduscher\\appdata\\local\\anaconda3\\envs\\pyter\\lib\\site-packages (from jupyter-core!=5.0.*,>=4.12->ipykernel>=4.5.1->ipywidgets<9,>=7.6.0->ipympl) (305.1)\n"
     ]
    }
   ],
   "source": [
    "!{sys.executable} -m pip install ipympl --upgrade"
   ]
  },
  {
   "cell_type": "markdown",
   "metadata": {
    "hideCode": false,
    "hidePrompt": false
   },
   "source": [
    "### Load the relevant packages"
   ]
  },
  {
   "cell_type": "code",
   "execution_count": 2,
   "metadata": {
    "hideCode": true,
    "hidePrompt": false
   },
   "outputs": [
    {
     "name": "stdout",
     "output_type": "stream",
     "text": [
      "You don't have igor installed.     If you wish to open igor files, you will need to install it     (pip install igor) before attempting.\n",
      "You don't have gwyfile installed.     If you wish to open .gwy files, you will need to      install it (pip install gwyfile) before attempting.\n",
      "Symmetry functions of spglib enabled\n",
      "SimpleITK not installed; Registration Functions for Image Stacks not available\n",
      "install with: conda install -c simpleitk simpleitk \n",
      "pyTEMlib version:  0.2023.5.1\n"
     ]
    }
   ],
   "source": [
    "%matplotlib ipympl\n",
    "import numpy as np\n",
    "import matplotlib.pylab as plt \n",
    "import sys\n",
    "\n",
    "if 'google.colab' in sys.modules:\n",
    "    from google.colab import output\n",
    "    output.enable_custom_widget_manager()\n",
    "    from google.colab import drive\n",
    "else:\n",
    "    %gui qt5\n",
    "sys.path.insert(0, '../../')\n",
    "%load_ext autoreload\n",
    "%autoreload 2\n",
    "import pyTEMlib\n",
    "import pyTEMlib.file_tools as ft     # File input/ output library\n",
    "import pyTEMlib.image_tools as it\n",
    "import pyTEMlib.eels_tools  as eels        # EELS methods \n",
    "\n",
    "import pyTEMlib.interactive_eels as ieels  # Dialogs for EELS input and quantification\n",
    "\n",
    "# For archiving reasons it is a good idea to print the version numbers out at this point\n",
    "print('pyTEMlib version: ', pyTEMlib.__version__)\n",
    "if pyTEMlib.__version__ < '0.2023.3.0':\n",
    "    print('This version of pyTEMlib will not work with this notebook')\n",
    "    print('Please install new pyTEMlib version with code cell above first and then restart this notebook!')\n",
    "    \n",
    "__notebook__ = 'analyze_core_loss'\n",
    "__notebook_version__ = '2023_03_20'\n",
    "\n",
    "if 'google.colab' in sys.modules:\n",
    "    drive.mount(\"/content/drive\")"
   ]
  },
  {
   "cell_type": "markdown",
   "metadata": {},
   "source": [
    "## Load and plot a spectrum\n",
    "\n",
    "As an example we load the spectrum **1EELS Acquire (high-loss).dm3** from the *example data* folder.\n",
    "\n",
    "Please see [Loading an EELS Spectrum](LoadEELS.ipynb) for details on storage and plotting.\n",
    "\n",
    "First a dialog to select a file will apear.\n",
    "\n",
    "Then the spectrum plot and ``Spectrum Info`` dialog will appear, in which we set the experimental parameters.\n",
    "\n",
    "Please use the ``Set Energy Scale`` button to change the energy scale. When pressed a new dialog and a cursor will appear in which one is able to set the energy scale based on known features in the spectrum.\n"
   ]
  },
  {
   "cell_type": "code",
   "execution_count": 103,
   "metadata": {},
   "outputs": [
    {
     "data": {
      "application/vnd.jupyter.widget-view+json": {
       "model_id": "73eab2189549444e944907da915c18ed",
       "version_major": 2,
       "version_minor": 0
      },
      "text/plain": [
       "VBox(children=(Dropdown(description='directory:', layout=Layout(width='90%'), options=('C:\\\\Users\\\\gduscher\\\\D…"
      ]
     },
     "metadata": {},
     "output_type": "display_data"
    }
   ],
   "source": [
    "# -----Input -------#\n",
    "load_example = False\n",
    "\n",
    "if load_example:\n",
    "    datasets = ft.open_file('../../example_data/EELS_STO3.hf5')\n",
    "else:  \n",
    "    fileWidget = ft.FileWidget()"
   ]
  },
  {
   "cell_type": "code",
   "execution_count": 104,
   "metadata": {
    "tags": []
   },
   "outputs": [
    {
     "data": {
      "application/vnd.jupyter.widget-view+json": {
       "model_id": "1c5f299fec4a41dfb7b289d71691ce1a",
       "version_major": 2,
       "version_minor": 0
      },
      "image/png": "[encoded data removed]",
      "text/html": [
       "\n",
       "            <div style=\"display: inline-block;\">\n",
       "                <div class=\"jupyter-widgets widget-label\" style=\"text-align: center;\">\n",
       "                    Figure\n",
       "                </div>\n",
       "                <img src='data:image/png;base64,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' width=640.0/>\n",
       "            </div>\n",
       "        "
      ],
      "text/plain": [
       "Canvas(toolbar=Toolbar(toolitems=[('Home', 'Reset original view', 'home', 'home'), ('Back', 'Back to previous …"
      ]
     },
     "metadata": {},
     "output_type": "display_data"
    }
   ],
   "source": [
    "v = fileWidget.selected_dataset.plot()"
   ]
  },
  {
   "cell_type": "code",
   "execution_count": 106,
   "metadata": {},
   "outputs": [
    {
     "data": {
      "application/vnd.jupyter.widget-view+json": {
       "model_id": "8f2551c9f63e49a4a5180eed5a45b824",
       "version_major": 2,
       "version_minor": 0
      },
      "text/plain": [
       "AppLayout(children=(GridspecLayout(children=(Dropdown(description='Main Dataset:', layout=Layout(grid_area='wi…"
      ]
     },
     "metadata": {},
     "output_type": "display_data"
    }
   ],
   "source": [
    "if not load_example:\n",
    "    datasets = fileWidget.datasets\n",
    "infoWidget= ieels.InfoWidget(datasets)\n"
   ]
  },
  {
   "cell_type": "markdown",
   "metadata": {},
   "source": [
    "## Chemical Composition \n",
    "The fit of the cross-section and background to the spectrum results in the chemical composition. If the calibration is correct this composition is given as areal density in atoms/nm$^2$\n",
    "\n",
    "\n"
   ]
  },
  {
   "cell_type": "code",
   "execution_count": null,
   "metadata": {},
   "outputs": [],
   "source": [
    "print('Auto Quantification')\n",
    "eels.auto_chemical_composition(infoWidget.dataset)"
   ]
  },
  {
   "cell_type": "markdown",
   "metadata": {},
   "source": [
    "###  Fit of Data\n",
    "A dialog window will open, enter the elements first (0 will open a periodic table) and press \n",
    "``Fit Composition`` button (bottom right). Adjust parameters as needed and check fit by pressing the ``Fit Composition`` button again.\n",
    "\n",
    "Select the ``Region`` checkbox to see which parts of the spectrum you choose to fit.\n",
    "\n",
    "Changing the multiplier value will make a simulation of your spectrum.\n",
    "\n",
    "The ``InfoDialog``, if open, still works to change experimental parameters and the energy scale."
   ]
  },
  {
   "cell_type": "code",
   "execution_count": 108,
   "metadata": {
    "tags": []
   },
   "outputs": [],
   "source": [
    "del (datasets['Channel_000'].metadata['edges'])"
   ]
  },
  {
   "cell_type": "code",
   "execution_count": 83,
   "metadata": {
    "tags": []
   },
   "outputs": [],
   "source": [
    "import matplotlib\n",
    "matplotlib.pyplot.close('all')"
   ]
  },
  {
   "cell_type": "code",
   "execution_count": 109,
   "metadata": {
    "tags": []
   },
   "outputs": [
    {
     "data": {
      "application/vnd.jupyter.widget-view+json": {
       "model_id": "718e2804648d4de8b629d333b712a761",
       "version_major": 2,
       "version_minor": 0
      },
      "text/plain": [
       "AppLayout(children=(GridspecLayout(children=(ToggleButton(value=False, button_style='info', description='Fit A…"
      ]
     },
     "metadata": {},
     "output_type": "display_data"
    }
   ],
   "source": [
    "compositionWidget = ieels.CompositionWidget(datasets)"
   ]
  },
  {
   "cell_type": "code",
   "execution_count": 13,
   "metadata": {
    "tags": []
   },
   "outputs": [],
   "source": [
    "compositionWidget.modify_onset()\n"
   ]
  },
  {
   "cell_type": "markdown",
   "metadata": {},
   "source": [
    "### Output of Results"
   ]
  },
  {
   "cell_type": "code",
   "execution_count": 97,
   "metadata": {},
   "outputs": [
    {
     "name": "stdout",
     "output_type": "stream",
     "text": [
      "Relative chemical composition of  Merve SrTiO4 EELS low loss spectra 0.1 disp 500 ev\n",
      "Ti: 17.9 %\n",
      "O: 82.1 %\n"
     ]
    }
   ],
   "source": [
    "edges = compositionWidget.dataset.metadata['edges']\n",
    "element = []\n",
    "areal_density = []\n",
    "for key, edge in edges.items():\n",
    "    if key.isdigit():\n",
    "        element.append(edge['element'])\n",
    "        areal_density.append(edge['areal_density'])\n",
    "\n",
    "print('Relative chemical composition of ', compositionWidget.dataset.title)\n",
    "for i in range(len(element)):\n",
    "    print(f'{element[i]}: {areal_density[i]/np.sum(areal_density)*100:.1f} %')\n",
    "    \n",
    "saved_edges_metadata = edges"
   ]
  },
  {
   "cell_type": "markdown",
   "metadata": {},
   "source": [
    "### Log Data\n",
    "All the data associated with quantification are stored in the ``metadata`` attribute. The relevant keys of that dictionary are:  ``experiment`` and  ``edges``."
   ]
  },
  {
   "cell_type": "code",
   "execution_count": 7,
   "metadata": {},
   "outputs": [
    {
     "data": {
      "text/plain": [
       "dict_keys(['experiment', 'filename', 'edges'])"
      ]
     },
     "execution_count": 7,
     "metadata": {},
     "output_type": "execute_result"
    }
   ],
   "source": [
    "compositionWidget.dataset.metadata.keys()"
   ]
  },
  {
   "cell_type": "code",
   "execution_count": 8,
   "metadata": {
    "scrolled": true
   },
   "outputs": [
    {
     "name": "stdout",
     "output_type": "stream",
     "text": [
      "experiment :\n",
      "\tsingle_exposure_time : 1.0\n",
      "\texposure_time : 10.0\n",
      "\tnumber_of_frames : 10\n",
      "\tcollection_angle : 40.0\n",
      "\tconvergence_angle : 10.0\n",
      "\tmicroscope : \n",
      "\tacceleration_voltage : 200000.0\n",
      "\tflux_ppm : 122228.49553999992\n",
      "\tcount_conversion : 1\n",
      "\tbeam_current : 0\n",
      "filename : C:\\Users\\gduscher\\Documents\\Github\\2023-04018-T1-3\\Gellerup SrTiO4 EELS Ti and O edge spectra 60mu 1s 0.2 disp.dm3\n",
      "edges :\n",
      "\tmodel :\n",
      "\t\tbackground : energy_loss:  energy-loss (energy_loss) of size (2048,)\n",
      "\t\tbackground-poly_0 : 630802.0962696614\n",
      "\t\tbackground-poly_1 : -2915.5152880410187\n",
      "\t\tbackground-poly_2 : 2.554959550281556\n",
      "\t\tbackground-A : 55811144277.94749\n",
      "\t\tbackground-r : 1.8223351721836667\n",
      "\t\tspectrum : energy_loss:  energy-loss (energy_loss) of size (2048,)\n",
      "\t\tblurred : [1564512.9  1567874.5  1574252.1  ...  343700.06  343373.5   343206.78]\n",
      "\t\tmask : [0. 0. 0. ... 1. 1. 1.]\n",
      "\t\tfit_parameter : [ 6.84535626e+13  3.04470742e+14  2.98252875e+05  2.98252875e+05\n",
      "  2.98252875e+05  2.98252875e+05  6.30802096e+05 -2.91551529e+03\n",
      "  2.55495955e+00]\n",
      "\t\tfit_area_start : 321.526\n",
      "\t\tfit_area_end : 687.27\n",
      "\tuse_low_loss : False\n",
      "\tfit_area :\n",
      "\t\tfit_start : 321.526\n",
      "\t\tfit_end : 687.27\n",
      "\t0 :\n",
      "\t\tz : 22\n",
      "\t\tsymmetry : L3\n",
      "\t\telement : Ti\n",
      "\t\tonset : 455.5\n",
      "\t\tend_exclude : 505.5\n",
      "\t\tstart_exclude : 450.5\n",
      "\t\tall_edges :\n",
      "\t\t\tL3 :\n",
      "\t\t\t\tonset : 455.5\n",
      "\t\t\tL2 :\n",
      "\t\t\t\tonset : 461.5\n",
      "\t\t\tL1 :\n",
      "\t\t\t\tonset : 563.6999999999999\n",
      "\t\tchemical_shift : 0.0\n",
      "\t\tareal_density : 68453562625855.14\n",
      "\t\toriginal_onset : 455.5\n",
      "\t\tdata : [1.16948709e-09 1.16733876e-09 1.16519044e-09 ... 9.66343924e-10\n",
      " 9.65444081e-10 9.64544238e-10]\n",
      "\t\tX_section_type : XRPA\n",
      "\t\tX_section_source : pyTEMlib\n",
      "\t1 :\n",
      "\t\tz : 8\n",
      "\t\tsymmetry : K1\n",
      "\t\telement : O\n",
      "\t\tonset : 532.0\n",
      "\t\tend_exclude : 582.0\n",
      "\t\tstart_exclude : 527.0\n",
      "\t\tall_edges :\n",
      "\t\t\tK1 :\n",
      "\t\t\t\tonset : 532.0\n",
      "\t\tchemical_shift : 0.0\n",
      "\t\tareal_density : 304470742159449.5\n",
      "\t\toriginal_onset : 532.0\n",
      "\t\tdata : [2.54317174e-10 2.53763900e-10 2.53210627e-10 ... 2.67943271e-10\n",
      " 2.67685348e-10 2.67427425e-10]\n",
      "\t\tX_section_type : XRPA\n",
      "\t\tX_section_source : pyTEMlib\n"
     ]
    }
   ],
   "source": [
    "compositionWidget.dataset.view_metadata()"
   ]
  },
  {
   "cell_type": "markdown",
   "metadata": {},
   "source": [
    "## ELNES\n",
    "The electron energy-loss near edge structure is determined by fititng the spectrum after quantification model subtraction. \n",
    "\n",
    "First smooth the spectrum (only 0 iteration available at this time) and then \n",
    "find the number of peaks you want (Can be repeated as oftern as one wants).\n",
    "\n",
    "Please note that the peaks do not necessarily have a physcial meaning as there are peaks with \n",
    "positive and negative amplitudes. The goal is to get a smooth representation of the spectrum.\n",
    "A difference of a good fit and the data should result in a residual of noise only. To achieve such a good fit, the careful setting of the edge onset is important.\n"
   ]
  },
  {
   "cell_type": "code",
   "execution_count": 110,
   "metadata": {},
   "outputs": [
    {
     "data": {
      "application/vnd.jupyter.widget-view+json": {
       "model_id": "923c379783c2426189d24befb043f525",
       "version_major": 2,
       "version_minor": 0
      },
      "text/plain": [
       "AppLayout(children=(GridspecLayout(children=(Button(description='Fit Area', layout=Layout(grid_area='widget001…"
      ]
     },
     "metadata": {},
     "output_type": "display_data"
    }
   ],
   "source": [
    "peakFitWidget = ieels.PeakFitWidget(datasets)"
   ]
  },
  {
   "cell_type": "markdown",
   "metadata": {},
   "source": [
    "### Output"
   ]
  },
  {
   "cell_type": "code",
   "execution_count": 111,
   "metadata": {},
   "outputs": [
    {
     "name": "stdout",
     "output_type": "stream",
     "text": [
      "peak  0: position:   577.3, area:   347849.293 associated edge: \n",
      "peak  1: position:  9286.3, area: 406324382.817 associated edge: \n",
      "peak  2: position:   467.9, area:   170264.962 associated edge: Ti-L2\n",
      "peak  3: position:   462.5, area:    94235.718 associated edge: Ti-L3\n",
      "peak  4: position:   465.5, area:    73774.485 associated edge: Ti-L2\n",
      "peak  5: position:   484.9, area:    -6888.530 associated edge: Ti-L2\n",
      "peak  6: position:   501.0, area:   -53974.580 associated edge: Ti-L2\n",
      "peak  7: position:   472.9, area:   -75119.353 associated edge: Ti-L2\n",
      "peak  8: position:   484.6, area:  -120666.516 associated edge: Ti-L2\n",
      "peak  9: position:   499.2, area:    33902.794 associated edge: Ti-L2\n",
      "peak  10: position:   460.2, area:    37848.912 associated edge: Ti-L3\n"
     ]
    }
   ],
   "source": [
    "areas = []\n",
    "for p, peak in peakFitWidget.peaks['peaks'].items():\n",
    "    area = np.sqrt(2* np.pi)* peak['amplitude'] * np.abs(peak['width'] / np.sqrt(2 *np.log(2))) \n",
    "    areas.append(area)\n",
    "    if 'associated_edge' not in peak:\n",
    "        peak['associated_edge']= ''\n",
    "    print(f\"peak  {p}: position: {peak['position']:7.1f}, area: {area:12.3f} associated edge: {peak['associated_edge']}\")\n",
    "#print(f'\\n M4/M5 peak 2 to peak 1 ratio: {(areas[1])/areas[0]:.2f}')"
   ]
  },
  {
   "cell_type": "markdown",
   "metadata": {},
   "source": [
    "### Log Data\n",
    "All the data associated with quantification are stored in the ``metadata`` attribute. \n",
    "The new key in that dictionary is: ``peak_fit``."
   ]
  },
  {
   "cell_type": "code",
   "execution_count": 55,
   "metadata": {},
   "outputs": [
    {
     "data": {
      "text/plain": [
       "dict_keys(['filename', 'edges', 'experiment'])"
      ]
     },
     "execution_count": 55,
     "metadata": {},
     "output_type": "execute_result"
    }
   ],
   "source": [
    "infoWidget.dataset.metadata.keys()"
   ]
  },
  {
   "cell_type": "markdown",
   "metadata": {
    "hideCode": false,
    "hidePrompt": true
   },
   "source": [
    "## Save and Close File\n",
    "The dataset with the metadata should be saved for further quantification. \n",
    "The file needs to be closed to be used with other notebooks."
   ]
  },
  {
   "cell_type": "code",
   "execution_count": 105,
   "metadata": {
    "hideCode": false,
    "hidePrompt": true
   },
   "outputs": [
    {
     "name": "stderr",
     "output_type": "stream",
     "text": [
      "C:\\Users\\gduscher\\AppData\\Local\\anaconda3\\envs\\pyter\\lib\\site-packages\\pyNSID\\io\\hdf_utils.py:376: FutureWarning: validate_h5_dimension may be removed in a future version\n",
      "  warn('validate_h5_dimension may be removed in a future version',\n",
      "C:\\Users\\gduscher\\AppData\\Local\\anaconda3\\envs\\pyter\\lib\\site-packages\\pyNSID\\io\\hdf_utils.py:376: FutureWarning: validate_h5_dimension may be removed in a future version\n",
      "  warn('validate_h5_dimension may be removed in a future version',\n",
      "C:\\Users\\gduscher\\AppData\\Local\\anaconda3\\envs\\pyter\\lib\\site-packages\\pyNSID\\io\\hdf_io.py:111: UserWarning: main_data_name should not contain the \"-\" character. Reformatted name from:collection-60muem to collection_60muem\n",
      "  warn('main_data_name should not contain the \"-\" character. Reformatted'\n",
      "C:\\Users\\gduscher\\AppData\\Local\\anaconda3\\envs\\pyter\\lib\\site-packages\\pyNSID\\io\\hdf_utils.py:376: FutureWarning: validate_h5_dimension may be removed in a future version\n",
      "  warn('validate_h5_dimension may be removed in a future version',\n"
     ]
    }
   ],
   "source": [
    "h5_group = ft.save_dataset(infoWidget.datasets, '../../example_data/EELS_STO3.hf5')\n",
    "h5_group.file.close()"
   ]
  },
  {
   "cell_type": "code",
   "execution_count": null,
   "metadata": {},
   "outputs": [],
   "source": []
  }
 ],
 "metadata": {
  "hide_code_all_hidden": true,
  "kernelspec": {
   "display_name": "Python 3 (ipykernel)",
   "language": "python",
   "name": "python3"
  },
  "language_info": {
   "codemirror_mode": {
    "name": "ipython",
    "version": 3
   },
   "file_extension": ".py",
   "mimetype": "text/x-python",
   "name": "python",
   "nbconvert_exporter": "python",
   "pygments_lexer": "ipython3",
   "version": "3.10.11"
  },
  "toc": {
   "base_numbering": 1,
   "nav_menu": {},
   "number_sections": true,
   "sideBar": true,
   "skip_h1_title": false,
   "title_cell": "Table of Contents",
   "title_sidebar": "Contents",
   "toc_cell": false,
   "toc_position": {
    "height": "calc(100% - 180px)",
    "left": "10px",
    "top": "150px",
    "width": "270px"
   },
   "toc_section_display": true,
   "toc_window_display": false
  },
  "varInspector": {
   "cols": {
    "lenName": 16,
    "lenType": 16,
    "lenVar": 40
   },
   "kernels_config": {
    "python": {
     "delete_cmd_postfix": "",
     "delete_cmd_prefix": "del ",
     "library": "var_list.py",
     "varRefreshCmd": "print(var_dic_list())"
    },
    "r": {
     "delete_cmd_postfix": ") ",
     "delete_cmd_prefix": "rm(",
     "library": "var_list.r",
     "varRefreshCmd": "cat(var_dic_list()) "
    }
   },
   "types_to_exclude": [
    "module",
    "function",
    "builtin_function_or_method",
    "instance",
    "_Feature"
   ],
   "window_display": false
  }
 },
 "nbformat": 4,
 "nbformat_minor": 4
}
