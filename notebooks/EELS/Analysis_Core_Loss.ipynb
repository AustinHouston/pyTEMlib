{
 "cells": [
  {
   "cell_type": "markdown",
   "metadata": {
    "hideCode": true,
    "hidePrompt": true
   },
   "source": [
    "<font size = \"5\"> **EELS_Tools:  [Spectroscopy](Ch4-Spectroscopy.ipynb)** </font>\n",
    "\n",
    "<hr style=\"height:1px;border-top:4px solid #FF8200\" />\n",
    "\n",
    "# Analysis of Core-Loss EELS Spectra\n",
    "<br>\n",
    "\n",
    "\n",
    "[Download](https://raw.githubusercontent.com/pycroscopy/pyTEMlib/main/notebooks/EELS/Analysis_Core_Loss.ipynb)\n",
    " \n",
    "[![Open In Colab](https://colab.research.google.com/assets/colab-badge.svg)](\n",
    "    https://colab.research.google.com/github/pycroscopy/pyTEMlib/blob/main/notebooks/EELS/Analysis_Core_Loss.ipynb)\n",
    "    \n",
    "part of \n",
    "\n",
    "<font size = \"5\"> **[pyTEMlib](https://pycroscopy.github.io/pyTEMlib/about.html)**</font>\n",
    "\n",
    "a [pycroscopy](https://pycroscopy.github.io/pycroscopy/about.html) ecosystem package\n",
    "\n",
    "\n",
    "Notebook by Gerd Duscher, 2023\n",
    "\n",
    "Microscopy Facilities<br>\n",
    "Institute of Advanced Materials & Manufacturing<br>\n",
    "The University of Tennessee, Knoxville\n",
    "\n",
    "Model based analysis and quantification of data acquired with transmission electron microscopes\n",
    "\n",
    "\n"
   ]
  },
  {
   "cell_type": "markdown",
   "metadata": {
    "hideCode": true,
    "hidePrompt": true
   },
   "source": [
    "## Content\n",
    "\n",
    "Quantitative determination of chemical composition from a core-loss EELS spectrum\n",
    "\n",
    "\n",
    "Relavant notebooks in course [MSE 672: Introduction to TEM]()  give an in depth explanation of the method.\n",
    "\n",
    "Please cite:\n",
    "\n",
    "[M. Tian et  al. *Measuring the areal density of nanomaterials by electron energy-loss spectroscopy*\n",
    "Ultramicroscopy Volume 196, 2019, pages 154-160](https://doi.org/10.1016/j.ultramic.2018.10.009)\n",
    "\n",
    "as a reference of this quantification method.\n",
    "\n",
    "## Prerequesites\n",
    "This notebook will only run with  ``version 0.2022.6.0`` or higher.\n",
    "\n",
    "### Install missing packages\n",
    "This can take a while for the first time. This code will have to run at least once on you computer or colab session."
   ]
  },
  {
   "cell_type": "code",
   "execution_count": 1,
   "metadata": {},
   "outputs": [
    {
     "name": "stdout",
     "output_type": "stream",
     "text": [
      "done\n"
     ]
    }
   ],
   "source": [
    "import sys\n",
    "\n",
    "from pkg_resources import get_distribution, DistributionNotFound\n",
    "\n",
    "def test_package(package_name):\n",
    "    \"\"\"Test if package exists and returns version or -1\"\"\"\n",
    "    try:\n",
    "        version = (get_distribution(package_name).version)\n",
    "    except (DistributionNotFound, ImportError) as err:\n",
    "        version = '-1'\n",
    "    return version\n",
    "\n",
    "\n",
    "# pyTEMlib setup ------------------\n",
    "if test_package('pyTEMlib') < '0.2023.5.0':\n",
    "    print('installing pyTEMlib')\n",
    "    !{sys.executable} -m pip install git+https://github.com/pycroscopy/SciFiReaders.git@main -q\n",
    "    !{sys.executable} -m pip install git+https://github.com/pycroscopy/pyTEMlib.git@main -q\n",
    "    \n",
    "# ------------------------------\n",
    "print('done')"
   ]
  },
  {
   "cell_type": "markdown",
   "metadata": {
    "hideCode": false,
    "hidePrompt": false
   },
   "source": [
    "### Load the relevant packages"
   ]
  },
  {
   "cell_type": "code",
   "execution_count": 1,
   "metadata": {
    "hideCode": true,
    "hidePrompt": false
   },
   "outputs": [
    {
     "name": "stdout",
     "output_type": "stream",
     "text": [
      "You don't have igor2 installed.     If you wish to open igor files, you will need to install it     (pip install igor2) before attempting.\n",
      "You don't have gwyfile installed.     If you wish to open .gwy files, you will need to      install it (pip install gwyfile) before attempting.\n",
      "Symmetry functions of spglib enabled\n",
      "pyTEMlib version:  0.2023.5.0\n"
     ]
    }
   ],
   "source": [
    "%matplotlib ipympl\n",
    "import numpy as np\n",
    "import matplotlib.pylab as plt \n",
    "import sys\n",
    "\n",
    "if 'google.colab' not in sys.modules:\n",
    "    %gui qt5\n",
    "    \n",
    "\n",
    "# sys.path.insert(0, '../../')\n",
    "\n",
    "import pyTEMlib\n",
    "import pyTEMlib.file_tools as ft     # File input/ output library\n",
    "import pyTEMlib.image_tools as it\n",
    "import pyTEMlib.eels_tools  as eels        # EELS methods \n",
    "\n",
    "import pyTEMlib.interactive_eels as ieels  # Dialogs for EELS input and quantification\n",
    "\n",
    "# For archiving reasons it is a good idea to print the version numbers out at this point\n",
    "print('pyTEMlib version: ', pyTEMlib.__version__)\n",
    "if pyTEMlib.__version__ < '0.2023.3.0':\n",
    "    print('This version of pyTEMlib will not work with this notebook')\n",
    "    print('Please install new pyTEMlib version with code cell above first and then restart this notebook!')\n",
    "    \n",
    "__notebook__ = 'analyze_core_loss'\n",
    "__notebook_version__ = '2023_03_20'\n",
    "\n",
    "\n",
    "if 'google.colab' in sys.modules:\n",
    "    drive.mount(\"/content/drive\")"
   ]
  },
  {
   "cell_type": "markdown",
   "metadata": {},
   "source": [
    "## Load and plot a spectrum\n",
    "\n",
    "As an example we load the spectrum **1EELS Acquire (high-loss).dm3** from the *example data* folder.\n",
    "\n",
    "Please see [Loading an EELS Spectrum](LoadEELS.ipynb) for details on storage and plotting.\n",
    "\n",
    "First a dialog to select a file will apear.\n",
    "\n",
    "Then the spectrum plot and ``Spectrum Info`` dialog will appear, in which we set the experimental parameters.\n",
    "\n",
    "Please use the ``Set Energy Scale`` button to change the energy scale. When pressed a new dialog and a cursor will appear in which one is able to set the energy scale based on known features in the spectrum.\n"
   ]
  },
  {
   "cell_type": "code",
   "execution_count": 7,
   "metadata": {},
   "outputs": [
    {
     "name": "stdout",
     "output_type": "stream",
     "text": [
      "edges\n",
      "0\n",
      "all_edges\n",
      "L1\n",
      "L2\n",
      "L3\n",
      "1\n",
      "all_edges\n",
      "K1\n",
      "fit_area\n",
      "model\n",
      "experiment\n",
      "DM\n",
      "DocumentObjectList\n",
      "0\n",
      "AnnotationGroupList\n",
      "ImageDisplayInfo\n",
      "CalibrationSliceId\n",
      "DimensionLabels\n",
      "GroupList\n",
      "0\n",
      "GroupToDisplay\n",
      "MainSliceId\n",
      "SliceList\n",
      "0\n",
      "ImageToGroup\n",
      "SliceId\n",
      "ObjectTags\n",
      "DocumentTags\n",
      "Image Behavior\n",
      "UnscaledTransform\n",
      "ZoomAndMoveTransform\n",
      "ImageData\n",
      "Calibrations\n",
      "Brightness\n",
      "Dimension\n",
      "0\n",
      "Dimensions\n",
      "ImageSourceList\n",
      "0\n",
      "Extra Slice Info\n",
      "0\n",
      "Id\n",
      "Id\n",
      "ImageTags\n",
      "Acquisition\n",
      "Device\n",
      "CCD\n",
      "Configuration\n",
      "Transpose\n",
      "Frame\n",
      "Area\n",
      "Transform\n",
      "Transform List\n",
      "0\n",
      "Transpose\n",
      "CCD\n",
      "Intensity\n",
      "Transform\n",
      "Transform List\n",
      "0\n",
      "1\n",
      "Parameters\n",
      "Base Detector\n",
      "Detector\n",
      "Environment\n",
      "High Level\n",
      "Shutter\n",
      "Transform\n",
      "Objects\n",
      "0\n",
      "EELS\n",
      "Acquisition\n",
      "Experimental Conditions\n",
      "EELS Spectrometer\n",
      "Meta Data\n",
      "Microscope Info\n",
      "Session Info\n",
      "Items\n",
      "0\n",
      "1\n",
      "2\n",
      "MinVersionList\n",
      "0\n",
      "Page Behavior\n",
      "PageTransform\n",
      "SentinelList\n",
      "Thumbnails\n",
      "0\n",
      "UniqueID\n"
     ]
    },
    {
     "data": {
      "application/vnd.jupyter.widget-view+json": {
       "model_id": "4469e6b45dd147e687d037bbafe82a11",
       "version_major": 2,
       "version_minor": 0
      },
      "text/plain": [
       "AppLayout(children=(GridspecLayout(children=(Dropdown(description='Main Dataset:', layout=Layout(grid_area='wi…"
      ]
     },
     "metadata": {},
     "output_type": "display_data"
    }
   ],
   "source": [
    "# -----Input -------#\n",
    "load_example = True\n",
    "\n",
    "if load_example:\n",
    "    datasets = ft.open_file('../../example_data/EELS_STO.hf5')\n",
    "else:\n",
    "    datasets = ft.open_file()\n",
    "#ft.add_dataset_from_file(datasets, '../example_data/1EELS Acquire (low-loss).dm3', 'Reference')\n",
    "#datasets['Reference_000'].metadata['experiment']['exposure_time'] = datasets['Reference_000'].metadata['experiment']['single_exposure_time'] * datasets['Reference_000'].metadata['experiment']['number_of_frames']\n",
    "info = ieels.InfoWidget(datasets)\n"
   ]
  },
  {
   "cell_type": "code",
   "execution_count": 5,
   "metadata": {
    "scrolled": true
   },
   "outputs": [
    {
     "name": "stdout",
     "output_type": "stream",
     "text": [
      "edges\n",
      "0\n",
      "all_edges\n",
      "L1\n",
      "L2\n",
      "L3\n",
      "1\n",
      "all_edges\n",
      "K1\n",
      "fit_area\n",
      "model\n",
      "experiment\n",
      "DM\n",
      "DocumentObjectList\n",
      "0\n",
      "AnnotationGroupList\n",
      "ImageDisplayInfo\n",
      "CalibrationSliceId\n",
      "DimensionLabels\n",
      "GroupList\n",
      "0\n",
      "GroupToDisplay\n",
      "MainSliceId\n",
      "SliceList\n",
      "0\n",
      "ImageToGroup\n",
      "SliceId\n",
      "ObjectTags\n",
      "DocumentTags\n",
      "Image Behavior\n",
      "UnscaledTransform\n",
      "ZoomAndMoveTransform\n",
      "ImageData\n",
      "Calibrations\n",
      "Brightness\n",
      "Dimension\n",
      "0\n",
      "Dimensions\n",
      "ImageSourceList\n",
      "0\n",
      "Extra Slice Info\n",
      "0\n",
      "Id\n",
      "Id\n",
      "ImageTags\n",
      "Acquisition\n",
      "Device\n",
      "CCD\n",
      "Configuration\n",
      "Transpose\n",
      "Frame\n",
      "Area\n",
      "Transform\n",
      "Transform List\n",
      "0\n",
      "Transpose\n",
      "CCD\n",
      "Intensity\n",
      "Transform\n",
      "Transform List\n",
      "0\n",
      "1\n",
      "Parameters\n",
      "Base Detector\n",
      "Detector\n",
      "Environment\n",
      "High Level\n",
      "Shutter\n",
      "Transform\n",
      "Objects\n",
      "0\n",
      "EELS\n",
      "Acquisition\n",
      "Experimental Conditions\n",
      "EELS Spectrometer\n",
      "Meta Data\n",
      "Microscope Info\n",
      "Session Info\n",
      "Items\n",
      "0\n",
      "1\n",
      "2\n",
      "MinVersionList\n",
      "0\n",
      "Page Behavior\n",
      "PageTransform\n",
      "SentinelList\n",
      "Thumbnails\n",
      "0\n",
      "UniqueID\n"
     ]
    },
    {
     "data": {
      "application/vnd.jupyter.widget-view+json": {
       "model_id": "b229d1ce827f4c50930f0a3b06621be4",
       "version_major": 2,
       "version_minor": 0
      },
      "text/plain": [
       "Dropdown(description='select dataset:', options=('Channel_000: 01_EELS Acquire_STO',), value='Channel_000: 01_…"
      ]
     },
     "metadata": {},
     "output_type": "display_data"
    }
   ],
   "source": [
    "filename='../../example_data/EELS_STO.hf5'\n",
    "\n",
    "datasets=  ft.open_file(filename=filename)\n",
    "chooser = ft.ChooseDataset(datasets)"
   ]
  },
  {
   "cell_type": "code",
   "execution_count": 3,
   "metadata": {},
   "outputs": [
    {
     "data": {
      "application/vnd.jupyter.widget-view+json": {
       "model_id": "335ae0516a784da39e2696fe246a0286",
       "version_major": 2,
       "version_minor": 0
      },
      "image/png": "[encoded data removed]",
      "text/html": [
       "\n",
       "            <div style=\"display: inline-block;\">\n",
       "                <div class=\"jupyter-widgets widget-label\" style=\"text-align: center;\">\n",
       "                    Figure\n",
       "                </div>\n",
       "                <img src='data:image/png;base64,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' width=640.0/>\n",
       "            </div>\n",
       "        "
      ],
      "text/plain": [
       "Canvas(toolbar=Toolbar(toolitems=[('Home', 'Reset original view', 'home', 'home'), ('Back', 'Back to previous …"
      ]
     },
     "metadata": {},
     "output_type": "display_data"
    }
   ],
   "source": [
    "dataset = chooser.dataset\n",
    "view = dataset.plot()\n",
    "plt.show() \n",
    "plt.draw()"
   ]
  },
  {
   "cell_type": "markdown",
   "metadata": {},
   "source": [
    "## Chemical Composition \n",
    "The fit of the cross-section and background to the spectrum results in the chemical composition. If the calibration is correct this composition is given as areal density in atoms/nm$^2$\n",
    "\n",
    "\n"
   ]
  },
  {
   "cell_type": "code",
   "execution_count": 9,
   "metadata": {},
   "outputs": [
    {
     "name": "stdout",
     "output_type": "stream",
     "text": [
      "Auto Quantification\n",
      "\n",
      "Relative composition: \n",
      "Ti: 18.8%  O: 81.2%  \n"
     ]
    }
   ],
   "source": [
    "print('Auto Quantification')\n",
    "eels.auto_chemical_composition(datasets['Channel_000'])"
   ]
  },
  {
   "cell_type": "markdown",
   "metadata": {},
   "source": [
    "###  Fit of Data\n",
    "A dialog window will open, enter the elements first (0 will open a periodic table) and press \n",
    "``Fit Composition`` button (bottom right). Adjust parameters as needed and check fit by pressing the ``Fit Composition`` button again.\n",
    "\n",
    "Select the ``Region`` checkbox to see which parts of the spectrum you choose to fit.\n",
    "\n",
    "Changing the multiplier value will make a simulation of your spectrum.\n",
    "\n",
    "The ``InfoDialog``, if open, still works to change experimental parameters and the energy scale."
   ]
  },
  {
   "cell_type": "code",
   "execution_count": 12,
   "metadata": {
    "tags": []
   },
   "outputs": [
    {
     "data": {
      "application/vnd.jupyter.widget-view+json": {
       "model_id": "5f0ee138bced4ee4a656b39a49e3d8aa",
       "version_major": 2,
       "version_minor": 0
      },
      "text/plain": [
       "AppLayout(children=(GridspecLayout(children=(Button(description='Fit Area', layout=Layout(grid_area='widget001…"
      ]
     },
     "metadata": {},
     "output_type": "display_data"
    }
   ],
   "source": [
    "composition = ieels.CompositionWidget(datasets)"
   ]
  },
  {
   "cell_type": "markdown",
   "metadata": {},
   "source": [
    "### Output of Results"
   ]
  },
  {
   "cell_type": "code",
   "execution_count": 15,
   "metadata": {},
   "outputs": [
    {
     "name": "stdout",
     "output_type": "stream",
     "text": [
      "Relative chemical composition of  01_EELS Acquire_STO\n",
      "Ti: 18.8 %\n",
      "O: 81.2 %\n"
     ]
    }
   ],
   "source": [
    "edges = datasets['Channel_000'].metadata['edges']\n",
    "element = []\n",
    "areal_density = []\n",
    "for key, edge in edges.items():\n",
    "    if key.isdigit():\n",
    "        element.append(edge['element'])\n",
    "        areal_density.append(edge['areal_density'])\n",
    "\n",
    "print('Relative chemical composition of ', datasets['Channel_000'].title)\n",
    "for i in range(len(element)):\n",
    "    print(f'{element[i]}: {areal_density[i]/np.sum(areal_density)*100:.1f} %')\n",
    "    \n",
    "saved_edges_metadata = edges"
   ]
  },
  {
   "cell_type": "markdown",
   "metadata": {},
   "source": [
    "### Log Data\n",
    "All the data associated with quantification are stored in the ``metadata`` attribute. The relevant keys of that dictionary are:  ``experiment`` and  ``edges``."
   ]
  },
  {
   "cell_type": "code",
   "execution_count": 10,
   "metadata": {},
   "outputs": [
    {
     "data": {
      "text/plain": [
       "dict_keys(['experiment', 'filename', 'edges'])"
      ]
     },
     "execution_count": 10,
     "metadata": {},
     "output_type": "execute_result"
    }
   ],
   "source": [
    "dataset.metadata.keys()"
   ]
  },
  {
   "cell_type": "code",
   "execution_count": 11,
   "metadata": {
    "scrolled": true
   },
   "outputs": [
    {
     "data": {
      "text/plain": [
       "{'experiment': {'single_exposure_time': 2.0,\n",
       "  'exposure_time': 20.0,\n",
       "  'number_of_frames': 10,\n",
       "  'collection_angle': 33.0,\n",
       "  'convergence_angle': 30.0,\n",
       "  'acceleration_voltage': 200000.0,\n",
       "  'offset': 350.0,\n",
       "  'dispersion': 0.25,\n",
       "  'binning': 1,\n",
       "  'conversion': 1.0,\n",
       "  'flux_ppm': -1.0,\n",
       "  'flux_unit': 'counts',\n",
       "  'current': 1.0,\n",
       "  'SI_bin_x': 1,\n",
       "  'SI_bin_y': 1},\n",
       " 'filename': 'C:/Users/gduscher/Documents/Github/pyTEMlib/example_data/EELS_STO.dm3',\n",
       " 'edges': {'model': {'background': array([169020.25174338, 168789.78918192, 168559.82605639, ...,\n",
       "            9149.54959508,   9100.75462706,   9051.94875424]),\n",
       "   'background-poly_0': -81470.80833794757,\n",
       "   'background-poly_1': 249.6292062065052,\n",
       "   'background-poly_2': -0.21422944630842575,\n",
       "   'background-A': 12172261631.904371,\n",
       "   'background-r': 1.8899156398038295,\n",
       "   'spectrum': array([176470.83278946, 176223.47467571, 175976.61599788, ...,\n",
       "           13245.7753568 ,  13191.95820283,  13138.13014407]),\n",
       "   'blurred': array([183081.86 , 183025.38 , 182917.77 , ...,  23102.238,  23095.361,\n",
       "           23091.861], dtype=float32),\n",
       "   'mask': array([0., 0., 0., ..., 1., 0., 1.]),\n",
       "   'fit_parameter': array([ 4.59670802e+12,  1.48706380e+13,  2.14449459e+05,  3.23511906e+04,\n",
       "           3.23511906e+04,  3.23511906e+04, -8.14708083e+04,  2.49629206e+02,\n",
       "          -2.14229446e-01]),\n",
       "   'fit_area_start': 362.5,\n",
       "   'fit_area_end': 861.5},\n",
       "  'use_low_loss': False,\n",
       "  '0': {'z': 22,\n",
       "   'symmetry': 'L3',\n",
       "   'element': 'Ti',\n",
       "   'onset': 455.5,\n",
       "   'end_exclude': 505.5,\n",
       "   'start_exclude': 450.5,\n",
       "   'all_edges': {'L3': {'onset': 455.5},\n",
       "    'L2': {'onset': 461.5},\n",
       "    'L1': {'onset': 563.6999999999999}},\n",
       "   'chemical_shift': 0.0,\n",
       "   'areal_density': 4596708022990.737,\n",
       "   'original_onset': 455.5,\n",
       "   'data': array([9.75030542e-10, 9.72936517e-10, 9.70842492e-10, ...,\n",
       "          4.76621339e-10, 4.76045667e-10, 4.75469995e-10]),\n",
       "   'X_section_type': 'XRPA',\n",
       "   'X_section_source': 'pyTEMlib'},\n",
       "  '1': {'z': 8,\n",
       "   'symmetry': 'K1',\n",
       "   'element': 'O',\n",
       "   'onset': 532.0,\n",
       "   'end_exclude': 582.0,\n",
       "   'start_exclude': 527.0,\n",
       "   'all_edges': {'K1': {'onset': 532.0}},\n",
       "   'chemical_shift': 0.0,\n",
       "   'areal_density': 14870637969963.275,\n",
       "   'original_onset': 532.0,\n",
       "   'data': array([1.99631645e-10, 1.99142767e-10, 1.98653888e-10, ...,\n",
       "          1.28127406e-10, 1.27967629e-10, 1.27807852e-10]),\n",
       "   'X_section_type': 'XRPA',\n",
       "   'X_section_source': 'pyTEMlib'},\n",
       "  '2': {'z': 52,\n",
       "   'symmetry': 'M3',\n",
       "   'element': 'Te',\n",
       "   'onset': 818.6999999999999,\n",
       "   'end_exclude': 861.25,\n",
       "   'start_exclude': 813.6999999999999,\n",
       "   'all_edges': {'M5': {'onset': 572.1},\n",
       "    'M4': {'onset': 582.5},\n",
       "    'M3': {'onset': 818.6999999999999}},\n",
       "   'chemical_shift': 0.0,\n",
       "   'areal_density': 214449.4593395918,\n",
       "   'original_onset': 818.6999999999999,\n",
       "   'data': array([1.94023197e-09, 1.93800932e-09, 1.93578667e-09, ...,\n",
       "          1.65155976e-09, 1.64981869e-09, 1.64807763e-09]),\n",
       "   'X_section_type': 'XRPA',\n",
       "   'X_section_source': 'pyTEMlib'},\n",
       "  'fit_area': {'fit_start': 362.5, 'fit_end': 861.5}}}"
      ]
     },
     "execution_count": 11,
     "metadata": {},
     "output_type": "execute_result"
    },
    {
     "name": "stdout",
     "output_type": "stream",
     "text": [
      "Could not find no edge of 1 in spectrum\n",
      "Could not find no edge of 1 in spectrum\n"
     ]
    }
   ],
   "source": [
    "dataset.metadata"
   ]
  },
  {
   "cell_type": "markdown",
   "metadata": {},
   "source": [
    "## ELNES\n",
    "The electron energy-loss near edge structure is determined by fititng the spectrum after quantification model subtraction. \n",
    "\n",
    "First smooth the spectrum (only 0 iteration available at this time) and then \n",
    "find the number of peaks you want (Can be repeated as oftern as one wants).\n",
    "\n",
    "Please note that the peaks do not necessarily have a physcial meaning as there are peaks with \n",
    "positive and negative amplitudes. The goal is to get a smooth representation of the spectrum.\n",
    "A difference of a good fit and the data should result in a residual of noise only. To achieve such a good fit, the careful setting of the edge onset is important.\n"
   ]
  },
  {
   "cell_type": "code",
   "execution_count": 19,
   "metadata": {},
   "outputs": [
    {
     "data": {
      "application/vnd.jupyter.widget-view+json": {
       "model_id": "f8435a074f974a8daedb2218da22542e",
       "version_major": 2,
       "version_minor": 0
      },
      "image/png": "[encoded data removed]",
      "text/html": [
       "\n",
       "            <div style=\"display: inline-block;\">\n",
       "                <div class=\"jupyter-widgets widget-label\" style=\"text-align: center;\">\n",
       "                    Figure\n",
       "                </div>\n",
       "                <img src='data:image/png;base64,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' width=640.0/>\n",
       "            </div>\n",
       "        "
      ],
      "text/plain": [
       "Canvas(toolbar=Toolbar(toolitems=[('Home', 'Reset original view', 'home', 'home'), ('Back', 'Back to previous …"
      ]
     },
     "metadata": {},
     "output_type": "display_data"
    }
   ],
   "source": [
    "peak_dialog = ieels.PeakFitDialog(datasets['Channel_000'])"
   ]
  },
  {
   "cell_type": "markdown",
   "metadata": {},
   "source": [
    "### Output"
   ]
  },
  {
   "cell_type": "code",
   "execution_count": null,
   "metadata": {},
   "outputs": [],
   "source": [
    "areas = []\n",
    "for p, peak in peak_dialog.peaks['peaks'].items():\n",
    "    area = np.sqrt(2* np.pi)* peak['amplitude'] * np.abs(peak['width'] / np.sqrt(2 *np.log(2))) \n",
    "    areas.append(area)\n",
    "    if 'associated_edge' not in peak:\n",
    "        peak['associated_edge']= ''\n",
    "    print(f\"peak  {p}: position: {peak['position']:7.1f}, area: {area:12.3f} associated edge: {peak['associated_edge']}\")\n",
    "#print(f'\\n M4/M5 peak 2 to peak 1 ratio: {(areas[1])/areas[0]:.2f}')"
   ]
  },
  {
   "cell_type": "markdown",
   "metadata": {},
   "source": [
    "### Log Data\n",
    "All the data associated with quantification are stored in the ``metadata`` attribute. \n",
    "The new key in that dictionary is: ``peak_fit``."
   ]
  },
  {
   "cell_type": "code",
   "execution_count": null,
   "metadata": {},
   "outputs": [],
   "source": [
    "dataset.metadata.keys()"
   ]
  },
  {
   "cell_type": "markdown",
   "metadata": {
    "hideCode": false,
    "hidePrompt": true
   },
   "source": [
    "## Save and Close File\n",
    "The dataset with the metadata should be saved for further quantification. \n",
    "The file needs to be closed to be used with other notebooks."
   ]
  },
  {
   "cell_type": "code",
   "execution_count": null,
   "metadata": {
    "hideCode": false,
    "hidePrompt": true
   },
   "outputs": [],
   "source": [
    "h5_group = ft.save_dataset(datasets, '../../example_data/EELS_STO.hf5')\n",
    "h5_group.file.close()"
   ]
  },
  {
   "cell_type": "code",
   "execution_count": null,
   "metadata": {},
   "outputs": [],
   "source": []
  }
 ],
 "metadata": {
  "hide_code_all_hidden": true,
  "kernelspec": {
   "display_name": "ase",
   "language": "python",
   "name": "ase"
  },
  "language_info": {
   "codemirror_mode": {
    "name": "ipython",
    "version": 3
   },
   "file_extension": ".py",
   "mimetype": "text/x-python",
   "name": "python",
   "nbconvert_exporter": "python",
   "pygments_lexer": "ipython3",
   "version": "3.10.8"
  },
  "toc": {
   "base_numbering": 1,
   "nav_menu": {},
   "number_sections": true,
   "sideBar": true,
   "skip_h1_title": false,
   "title_cell": "Table of Contents",
   "title_sidebar": "Contents",
   "toc_cell": false,
   "toc_position": {
    "height": "calc(100% - 180px)",
    "left": "10px",
    "top": "150px",
    "width": "270px"
   },
   "toc_section_display": true,
   "toc_window_display": false
  },
  "varInspector": {
   "cols": {
    "lenName": 16,
    "lenType": 16,
    "lenVar": 40
   },
   "kernels_config": {
    "python": {
     "delete_cmd_postfix": "",
     "delete_cmd_prefix": "del ",
     "library": "var_list.py",
     "varRefreshCmd": "print(var_dic_list())"
    },
    "r": {
     "delete_cmd_postfix": ") ",
     "delete_cmd_prefix": "rm(",
     "library": "var_list.r",
     "varRefreshCmd": "cat(var_dic_list()) "
    }
   },
   "types_to_exclude": [
    "module",
    "function",
    "builtin_function_or_method",
    "instance",
    "_Feature"
   ],
   "window_display": false
  }
 },
 "nbformat": 4,
 "nbformat_minor": 4
}
