{
 "cells": [
  {
   "cell_type": "markdown",
   "metadata": {
    "hideCode": true,
    "hidePrompt": true
   },
   "source": [
    "<font size = \"5\"> **EELS_Tools:  [Spectroscopy](../4_EELS_Tools.ipynb)** </font>\n",
    "\n",
    "<hr style=\"height:1px;border-top:4px solid #FF8200\" />\n",
    "\n",
    "# Analysis of Core-Loss EELS Spectra\n",
    "<br>\n",
    "\n",
    "[<img src=https://www.coeuscreativegroup.com/wp-content/uploads/2020/04/download-button.png, width=125>](https://raw.githubusercontent.com/pycroscopy/pyTEMlib/main/notebooks/EELS/Analysis_Core_Loss.ipynb) \n",
    "\n",
    "[![OpenInColab](https://colab.research.google.com/assets/colab-badge.svg)](\n",
    "    https://colab.research.google.com/github/pycroscopy/pyTEMlib/blob/main/notebooks/EELS/Analysis_Core_Loss.ipynb)\n",
    "    \n",
    "part of \n",
    "\n",
    "<font size = \"5\"> **[pyTEMlib](https://pycroscopy.github.io/pyTEMlib/about.html)**</font>\n",
    "\n",
    "a [pycroscopy](https://pycroscopy.github.io/pycroscopy/about.html) ecosystem package\n",
    "\n",
    "\n",
    "Notebook by Gerd Duscher, 2023\n",
    "\n",
    "Microscopy Facilities<br>\n",
    "Institute of Advanced Materials & Manufacturing<br>\n",
    "The University of Tennessee, Knoxville\n",
    "\n",
    "Model based analysis and quantification of data acquired with transmission electron microscopes\n",
    "\n",
    "\n"
   ]
  },
  {
   "cell_type": "markdown",
   "metadata": {
    "hideCode": true,
    "hidePrompt": true
   },
   "source": [
    "## Content\n",
    "\n",
    "Quantitative determination of chemical composition from a core-loss EELS spectrum\n",
    "\n",
    "Relavant notebooks in course [MSE 672: Introduction to TEM]()  give an in depth explanation of the method.\n",
    "\n",
    "Please cite:\n",
    "\n",
    "[M. Tian et  al. *Measuring the areal density of nanomaterials by electron energy-loss spectroscopy*\n",
    "Ultramicroscopy Volume 196, 2019, pages 154-160](https://doi.org/10.1016/j.ultramic.2018.10.009)\n",
    "\n",
    "as a reference of this quantification method.\n",
    "\n",
    "## Prerequesites\n",
    "This notebook will only run with  ``pyTEMlib version 0.2023.5.0`` or higher.\n",
    "\n",
    "### Install missing packages\n",
    "This can take a while for the first time. This code will have to run at least once on your computer and for each colab session."
   ]
  },
  {
   "cell_type": "code",
   "execution_count": 2,
   "metadata": {},
   "outputs": [
    {
     "name": "stdout",
     "output_type": "stream",
     "text": [
      "installing pyTEMlib\n",
      "Collecting git+https://github.com/pycroscopy/sidpy\n",
      "  Cloning https://github.com/pycroscopy/sidpy to c:\\users\\gduscher\\appdata\\local\\temp\\pip-req-build-t5foc5pm\n",
      "  Resolved https://github.com/pycroscopy/sidpy to commit 78a293b0e2f2d3f6aa2773a484918c0c2ba94ebf\n",
      "  Preparing metadata (setup.py): started\n",
      "  Preparing metadata (setup.py): finished with status 'done'\n",
      "Requirement already satisfied: numpy>=1.10 in c:\\users\\gduscher\\appdata\\local\\anaconda3\\envs\\pytemlib\\lib\\site-packages (from sidpy==0.12.1) (1.24.3)\n",
      "Requirement already satisfied: toolz in c:\\users\\gduscher\\appdata\\local\\anaconda3\\envs\\pytemlib\\lib\\site-packages (from sidpy==0.12.1) (0.12.0)\n",
      "Requirement already satisfied: cytoolz in c:\\users\\gduscher\\appdata\\local\\anaconda3\\envs\\pytemlib\\lib\\site-packages (from sidpy==0.12.1) (0.12.0)\n",
      "Requirement already satisfied: dask>=0.10 in c:\\users\\gduscher\\appdata\\local\\anaconda3\\envs\\pytemlib\\lib\\site-packages (from sidpy==0.12.1) (2023.5.1)\n",
      "Requirement already satisfied: h5py>=2.6.0 in c:\\users\\gduscher\\appdata\\local\\anaconda3\\envs\\pytemlib\\lib\\site-packages (from sidpy==0.12.1) (3.9.0)\n",
      "Requirement already satisfied: matplotlib>=2.0.0 in c:\\users\\gduscher\\appdata\\local\\anaconda3\\envs\\pytemlib\\lib\\site-packages (from sidpy==0.12.1) (3.7.2)\n",
      "Requirement already satisfied: distributed>=2.0.0 in c:\\users\\gduscher\\appdata\\local\\anaconda3\\envs\\pytemlib\\lib\\site-packages (from sidpy==0.12.1) (2023.5.1)\n",
      "Requirement already satisfied: psutil in c:\\users\\gduscher\\appdata\\local\\anaconda3\\envs\\pytemlib\\lib\\site-packages (from sidpy==0.12.1) (5.9.5)\n",
      "Requirement already satisfied: six in c:\\users\\gduscher\\appdata\\local\\anaconda3\\envs\\pytemlib\\lib\\site-packages (from sidpy==0.12.1) (1.16.0)\n",
      "Requirement already satisfied: joblib>=0.11.0 in c:\\users\\gduscher\\appdata\\local\\anaconda3\\envs\\pytemlib\\lib\\site-packages (from sidpy==0.12.1) (1.2.0)\n",
      "Requirement already satisfied: ipywidgets>=5.2.2 in c:\\users\\gduscher\\appdata\\local\\anaconda3\\envs\\pytemlib\\lib\\site-packages (from sidpy==0.12.1) (8.0.6)\n",
      "Requirement already satisfied: ipykernel in c:\\users\\gduscher\\appdata\\local\\anaconda3\\envs\\pytemlib\\lib\\site-packages (from sidpy==0.12.1) (6.23.1)\n",
      "Requirement already satisfied: scikit-learn in c:\\users\\gduscher\\appdata\\local\\anaconda3\\envs\\pytemlib\\lib\\site-packages (from sidpy==0.12.1) (1.2.2)\n",
      "Requirement already satisfied: scipy in c:\\users\\gduscher\\appdata\\local\\anaconda3\\envs\\pytemlib\\lib\\site-packages (from sidpy==0.12.1) (1.10.1)\n",
      "Requirement already satisfied: ase in c:\\users\\gduscher\\appdata\\local\\anaconda3\\envs\\pytemlib\\lib\\site-packages (from sidpy==0.12.1) (3.22.1)\n",
      "Requirement already satisfied: ipython>=6.0 in c:\\users\\gduscher\\appdata\\local\\anaconda3\\envs\\pytemlib\\lib\\site-packages (from sidpy==0.12.1) (8.13.2)\n",
      "Requirement already satisfied: click>=8.0 in c:\\users\\gduscher\\appdata\\local\\anaconda3\\envs\\pytemlib\\lib\\site-packages (from dask>=0.10->sidpy==0.12.1) (8.1.3)\n",
      "Requirement already satisfied: cloudpickle>=1.5.0 in c:\\users\\gduscher\\appdata\\local\\anaconda3\\envs\\pytemlib\\lib\\site-packages (from dask>=0.10->sidpy==0.12.1) (2.2.1)\n",
      "Requirement already satisfied: fsspec>=2021.09.0 in c:\\users\\gduscher\\appdata\\local\\anaconda3\\envs\\pytemlib\\lib\\site-packages (from dask>=0.10->sidpy==0.12.1) (2023.5.0)\n",
      "Requirement already satisfied: packaging>=20.0 in c:\\users\\gduscher\\appdata\\local\\anaconda3\\envs\\pytemlib\\lib\\site-packages (from dask>=0.10->sidpy==0.12.1) (23.0)\n",
      "Requirement already satisfied: partd>=1.2.0 in c:\\users\\gduscher\\appdata\\local\\anaconda3\\envs\\pytemlib\\lib\\site-packages (from dask>=0.10->sidpy==0.12.1) (1.4.0)\n",
      "Requirement already satisfied: pyyaml>=5.3.1 in c:\\users\\gduscher\\appdata\\local\\anaconda3\\envs\\pytemlib\\lib\\site-packages (from dask>=0.10->sidpy==0.12.1) (6.0)\n",
      "Requirement already satisfied: importlib-metadata>=4.13.0 in c:\\users\\gduscher\\appdata\\local\\anaconda3\\envs\\pytemlib\\lib\\site-packages (from dask>=0.10->sidpy==0.12.1) (6.6.0)\n",
      "Requirement already satisfied: jinja2>=2.10.3 in c:\\users\\gduscher\\appdata\\local\\anaconda3\\envs\\pytemlib\\lib\\site-packages (from distributed>=2.0.0->sidpy==0.12.1) (3.1.2)\n",
      "Requirement already satisfied: locket>=1.0.0 in c:\\users\\gduscher\\appdata\\local\\anaconda3\\envs\\pytemlib\\lib\\site-packages (from distributed>=2.0.0->sidpy==0.12.1) (1.0.0)\n",
      "Requirement already satisfied: msgpack>=1.0.0 in c:\\users\\gduscher\\appdata\\local\\anaconda3\\envs\\pytemlib\\lib\\site-packages (from distributed>=2.0.0->sidpy==0.12.1) (1.0.5)\n",
      "Requirement already satisfied: sortedcontainers>=2.0.5 in c:\\users\\gduscher\\appdata\\local\\anaconda3\\envs\\pytemlib\\lib\\site-packages (from distributed>=2.0.0->sidpy==0.12.1) (2.4.0)\n",
      "Requirement already satisfied: tblib>=1.6.0 in c:\\users\\gduscher\\appdata\\local\\anaconda3\\envs\\pytemlib\\lib\\site-packages (from distributed>=2.0.0->sidpy==0.12.1) (1.7.0)\n",
      "Requirement already satisfied: tornado>=6.0.4 in c:\\users\\gduscher\\appdata\\local\\anaconda3\\envs\\pytemlib\\lib\\site-packages (from distributed>=2.0.0->sidpy==0.12.1) (6.3.2)\n",
      "Requirement already satisfied: urllib3>=1.24.3 in c:\\users\\gduscher\\appdata\\local\\anaconda3\\envs\\pytemlib\\lib\\site-packages (from distributed>=2.0.0->sidpy==0.12.1) (1.26.16)\n",
      "Requirement already satisfied: zict>=2.2.0 in c:\\users\\gduscher\\appdata\\local\\anaconda3\\envs\\pytemlib\\lib\\site-packages (from distributed>=2.0.0->sidpy==0.12.1) (3.0.0)\n",
      "Requirement already satisfied: backcall in c:\\users\\gduscher\\appdata\\local\\anaconda3\\envs\\pytemlib\\lib\\site-packages (from ipython>=6.0->sidpy==0.12.1) (0.2.0)\n",
      "Requirement already satisfied: decorator in c:\\users\\gduscher\\appdata\\local\\anaconda3\\envs\\pytemlib\\lib\\site-packages (from ipython>=6.0->sidpy==0.12.1) (5.1.1)\n",
      "Requirement already satisfied: jedi>=0.16 in c:\\users\\gduscher\\appdata\\local\\anaconda3\\envs\\pytemlib\\lib\\site-packages (from ipython>=6.0->sidpy==0.12.1) (0.18.2)\n",
      "Requirement already satisfied: matplotlib-inline in c:\\users\\gduscher\\appdata\\local\\anaconda3\\envs\\pytemlib\\lib\\site-packages (from ipython>=6.0->sidpy==0.12.1) (0.1.6)\n",
      "Requirement already satisfied: pickleshare in c:\\users\\gduscher\\appdata\\local\\anaconda3\\envs\\pytemlib\\lib\\site-packages (from ipython>=6.0->sidpy==0.12.1) (0.7.5)\n",
      "Requirement already satisfied: prompt-toolkit!=3.0.37,<3.1.0,>=3.0.30 in c:\\users\\gduscher\\appdata\\local\\anaconda3\\envs\\pytemlib\\lib\\site-packages (from ipython>=6.0->sidpy==0.12.1) (3.0.38)\n",
      "Requirement already satisfied: pygments>=2.4.0 in c:\\users\\gduscher\\appdata\\local\\anaconda3\\envs\\pytemlib\\lib\\site-packages (from ipython>=6.0->sidpy==0.12.1) (2.15.1)\n",
      "Requirement already satisfied: stack-data in c:\\users\\gduscher\\appdata\\local\\anaconda3\\envs\\pytemlib\\lib\\site-packages (from ipython>=6.0->sidpy==0.12.1) (0.6.2)\n",
      "Requirement already satisfied: traitlets>=5 in c:\\users\\gduscher\\appdata\\local\\anaconda3\\envs\\pytemlib\\lib\\site-packages (from ipython>=6.0->sidpy==0.12.1) (5.9.0)\n",
      "Requirement already satisfied: colorama in c:\\users\\gduscher\\appdata\\local\\anaconda3\\envs\\pytemlib\\lib\\site-packages (from ipython>=6.0->sidpy==0.12.1) (0.4.6)\n",
      "Requirement already satisfied: widgetsnbextension~=4.0.7 in c:\\users\\gduscher\\appdata\\local\\anaconda3\\envs\\pytemlib\\lib\\site-packages (from ipywidgets>=5.2.2->sidpy==0.12.1) (4.0.7)\n",
      "Requirement already satisfied: jupyterlab-widgets~=3.0.7 in c:\\users\\gduscher\\appdata\\local\\anaconda3\\envs\\pytemlib\\lib\\site-packages (from ipywidgets>=5.2.2->sidpy==0.12.1) (3.0.7)\n",
      "Requirement already satisfied: comm>=0.1.1 in c:\\users\\gduscher\\appdata\\local\\anaconda3\\envs\\pytemlib\\lib\\site-packages (from ipykernel->sidpy==0.12.1) (0.1.3)\n",
      "Requirement already satisfied: debugpy>=1.6.5 in c:\\users\\gduscher\\appdata\\local\\anaconda3\\envs\\pytemlib\\lib\\site-packages (from ipykernel->sidpy==0.12.1) (1.6.7)\n",
      "Requirement already satisfied: jupyter-client>=6.1.12 in c:\\users\\gduscher\\appdata\\local\\anaconda3\\envs\\pytemlib\\lib\\site-packages (from ipykernel->sidpy==0.12.1) (8.2.0)\n",
      "Requirement already satisfied: jupyter-core!=5.0.*,>=4.12 in c:\\users\\gduscher\\appdata\\local\\anaconda3\\envs\\pytemlib\\lib\\site-packages (from ipykernel->sidpy==0.12.1) (5.3.0)\n",
      "Requirement already satisfied: nest-asyncio in c:\\users\\gduscher\\appdata\\local\\anaconda3\\envs\\pytemlib\\lib\\site-packages (from ipykernel->sidpy==0.12.1) (1.5.6)\n",
      "Requirement already satisfied: pyzmq>=20 in c:\\users\\gduscher\\appdata\\local\\anaconda3\\envs\\pytemlib\\lib\\site-packages (from ipykernel->sidpy==0.12.1) (25.1.0)\n",
      "Requirement already satisfied: contourpy>=1.0.1 in c:\\users\\gduscher\\appdata\\local\\anaconda3\\envs\\pytemlib\\lib\\site-packages (from matplotlib>=2.0.0->sidpy==0.12.1) (1.0.7)\n",
      "Requirement already satisfied: cycler>=0.10 in c:\\users\\gduscher\\appdata\\local\\anaconda3\\envs\\pytemlib\\lib\\site-packages (from matplotlib>=2.0.0->sidpy==0.12.1) (0.11.0)\n",
      "Requirement already satisfied: fonttools>=4.22.0 in c:\\users\\gduscher\\appdata\\local\\anaconda3\\envs\\pytemlib\\lib\\site-packages (from matplotlib>=2.0.0->sidpy==0.12.1) (4.39.4)\n",
      "Requirement already satisfied: kiwisolver>=1.0.1 in c:\\users\\gduscher\\appdata\\local\\anaconda3\\envs\\pytemlib\\lib\\site-packages (from matplotlib>=2.0.0->sidpy==0.12.1) (1.4.4)\n",
      "Requirement already satisfied: pillow>=6.2.0 in c:\\users\\gduscher\\appdata\\local\\anaconda3\\envs\\pytemlib\\lib\\site-packages (from matplotlib>=2.0.0->sidpy==0.12.1) (10.0.0)\n",
      "Requirement already satisfied: pyparsing<3.1,>=2.3.1 in c:\\users\\gduscher\\appdata\\local\\anaconda3\\envs\\pytemlib\\lib\\site-packages (from matplotlib>=2.0.0->sidpy==0.12.1) (3.0.9)\n",
      "Requirement already satisfied: python-dateutil>=2.7 in c:\\users\\gduscher\\appdata\\local\\anaconda3\\envs\\pytemlib\\lib\\site-packages (from matplotlib>=2.0.0->sidpy==0.12.1) (2.8.2)\n",
      "Requirement already satisfied: threadpoolctl>=2.0.0 in c:\\users\\gduscher\\appdata\\local\\anaconda3\\envs\\pytemlib\\lib\\site-packages (from scikit-learn->sidpy==0.12.1) (3.1.0)\n",
      "Requirement already satisfied: zipp>=0.5 in c:\\users\\gduscher\\appdata\\local\\anaconda3\\envs\\pytemlib\\lib\\site-packages (from importlib-metadata>=4.13.0->dask>=0.10->sidpy==0.12.1) (3.15.0)\n",
      "Requirement already satisfied: parso<0.9.0,>=0.8.0 in c:\\users\\gduscher\\appdata\\local\\anaconda3\\envs\\pytemlib\\lib\\site-packages (from jedi>=0.16->ipython>=6.0->sidpy==0.12.1) (0.8.3)\n",
      "Requirement already satisfied: MarkupSafe>=2.0 in c:\\users\\gduscher\\appdata\\local\\anaconda3\\envs\\pytemlib\\lib\\site-packages (from jinja2>=2.10.3->distributed>=2.0.0->sidpy==0.12.1) (2.1.2)\n",
      "Requirement already satisfied: platformdirs>=2.5 in c:\\users\\gduscher\\appdata\\local\\anaconda3\\envs\\pytemlib\\lib\\site-packages (from jupyter-core!=5.0.*,>=4.12->ipykernel->sidpy==0.12.1) (3.5.1)\n",
      "Requirement already satisfied: pywin32>=300 in c:\\users\\gduscher\\appdata\\local\\anaconda3\\envs\\pytemlib\\lib\\site-packages (from jupyter-core!=5.0.*,>=4.12->ipykernel->sidpy==0.12.1) (304)\n",
      "Requirement already satisfied: wcwidth in c:\\users\\gduscher\\appdata\\local\\anaconda3\\envs\\pytemlib\\lib\\site-packages (from prompt-toolkit!=3.0.37,<3.1.0,>=3.0.30->ipython>=6.0->sidpy==0.12.1) (0.2.6)\n",
      "Requirement already satisfied: executing>=1.2.0 in c:\\users\\gduscher\\appdata\\local\\anaconda3\\envs\\pytemlib\\lib\\site-packages (from stack-data->ipython>=6.0->sidpy==0.12.1) (1.2.0)\n",
      "Requirement already satisfied: asttokens>=2.1.0 in c:\\users\\gduscher\\appdata\\local\\anaconda3\\envs\\pytemlib\\lib\\site-packages (from stack-data->ipython>=6.0->sidpy==0.12.1) (2.2.1)\n",
      "Requirement already satisfied: pure-eval in c:\\users\\gduscher\\appdata\\local\\anaconda3\\envs\\pytemlib\\lib\\site-packages (from stack-data->ipython>=6.0->sidpy==0.12.1) (0.2.2)\n"
     ]
    },
    {
     "name": "stderr",
     "output_type": "stream",
     "text": [
      "  Running command git clone --filter=blob:none --quiet https://github.com/pycroscopy/sidpy 'C:\\Users\\gduscher\\AppData\\Local\\Temp\\pip-req-build-t5foc5pm'\n"
     ]
    },
    {
     "name": "stdout",
     "output_type": "stream",
     "text": [
      "done\n"
     ]
    }
   ],
   "source": [
    "import sys\n",
    "\n",
    "from pkg_resources import get_distribution, DistributionNotFound\n",
    "\n",
    "def test_package(package_name):\n",
    "    \"\"\"Test if package exists and returns version or -1\"\"\"\n",
    "    try:\n",
    "        version = (get_distribution(package_name).version)\n",
    "    except (DistributionNotFound, ImportError) as err:\n",
    "        version = '-1'\n",
    "    return version\n",
    "\n",
    "\n",
    "# pyTEMlib setup ------------------\n",
    "if test_package('pyTEMlib') < '0.2023.11.1':\n",
    "    print('installing pyTEMlib')\n",
    "    !{sys.executable} -m pip install git+https://github.com/pycroscopy/sidpy.git@main -q\n",
    "    !{sys.executable} -m pip install git+https://github.com/pycroscopy/SciFiReaders.git@main -q\n",
    "    !{sys.executable} -m pip install git+https://github.com/pycroscopy/pyTEMlib.git@main -q --upgrade\n",
    "    \n",
    "if 'google.colab' in sys.modules:\n",
    "    !{sys.executable} -m pip install numpy==1.24.4\n",
    "# ------------------------------\n",
    "print('done')"
   ]
  },
  {
   "cell_type": "markdown",
   "metadata": {},
   "source": [
    "Restart the Runtime in Runtime Menu above or pres \"Ctrl-M\""
   ]
  },
  {
   "cell_type": "markdown",
   "metadata": {
    "hideCode": false,
    "hidePrompt": false
   },
   "source": [
    "### Load the relevant packages"
   ]
  },
  {
   "cell_type": "code",
   "execution_count": 4,
   "metadata": {},
   "outputs": [
    {
     "name": "stdout",
     "output_type": "stream",
     "text": [
      "You don't have igor2 installed.     If you wish to open igor files, you will need to install it     (pip install igor2) before attempting.\n",
      "You don't have gwyfile installed.     If you wish to open .gwy files, you will need to      install it (pip install gwyfile) before attempting.\n",
      "Symmetry functions of spglib enabled\n",
      "pyTEM version:  0.2023.8.1\n"
     ]
    }
   ],
   "source": [
    "%matplotlib widget\n",
    "import numpy as np\n",
    "import matplotlib.pylab as plt\n",
    "\n",
    "import sys\n",
    "sys.path.insert(0, '../..')\n",
    "\n",
    "if 'google.colab' in sys.modules:\n",
    "    from google.colab import output\n",
    "    output.enable_custom_widget_manager()\n",
    "    from google.colab import drive\n",
    "\n",
    "import pyTEMlib\n",
    "import pyTEMlib.file_tools as ft     # File input/ output library\n",
    "import pyTEMlib.image_tools as it\n",
    "import pyTEMlib.eels_tools  as eels        # EELS methods \n",
    "\n",
    "import pyTEMlib.interactive_eels as ieels  # Dialogs for EELS input and quantification\n",
    "\n",
    "# For archiving reasons it is a good idea to print the version numbers out at this point\n",
    "print('pyTEM version: ', pyTEMlib.__version__)\n",
    "\n",
    "__notebook__ = 'analyse_core_loss'\n",
    "__notebook_version__ = '2022_09_24'"
   ]
  },
  {
   "cell_type": "markdown",
   "metadata": {},
   "source": [
    "## Load and plot a spectrum\n",
    "\n",
    "As an example we load the spectrum **1EELS Acquire (high-loss).dm3** from the *example data* folder.\n",
    "\n",
    "Please see [Loading an EELS Spectrum](LoadEELS.ipynb) for details on storage and plotting.\n",
    "\n",
    "First a dialog to select a file will apear.\n",
    "\n",
    "Then the spectrum plot and ``Spectrum Info`` dialog will appear, in which we set the experimental parameters.\n",
    "\n",
    "Please use the ``Set Energy Scale`` button to change the energy scale. When pressed a new dialog and a cursor will appear in which one is able to set the energy scale based on known features in the spectrum.\n"
   ]
  },
  {
   "cell_type": "code",
   "execution_count": 3,
   "metadata": {},
   "outputs": [
    {
     "data": {
      "application/vnd.jupyter.widget-view+json": {
       "model_id": "be2eb2c708914aa7b1a3617603884b0f",
       "version_major": 2,
       "version_minor": 0
      },
      "text/plain": [
       "VBox(children=(Dropdown(description='directory:', layout=Layout(width='90%'), options=('c:\\\\Users\\\\gduscher\\\\D…"
      ]
     },
     "metadata": {},
     "output_type": "display_data"
    }
   ],
   "source": [
    "# -----Input -------#\n",
    "load_example = False\n",
    "\n",
    "if load_example:\n",
    "    datasets = ft.open_file('../../example_data/EELS_STO3.hf5')\n",
    "else:  \n",
    "    fileWidget = ft.FileWidget()"
   ]
  },
  {
   "cell_type": "code",
   "execution_count": 4,
   "metadata": {},
   "outputs": [
    {
     "data": {
      "application/vnd.jupyter.widget-view+json": {
       "model_id": "6ca831c917e545f2bf6dcfe3c53e632f",
       "version_major": 2,
       "version_minor": 0
      },
      "text/plain": [
       "AppLayout(children=(GridspecLayout(children=(Dropdown(description='Main Dataset:', layout=Layout(grid_area='wi…"
      ]
     },
     "metadata": {},
     "output_type": "display_data"
    }
   ],
   "source": [
    "if not load_example:\n",
    "    datasets = fileWidget.datasets\n",
    "infoWidget= ieels.InfoWidget(datasets)\n"
   ]
  },
  {
   "cell_type": "code",
   "execution_count": 58,
   "metadata": {},
   "outputs": [
    {
     "data": {
      "text/plain": [
       "(1.0, 2.8288232797477015e-07)"
      ]
     },
     "execution_count": 58,
     "metadata": {},
     "output_type": "execute_result"
    }
   ],
   "source": [
    "infoWidget.change_y_scale, infoWidget.y_scale "
   ]
  },
  {
   "cell_type": "markdown",
   "metadata": {},
   "source": [
    "## Chemical Composition \n",
    "The fit of the cross-section and background to the spectrum results in the chemical composition. If the calibration is correct this composition is given as areal density in atoms/nm$^2$\n",
    "\n",
    "\n"
   ]
  },
  {
   "cell_type": "code",
   "execution_count": 43,
   "metadata": {},
   "outputs": [
    {
     "name": "stdout",
     "output_type": "stream",
     "text": [
      "Auto Quantification\n",
      "\n",
      "Relative composition: \n",
      "Ti: 72.2%  Sb: 24.3%  Te: 3.5%  \n"
     ]
    }
   ],
   "source": [
    "print('Auto Quantification')\n",
    "eels.auto_chemical_composition(infoWidget.dataset)"
   ]
  },
  {
   "cell_type": "markdown",
   "metadata": {},
   "source": [
    "###  Fit of Data\n",
    "A dashboardw will open.\n",
    "Press **Elements** to select the elements first.\n",
    "\n",
    "Pres``Quantification`` button. Adjust parameters as needed and check fit by pressing the ``Quantification`` button again.\n",
    "\n",
    "Select the ``Fit Area`` button will show you which parts of the spectrum you choose to fit.\n",
    "\n",
    "Changing the multiplier value will make a simulation of your spectrum.\n",
    "\n",
    "Probability will change to atoms/nm$^2$ if you selected a reference for the counts in the info dashboard above.\n",
    "Edges button will display the edges of the te selected elements.\n",
    "\n",
    "If a low-loss spectrum is selected a "
   ]
  },
  {
   "cell_type": "code",
   "execution_count": 4,
   "metadata": {
    "tags": []
   },
   "outputs": [],
   "source": [
    "datasets['Channel_000'].metadata['edges']={}\n",
    "plt.close('all')"
   ]
  },
  {
   "cell_type": "code",
   "execution_count": 5,
   "metadata": {
    "tags": []
   },
   "outputs": [
    {
     "data": {
      "application/vnd.jupyter.widget-view+json": {
       "model_id": "13b5760319ba42dc9cd6bb4fe25c756d",
       "version_major": 2,
       "version_minor": 0
      },
      "text/plain": [
       "AppLayout(children=(GridspecLayout(children=(ToggleButton(value=False, button_style='info', description='Fit A…"
      ]
     },
     "metadata": {},
     "output_type": "display_data"
    }
   ],
   "source": [
    "compositionWidget = ieels.CompositionWidget(datasets)"
   ]
  },
  {
   "cell_type": "code",
   "execution_count": 89,
   "metadata": {},
   "outputs": [],
   "source": [
    "1/compositionWidget.dataset.metadata['experiment']['flux_ppm']*0.03\n",
    "compositionWidget.plot()"
   ]
  },
  {
   "cell_type": "code",
   "execution_count": null,
   "metadata": {},
   "outputs": [],
   "source": []
  },
  {
   "cell_type": "code",
   "execution_count": 13,
   "metadata": {},
   "outputs": [
    {
     "data": {
      "text/plain": [
       "{'name': 'Al',\n",
       " 'barns': 448039000000.0,\n",
       " 'NumEdges': 5,\n",
       " 'atomic_weight': 26.9815,\n",
       " 'nominal_density': 2.6941,\n",
       " 'photoabs_to_sigma': 44.8039,\n",
       " 'lines': {'K-L3': {'weight': 1.0, 'position': 1486.5000000000002},\n",
       "  'K-L2': {'weight': 0.505, 'position': 1486.5000000000002}},\n",
       " 'M1': {'filename': 'None',\n",
       "  'excl before': 5,\n",
       "  'excl after': 50,\n",
       "  'onset': 8.37567,\n",
       "  'factor': 1.0},\n",
       " 'L3': {'filename': 'Al.L3',\n",
       "  'excl before': 5,\n",
       "  'excl after': 50,\n",
       "  'onset': 73.1,\n",
       "  'factor': 1.0,\n",
       "  'twin': 'L2'},\n",
       " 'L2': {'filename': 'None',\n",
       "  'excl before': 5,\n",
       "  'excl after': 50,\n",
       "  'onset': 73.1,\n",
       "  'factor': 0.5},\n",
       " 'L1': {'filename': 'Al.L1',\n",
       "  'excl before': 5,\n",
       "  'excl after': 50,\n",
       "  'onset': 117.7,\n",
       "  'factor': 1.0},\n",
       " 'K1': {'filename': 'Al.K1',\n",
       "  'excl before': 5,\n",
       "  'excl after': 50,\n",
       "  'onset': 1559.6,\n",
       "  'factor': 1.0,\n",
       "  'shape': 'hydrogenic'},\n",
       " 'dat': array([0.00000000e+00, 0.00000000e+00, 0.00000000e+00, 8.56605764e+15,\n",
       "        7.39846801e+15, 1.19953481e+15, 9.20272106e+14, 7.81738447e+14,\n",
       "        7.21297986e+14, 7.10769070e+14, 7.37068959e+14, 7.94283539e+14,\n",
       "        8.79769380e+14, 9.92406385e+14, 1.13116406e+15, 1.29429506e+15,\n",
       "        1.47875272e+15, 1.67960860e+15, 1.89009733e+15, 2.10175095e+15,\n",
       "        2.30480222e+15, 2.48921508e+15, 2.64549108e+15, 2.76104034e+15,\n",
       "        2.82493070e+15, 2.83796863e+15, 2.80432090e+15, 2.73084251e+15,\n",
       "        2.62259629e+15, 2.48155361e+15, 2.32088682e+15, 2.14857102e+15,\n",
       "        1.97159562e+15, 1.79578512e+15, 1.70801428e+15, 1.66943812e+15,\n",
       "        1.65935724e+15, 3.73565957e+16, 3.78991710e+16, 3.84404021e+16,\n",
       "        4.31546684e+16, 4.85674276e+16, 5.23892003e+16, 5.43784934e+16,\n",
       "        5.45935522e+16, 5.32673567e+16, 5.17305829e+16, 5.10854068e+16,\n",
       "        5.09061912e+16, 5.57494928e+16, 5.56688458e+16, 5.49519834e+16,\n",
       "        5.22637493e+16, 4.82269180e+16, 4.38912446e+16, 3.94807486e+16,\n",
       "        3.51679252e+16, 3.10750890e+16, 2.72779584e+16, 2.38150650e+16,\n",
       "        2.06985057e+16, 1.79233522e+16, 1.54725788e+16, 1.33219916e+16,\n",
       "        1.14451563e+16, 9.81339822e+15, 8.39669890e+15, 7.17131223e+15,\n",
       "        6.11438823e+15, 5.20576514e+15, 4.42586365e+15, 3.75833035e+15,\n",
       "        3.18788709e+15, 2.70086870e+15, 2.28571576e+15, 1.93243701e+15,\n",
       "        1.63238529e+15, 1.37785434e+15, 1.16234758e+15, 9.80085312e+14,\n",
       "        8.26139112e+14, 6.96207802e+14, 5.86707070e+14, 4.94500644e+14,\n",
       "        4.11649272e+14, 3.42897688e+14, 2.85889206e+14, 2.38571807e+14,\n",
       "        1.98996522e+14, 1.65451842e+14, 1.54394239e+14, 1.48085850e+14,\n",
       "        1.46463949e+14, 1.80824060e+15, 1.77194944e+15, 1.76809631e+15,\n",
       "        1.56087827e+15, 1.31768270e+15, 1.09572418e+15, 9.11132110e+14,\n",
       "        7.63503260e+14, 6.40830182e+14, 5.38453270e+14, 4.52384978e+14,\n",
       "        3.79780258e+14, 3.17686533e+14, 2.63276677e+14, 2.18087464e+14,\n",
       "        1.80667246e+14, 1.49667428e+14, 1.23994793e+14, 1.02730862e+14,\n",
       "        8.51184492e+13, 7.05258190e+13, 5.84377268e+13, 4.84240551e+13,\n",
       "        4.01254768e+13, 3.31647429e+13, 2.72770624e+13, 2.24346568e+13,\n",
       "        1.84529343e+13, 1.51499907e+13, 1.23555715e+13, 1.00768451e+13,\n",
       "        8.21837938e+12, 6.70311148e+12, 5.46697188e+12, 4.45924256e+12,\n",
       "        3.63718060e+12, 2.96673504e+12, 2.41985864e+12, 1.97388062e+12,\n",
       "        1.61007295e+12, 1.31338152e+12, 1.07135086e+12, 8.73944873e+11,\n",
       "        7.12919657e+11, 5.81554622e+11, 4.72322714e+11, 3.83041982e+11,\n",
       "        3.10647841e+11, 2.51475330e+11, 2.03154324e+11, 1.64116686e+11,\n",
       "        1.32579220e+11, 1.07103723e+11, 8.65252917e+10, 6.99030448e+10,\n",
       "        5.64663552e+10, 4.56103702e+10, 3.68409029e+10, 2.97574063e+10,\n",
       "        2.40359482e+10, 1.94148740e+10, 1.56822611e+10, 1.26669586e+10,\n",
       "        1.02318666e+10, 8.26497543e+09]),\n",
       " 'ene': array([8.208152e+00, 8.333787e+00, 8.367290e+00, 8.417543e+00,\n",
       "        8.543178e+00, 1.069000e+01, 1.142761e+01, 1.221612e+01,\n",
       "        1.305903e+01, 1.396010e+01, 1.492335e+01, 1.595306e+01,\n",
       "        1.705382e+01, 1.823053e+01, 1.948844e+01, 2.083314e+01,\n",
       "        2.227063e+01, 2.380730e+01, 2.545001e+01, 2.720606e+01,\n",
       "        2.908327e+01, 3.109002e+01, 3.323523e+01, 3.552846e+01,\n",
       "        3.797993e+01, 4.060054e+01, 4.340198e+01, 4.639671e+01,\n",
       "        4.959809e+01, 5.302035e+01, 5.667876e+01, 6.058959e+01,\n",
       "        6.477028e+01, 6.923942e+01, 7.163800e+01, 7.273450e+01,\n",
       "        7.302690e+01, 7.346550e+01, 7.401695e+01, 7.456200e+01,\n",
       "        7.912411e+01, 8.458368e+01, 9.041995e+01, 9.665893e+01,\n",
       "        1.033284e+02, 1.104581e+02, 1.153460e+02, 1.171115e+02,\n",
       "        1.175823e+02, 1.180797e+02, 1.182885e+02, 1.200540e+02,\n",
       "        1.262272e+02, 1.349368e+02, 1.442475e+02, 1.542005e+02,\n",
       "        1.648404e+02, 1.762144e+02, 1.883732e+02, 2.013709e+02,\n",
       "        2.152655e+02, 2.301188e+02, 2.459970e+02, 2.629708e+02,\n",
       "        2.811158e+02, 3.005128e+02, 3.212482e+02, 3.434143e+02,\n",
       "        3.671099e+02, 3.924405e+02, 4.195189e+02, 4.484657e+02,\n",
       "        4.794098e+02, 5.124891e+02, 5.478508e+02, 5.856525e+02,\n",
       "        6.260625e+02, 6.692609e+02, 7.154399e+02, 7.648052e+02,\n",
       "        8.175768e+02, 8.739896e+02, 9.342948e+02, 9.987612e+02,\n",
       "        1.067676e+03, 1.141345e+03, 1.220098e+03, 1.304285e+03,\n",
       "        1.394281e+03, 1.490486e+03, 1.528408e+03, 1.551802e+03,\n",
       "        1.558040e+03, 1.567398e+03, 1.590792e+03, 1.593329e+03,\n",
       "        1.703269e+03, 1.820795e+03, 1.946430e+03, 2.080733e+03,\n",
       "        2.224304e+03, 2.377781e+03, 2.541848e+03, 2.717235e+03,\n",
       "        2.904724e+03, 3.105150e+03, 3.319406e+03, 3.548445e+03,\n",
       "        3.793288e+03, 4.055024e+03, 4.334821e+03, 4.633924e+03,\n",
       "        4.953664e+03, 5.295467e+03, 5.660855e+03, 6.051453e+03,\n",
       "        6.469004e+03, 6.915365e+03, 7.392525e+03, 7.902609e+03,\n",
       "        8.447890e+03, 9.030794e+03, 9.653919e+03, 1.032004e+04,\n",
       "        1.103212e+04, 1.179334e+04, 1.260708e+04, 1.347697e+04,\n",
       "        1.440688e+04, 1.540095e+04, 1.646362e+04, 1.759961e+04,\n",
       "        1.881398e+04, 2.011215e+04, 2.149988e+04, 2.298338e+04,\n",
       "        2.456923e+04, 2.626450e+04, 2.807676e+04, 3.001405e+04,\n",
       "        3.208502e+04, 3.429889e+04, 3.666551e+04, 3.919543e+04,\n",
       "        4.189992e+04, 4.479101e+04, 4.788159e+04, 5.118542e+04,\n",
       "        5.471721e+04, 5.849270e+04, 6.252870e+04, 6.684318e+04,\n",
       "        7.145536e+04, 7.638578e+04, 8.165640e+04, 8.729069e+04,\n",
       "        9.331374e+04, 9.975239e+04])}"
      ]
     },
     "execution_count": 13,
     "metadata": {},
     "output_type": "execute_result"
    }
   ],
   "source": [
    "import pyTEMlib.eels_tools\n",
    "x_sections = pyTEMlib.eels_tools.get_x_sections(13)\n",
    "x_sections"
   ]
  },
  {
   "cell_type": "markdown",
   "metadata": {},
   "source": [
    "### Output of Results"
   ]
  },
  {
   "cell_type": "code",
   "execution_count": 90,
   "metadata": {},
   "outputs": [
    {
     "name": "stdout",
     "output_type": "stream",
     "text": [
      "Relative chemical composition of  EELS_STO2\n",
      "Ti: 20.9 %\n",
      "O: 79.1 %\n"
     ]
    }
   ],
   "source": [
    "edges = compositionWidget.dataset.metadata['edges']\n",
    "element = []\n",
    "areal_density = []\n",
    "for key, edge in edges.items():\n",
    "    if key.isdigit():\n",
    "        element.append(edge['element'])\n",
    "        areal_density.append(edge['areal_density'])\n",
    "\n",
    "print('Relative chemical composition of ', compositionWidget.dataset.title)\n",
    "for i in range(len(element)):\n",
    "    print(f'{element[i]}: {areal_density[i]/np.sum(areal_density)*100:.1f} %')\n",
    "    \n",
    "saved_edges_metadata = edges"
   ]
  },
  {
   "cell_type": "markdown",
   "metadata": {},
   "source": [
    "### Log Data\n",
    "All the data associated with quantification are stored in the ``metadata`` attribute. The relevant keys of that dictionary are:  ``experiment`` and  ``edges``."
   ]
  },
  {
   "cell_type": "code",
   "execution_count": 44,
   "metadata": {
    "scrolled": true
   },
   "outputs": [
    {
     "name": "stdout",
     "output_type": "stream",
     "text": [
      "experiment :\n",
      "\tsingle_exposure_time : 2.0\n",
      "\texposure_time : 20.0\n",
      "\tnumber_of_frames : 10\n",
      "\tcollection_angle : 33.0\n",
      "\tconvergence_angle : 30.0\n",
      "\tacceleration_voltage : 200000.0\n",
      "\tflux_ppm : 0\n",
      "\tcount_conversion : 1\n",
      "\tbeam_current : 0\n",
      "filename : c:\\Users\\gduscher\\Documents\\Github\\pyTEMlib\\example_data\\EELS_STO2.dm3\n",
      "edges :\n",
      "\t0 :\n",
      "\t\tz : 22\n",
      "\t\tsymmetry : L3\n",
      "\t\telement : Ti\n",
      "\t\tonset : 455.5\n",
      "\t\tend_exclude : 505.5\n",
      "\t\tstart_exclude : 450.5\n",
      "\t\tall_edges :\n",
      "\t\t\tL3 :\n",
      "\t\t\t\tonset : 455.5\n",
      "\t\t\tL2 :\n",
      "\t\t\t\tonset : 461.5\n",
      "\t\t\tL1 :\n",
      "\t\t\t\tonset : 563.6999999999999\n",
      "\t\tchemical_shift : 0.0\n",
      "\t\tareal_density : 7065319769996.836\n",
      "\t\toriginal_onset : 455.5\n",
      "\t\tdata : [1.23264220e-09 1.22917273e-09 1.22570326e-09 ... 4.28971162e-10\n",
      " 4.28439070e-10 4.27906979e-10]\n",
      "\t\tX_section_type : XRPA\n",
      "\t\tX_section_source : pyTEMlib\n",
      "\tmodel :\n",
      "\t\tbackground : energy_loss:  energy-loss (eV) of size (2048,)\n",
      "\t\tbackground-poly_0 : -18905.269730586166\n",
      "\t\tbackground-poly_1 : -5.10291026745673\n",
      "\t\tbackground-poly_2 : 0.005046721263305648\n",
      "\t\tbackground-A : 3837665365.6060038\n",
      "\t\tbackground-r : 1.7015198900098305\n",
      "\t\tspectrum : energy_loss:  energy-loss (eV) of size (2048,)\n",
      "\t\tblurred : [183081.86  183025.38  182917.77  ...  23102.238  23095.361  23091.861]\n",
      "\t\tmask : [0. 0. 0. ... 1. 1. 1.]\n",
      "\t\tfit_parameter : [ 7.06531977e+12  2.98518572e+13  3.23511906e+04  3.23511906e+04\n",
      "  3.23511906e+04  3.23511906e+04 -1.89052697e+04 -5.10291027e+00\n",
      "  5.04672126e-03]\n",
      "\t\tfit_area_start : 351.669\n",
      "\t\tfit_area_end : 913.99\n",
      "\tuse_low_loss : False\n",
      "\tfit_area :\n",
      "\t\tfit_start : 351.669\n",
      "\t\tfit_end : 913.99\n",
      "\t1 :\n",
      "\t\tz : 8\n",
      "\t\tsymmetry : K1\n",
      "\t\telement : O\n",
      "\t\tonset : 532.0\n",
      "\t\tend_exclude : 582.0\n",
      "\t\tstart_exclude : 527.0\n",
      "\t\tall_edges :\n",
      "\t\t\tK1 :\n",
      "\t\t\t\tonset : 532.0\n",
      "\t\tchemical_shift : 0.0\n",
      "\t\tareal_density : 29851857187607.938\n",
      "\t\toriginal_onset : 532.0\n",
      "\t\tdata : [2.57010352e-10 2.56162359e-10 2.55314367e-10 ... 1.14358357e-10\n",
      " 1.14210558e-10 1.14062758e-10]\n",
      "\t\tX_section_type : XRPA\n",
      "\t\tX_section_source : pyTEMlib\n"
     ]
    }
   ],
   "source": [
    "compositionWidget.dataset.view_metadata()"
   ]
  },
  {
   "cell_type": "markdown",
   "metadata": {},
   "source": [
    "## ELNES\n",
    "The electron energy-loss near edge structure is determined by fititng the spectrum after quantification model subtraction. \n",
    "\n",
    "First smooth the spectrum (only 0 iteration available at this time) and then \n",
    "find the number of peaks you want (Can be repeated as oftern as one wants).\n",
    "\n",
    "Please note that the peaks do not necessarily have a physcial meaning as there are peaks with \n",
    "positive and negative amplitudes. The goal is to get a smooth representation of the spectrum.\n",
    "A difference of a good fit and the data should result in a residual of noise only. To achieve such a good fit, the careful setting of the edge onset is important.\n"
   ]
  },
  {
   "cell_type": "code",
   "execution_count": 6,
   "metadata": {},
   "outputs": [
    {
     "data": {
      "application/vnd.jupyter.widget-view+json": {
       "model_id": "fb60183c48a84e68846c6162a81ca8e1",
       "version_major": 2,
       "version_minor": 0
      },
      "text/plain": [
       "AppLayout(children=(GridspecLayout(children=(Button(description='Fit Area', layout=Layout(grid_area='widget001…"
      ]
     },
     "metadata": {},
     "output_type": "display_data"
    }
   ],
   "source": [
    "datasets['Channel_000'].metadata['peak_fit'] ={}\n",
    "peakFitWidget = ieels.PeakFitWidget(datasets)"
   ]
  },
  {
   "cell_type": "code",
   "execution_count": 14,
   "metadata": {},
   "outputs": [
    {
     "data": {
      "text/plain": [
       "{'z': 22,\n",
       " 'symmetry': 'L3',\n",
       " 'element': 'Ti',\n",
       " 'onset': 455.5,\n",
       " 'end_exclude': 505.5,\n",
       " 'start_exclude': 450.5,\n",
       " 'all_edges': {'L3': {'onset': 455.5},\n",
       "  'L2': {'onset': 461.5},\n",
       "  'L1': {'onset': 563.6999999999999}},\n",
       " 'chemical_shift': 0.0,\n",
       " 'areal_density': 7321568622261.2295,\n",
       " 'original_onset': 455.5,\n",
       " 'data': array([1.10801890e-09, 1.10556278e-09, 1.10310666e-09, ...,\n",
       "        4.40886101e-10, 4.40394599e-10, 4.39903096e-10]),\n",
       " 'X_section_type': 'XRPA',\n",
       " 'X_section_source': 'pyTEMlib'}"
      ]
     },
     "execution_count": 14,
     "metadata": {},
     "output_type": "execute_result"
    }
   ],
   "source": [
    "peakFitWidget.dataset.metadata['edges']['0']"
   ]
  },
  {
   "cell_type": "code",
   "execution_count": 29,
   "metadata": {},
   "outputs": [],
   "source": [
    "peakFitWidget.fit_peaks()"
   ]
  },
  {
   "cell_type": "code",
   "execution_count": 27,
   "metadata": {},
   "outputs": [
    {
     "name": "stdout",
     "output_type": "stream",
     "text": [
      "found_whiteline\n",
      "found_whiteline\n",
      "found_whiteline\n",
      "\n",
      "{'Ti-L2': 1378553.3487112543} {}\n"
     ]
    }
   ],
   "source": [
    "peakFitWidget.find_white_lines()"
   ]
  },
  {
   "cell_type": "markdown",
   "metadata": {},
   "source": [
    "### Output"
   ]
  },
  {
   "cell_type": "code",
   "execution_count": 92,
   "metadata": {},
   "outputs": [
    {
     "ename": "NameError",
     "evalue": "name 'peakFitWidget' is not defined",
     "output_type": "error",
     "traceback": [
      "\u001b[1;31m---------------------------------------------------------------------------\u001b[0m",
      "\u001b[1;31mNameError\u001b[0m                                 Traceback (most recent call last)",
      "Cell \u001b[1;32mIn[92], line 2\u001b[0m\n\u001b[0;32m      1\u001b[0m areas \u001b[38;5;241m=\u001b[39m []\n\u001b[1;32m----> 2\u001b[0m \u001b[38;5;28;01mfor\u001b[39;00m p, peak \u001b[38;5;129;01min\u001b[39;00m \u001b[43mpeakFitWidget\u001b[49m\u001b[38;5;241m.\u001b[39mpeaks[\u001b[38;5;124m'\u001b[39m\u001b[38;5;124mpeaks\u001b[39m\u001b[38;5;124m'\u001b[39m]\u001b[38;5;241m.\u001b[39mitems():\n\u001b[0;32m      3\u001b[0m     area \u001b[38;5;241m=\u001b[39m np\u001b[38;5;241m.\u001b[39msqrt(\u001b[38;5;241m2\u001b[39m\u001b[38;5;241m*\u001b[39m np\u001b[38;5;241m.\u001b[39mpi)\u001b[38;5;241m*\u001b[39m peak[\u001b[38;5;124m'\u001b[39m\u001b[38;5;124mamplitude\u001b[39m\u001b[38;5;124m'\u001b[39m] \u001b[38;5;241m*\u001b[39m np\u001b[38;5;241m.\u001b[39mabs(peak[\u001b[38;5;124m'\u001b[39m\u001b[38;5;124mwidth\u001b[39m\u001b[38;5;124m'\u001b[39m] \u001b[38;5;241m/\u001b[39m np\u001b[38;5;241m.\u001b[39msqrt(\u001b[38;5;241m2\u001b[39m \u001b[38;5;241m*\u001b[39mnp\u001b[38;5;241m.\u001b[39mlog(\u001b[38;5;241m2\u001b[39m))) \n\u001b[0;32m      4\u001b[0m     areas\u001b[38;5;241m.\u001b[39mappend(area)\n",
      "\u001b[1;31mNameError\u001b[0m: name 'peakFitWidget' is not defined"
     ]
    }
   ],
   "source": [
    "areas = []\n",
    "for p, peak in peakFitWidget.peaks['peaks'].items():\n",
    "    area = np.sqrt(2* np.pi)* peak['amplitude'] * np.abs(peak['width'] / np.sqrt(2 *np.log(2))) \n",
    "    areas.append(area)\n",
    "    if 'associated_edge' not in peak:\n",
    "        peak['associated_edge']= ''\n",
    "    print(f\"peak  {p}: position: {peak['position']:7.1f}, area: {area:12.3f} associated edge: {peak['associated_edge']}\")\n",
    "#print(f'\\n M4/M5 peak 2 to peak 1 ratio: {(areas[1])/areas[0]:.2f}')"
   ]
  },
  {
   "cell_type": "markdown",
   "metadata": {},
   "source": [
    "### Log Data\n",
    "All the data associated with quantification are stored in the ``metadata`` attribute. \n",
    "The new key in that dictionary is: ``peak_fit``."
   ]
  },
  {
   "cell_type": "code",
   "execution_count": 49,
   "metadata": {},
   "outputs": [
    {
     "data": {
      "text/plain": [
       "dict_keys(['experiment', 'filename', 'edges', 'peak_fit'])"
      ]
     },
     "execution_count": 49,
     "metadata": {},
     "output_type": "execute_result"
    }
   ],
   "source": [
    "infoWidget.dataset.metadata.keys()"
   ]
  },
  {
   "cell_type": "markdown",
   "metadata": {
    "hideCode": false,
    "hidePrompt": true
   },
   "source": [
    "## Save and Close File\n",
    "The dataset with the metadata should be saved for further quantification. \n",
    "The file needs to be closed to be used with other notebooks."
   ]
  },
  {
   "cell_type": "code",
   "execution_count": 93,
   "metadata": {
    "hideCode": false,
    "hidePrompt": true
   },
   "outputs": [
    {
     "name": "stdout",
     "output_type": "stream",
     "text": [
      "Cannot overwrite file. Using:  EELS_STO3-1.hf5\n"
     ]
    },
    {
     "name": "stderr",
     "output_type": "stream",
     "text": [
      "C:\\Users\\gduscher\\AppData\\Local\\anaconda3\\envs\\pyTEMlib\\Lib\\site-packages\\pyNSID\\io\\hdf_utils.py:376: FutureWarning: validate_h5_dimension may be removed in a future version\n",
      "  warn('validate_h5_dimension may be removed in a future version',\n",
      "C:\\Users\\gduscher\\AppData\\Local\\anaconda3\\envs\\pyTEMlib\\Lib\\site-packages\\pyNSID\\io\\hdf_io.py:111: UserWarning: main_data_name should not contain the \"-\" character. Reformatted name from:ronchigram-0.5mu to ronchigram_0.5mu\n",
      "  warn('main_data_name should not contain the \"-\" character. Reformatted'\n",
      "C:\\Users\\gduscher\\AppData\\Local\\anaconda3\\envs\\pyTEMlib\\Lib\\site-packages\\pyNSID\\io\\hdf_utils.py:376: FutureWarning: validate_h5_dimension may be removed in a future version\n",
      "  warn('validate_h5_dimension may be removed in a future version',\n"
     ]
    }
   ],
   "source": [
    "h5_group = ft.save_dataset(infoWidget.datasets, '../../example_data/EELS_STO3.hf5')\n",
    "h5_group.file.close()"
   ]
  },
  {
   "cell_type": "code",
   "execution_count": null,
   "metadata": {},
   "outputs": [],
   "source": []
  }
 ],
 "metadata": {
  "hide_code_all_hidden": true,
  "kernelspec": {
   "display_name": "pyTEMlib",
   "language": "python",
   "name": "pytemlib"
  },
  "language_info": {
   "codemirror_mode": {
    "name": "ipython",
    "version": 3
   },
   "file_extension": ".py",
   "mimetype": "text/x-python",
   "name": "python",
   "nbconvert_exporter": "python",
   "pygments_lexer": "ipython3",
   "version": "3.11.6"
  },
  "toc": {
   "base_numbering": 1,
   "nav_menu": {},
   "number_sections": true,
   "sideBar": true,
   "skip_h1_title": false,
   "title_cell": "Table of Contents",
   "title_sidebar": "Contents",
   "toc_cell": false,
   "toc_position": {
    "height": "calc(100% - 180px)",
    "left": "10px",
    "top": "150px",
    "width": "270px"
   },
   "toc_section_display": true,
   "toc_window_display": false
  },
  "varInspector": {
   "cols": {
    "lenName": 16,
    "lenType": 16,
    "lenVar": 40
   },
   "kernels_config": {
    "python": {
     "delete_cmd_postfix": "",
     "delete_cmd_prefix": "del ",
     "library": "var_list.py",
     "varRefreshCmd": "print(var_dic_list())"
    },
    "r": {
     "delete_cmd_postfix": ") ",
     "delete_cmd_prefix": "rm(",
     "library": "var_list.r",
     "varRefreshCmd": "cat(var_dic_list()) "
    }
   },
   "types_to_exclude": [
    "module",
    "function",
    "builtin_function_or_method",
    "instance",
    "_Feature"
   ],
   "window_display": false
  }
 },
 "nbformat": 4,
 "nbformat_minor": 4
}
