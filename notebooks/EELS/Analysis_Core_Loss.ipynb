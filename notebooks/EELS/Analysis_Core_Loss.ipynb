{
 "cells": [
  {
   "cell_type": "markdown",
   "metadata": {
    "hideCode": true,
    "hidePrompt": true
   },
   "source": [
    "<font size = \"5\"> **Chapter 4:  [Spectroscopy](Ch4-Spectroscopy.ipynb)** </font>\n",
    "\n",
    "<hr style=\"height:1px;border-top:4px solid #FF8200\" />\n",
    "\n",
    "# Analysis of Core-Loss Spectra\n",
    "<br>\n",
    "\n",
    "\n",
    "[![Open In Colab](https://colab.research.google.com/assets/colab-badge.svg)](https://colab.research.google.com/github/pycroscopy/pyTEMlib/blob/master/notebooks/EELS/Analysis_Core_Loss.ipynb)\n",
    "\n",
    "part of \n",
    "\n",
    "<font size = \"5\"> **[Analysis of Transmission Electron Microscope Data](_Analysis_of_Transmission_Electron_Microscope_Data.ipynb)**</font>\n",
    "\n",
    "by Gerd Duscher, 2020\n",
    "\n",
    "Microscopy Facilities<br>\n",
    "Joint Institute of Advanced Materials<br>\n",
    "The University of Tennessee, Knoxville\n",
    "\n",
    "Model based analysis and quantification of data acquired with transmission electron microscopes\n",
    "\n",
    "\n"
   ]
  },
  {
   "cell_type": "markdown",
   "metadata": {
    "hideCode": true,
    "hidePrompt": true
   },
   "source": [
    "## Content\n",
    "\n",
    "Quantitative determination of chemical composition from a core-loss EELS spectrum\n",
    "\n",
    "\n",
    "Relavant notebooks in course [MSE 672: Introduction to TEM]()  give an in depth explanation of the method.\n",
    "\n",
    "Please cite:\n",
    "\n",
    "[M. Tian et  al. *Measuring the areal density of nanomaterials by electron energy-loss spectroscopy*\n",
    "Ultramicroscopy Volume 196, 2019, pages 154-160](https://doi.org/10.1016/j.ultramic.2018.10.009)\n",
    "\n",
    "as a reference of this quantification method.\n",
    "\n",
    "## Prerequesites\n",
    "This notebook will only run with  ``version 0.0.4`` or higher.\n",
    "\n",
    "### Install missing packages\n",
    "This can take a while for the first time. This code will have to run at least once on you computer or colab session."
   ]
  },
  {
   "cell_type": "code",
   "execution_count": null,
   "metadata": {},
   "outputs": [],
   "source": [
    "import sys\n",
    "from pkg_resources import get_distribution, DistributionNotFound\n",
    "\n",
    "def test_package(package_name):\n",
    "    \"\"\"Test if package exists without loading nd returns version or -1\"\"\"\n",
    "    try:\n",
    "        version = (get_distribution(package_name).version)\n",
    "    except (DistributionNotFound, ImportError) as err:\n",
    "        version = '-1'\n",
    "    return version\n",
    "\n",
    "# Colab setup ------------------\n",
    "if 'google.colab' in sys.modules:\n",
    "    !pip install git+https://github.com/pycroscopy/pyNSID/ -q\n",
    "    !pip install git+https://github.com/pycroscopy/sidpy/ -q\n",
    "    !pip install git+https://github.com/pycroscopy/pyTEMlib/ -q\n",
    "    !wget  \"https://raw.githubusercontent.com/gduscher/Analysis-of-Transmission-Electron-Microscope-Data/master/example_data/1EELS Acquire (high-loss).dm3\" -P /content/example-data/\n",
    "else:\n",
    "    # pyTEMlib setup ------------------\n",
    "    if test_package('sidpy') < '0.0.7':\n",
    "        print('installing sidpy')\n",
    "        !{sys.executable} -m pip install  --upgrade sidpy -q     \n",
    "    if test_package('pyNSID') < '0.0.3':\n",
    "        print('installing pyNSID')\n",
    "        !{sys.executable} -m pip install  --upgrade pyNSID -q \n",
    "    if test_package('pyTEMlib') < '0.2021.10.1':\n",
    "        print('installing pyTEMlib')\n",
    "        !{sys.executable} -m pip install  --upgrade pyTEMlib -q\n",
    "# ------------------------------\n",
    "print('done')"
   ]
  },
  {
   "cell_type": "markdown",
   "metadata": {
    "hideCode": false,
    "hidePrompt": false
   },
   "source": [
    "### Load the relevant packages"
   ]
  },
  {
   "cell_type": "code",
   "execution_count": 3,
   "metadata": {
    "hideCode": true,
    "hidePrompt": false
   },
   "outputs": [
    {
     "name": "stdout",
     "output_type": "stream",
     "text": [
      "Populating the interactive namespace from numpy and matplotlib\n",
      "pyTEM version:  0.2021.10.1\n"
     ]
    }
   ],
   "source": [
    "%pylab --no-import-all notebook\n",
    "%gui qt\n",
    "\n",
    "import pyTEMlib\n",
    "import pyTEMlib.file_tools as ft     # File input/ output library\n",
    "import pyTEMlib.image_tools as it\n",
    "import pyTEMlib.eels_tools  as eels        # EELS methods \n",
    "\n",
    "import pyTEMlib.interactive_eels as ieels  # Dialogs for EELS input and quantification\n",
    "\n",
    "\n",
    "# For archiving reasons it is a good idea to print the version numbers out at this point\n",
    "print('pyTEM version: ',pyTEMlib.__version__)\n",
    "\n",
    "__notebook__ = 'analyse_core_loss'\n",
    "__notebook_version__ = '2021_10_19'"
   ]
  },
  {
   "cell_type": "code",
   "execution_count": 1,
   "metadata": {},
   "outputs": [
    {
     "data": {
      "text/plain": [
       "'0.4.4'"
      ]
     },
     "execution_count": 1,
     "metadata": {},
     "output_type": "execute_result"
    }
   ],
   "source": [
    "import ipyfilechooser\n",
    "ipyfilechooser.__version__"
   ]
  },
  {
   "cell_type": "markdown",
   "metadata": {},
   "source": [
    "## Load and plot a spectrum\n",
    "\n",
    "As an example we load the spectrum **1EELS Acquire (high-loss).dm3** from the *example data* folder.\n",
    "\n",
    "Please see [Loading an EELS Spectrum](LoadEELS.ipynb) for details on storage and plotting.\n",
    "\n",
    "First a dialog to select a file will apear.\n",
    "\n",
    "Then the spectrum plot and ``Spectrum Info`` dialog will appear, in which we set the experimental parameters.\n",
    "\n",
    "Please use the ``Set Energy Scale`` button to change the energy scale. When pressed a new dialog and a cursor will appear in which one is able to set the energy scale based on known features in the spectrum.\n"
   ]
  },
  {
   "cell_type": "code",
   "execution_count": 4,
   "metadata": {
    "scrolled": false
   },
   "outputs": [
    {
     "data": {
      "text/plain": [
       "''"
      ]
     },
     "execution_count": 4,
     "metadata": {},
     "output_type": "execute_result"
    }
   ],
   "source": [
    "file_name = ft.open_file_dialog_qt()\n",
    "file_name"
   ]
  },
  {
   "cell_type": "code",
   "execution_count": null,
   "metadata": {
    "scrolled": false
   },
   "outputs": [],
   "source": [
    "# file_name = file_widget.selected\n",
    "try:\n",
    "    dataset.h5_dataset.file.close()\n",
    "except:\n",
    "    pass\n",
    "dataset= ft.open_file(file_name)\n",
    "\n",
    "current_channel = dataset.h5_dataset.parent.parent\n",
    "\n",
    "if 'experiment' not in dataset.metadata:\n",
    "    dataset.metadata['experiment']= eels.read_dm3_eels_info(dataset.original_metadata)\n",
    "# US 200 does not set acceleration voltage correctly.\n",
    "# comment out next line  for other microscopes\n",
    "# dataset.metadata['experiment']['acceleration_voltage'] = 200000\n",
    "if dataset.data_type.name in ['SPECTRUM', 'SPECTRAL_IMAGE']:\n",
    "    info = ieels.InfoDialog(dataset)\n",
    "else:\n",
    "    print('We really need a spectrum here')\n",
    "    dataset.plot()"
   ]
  },
  {
   "cell_type": "code",
   "execution_count": null,
   "metadata": {},
   "outputs": [],
   "source": [
    "dataset.data_type.name"
   ]
  },
  {
   "cell_type": "markdown",
   "metadata": {},
   "source": [
    "## Chemical Composition \n",
    "The fit of the cross-section and background to the spectrum results in the chemical composition. If the calibration is correct this composition is given as areal density in atoms/nm$^2$\n",
    "\n",
    "\n",
    "###  Fit of Data\n",
    "A dialog window will open, enter the elements first (0 will open a periodic table) and press \n",
    "``Fit Composition`` button (bottom right). Adjust parameters as needed and check fit by pressing the ``Fit Composition`` button again.\n",
    "\n",
    "Select the ``Region`` checkbox to see which parts of the spectrum you choose to fit.\n",
    "\n",
    "Changing the multiplier value will make a simulation of your spectrum.\n",
    "\n",
    "The ``InfoDialog``, if open, still works to change experimental parameters and the energy scale."
   ]
  },
  {
   "cell_type": "code",
   "execution_count": null,
   "metadata": {
    "scrolled": false
   },
   "outputs": [],
   "source": [
    "# dataset.metadata['edges'] = {'0': {}, 'model': {}, 'use_low_loss': False}  # use this to delete elements\n",
    "\n",
    "composition = ieels.CompositionDialog(dataset)"
   ]
  },
  {
   "cell_type": "markdown",
   "metadata": {},
   "source": [
    "### Output of Results"
   ]
  },
  {
   "cell_type": "code",
   "execution_count": null,
   "metadata": {},
   "outputs": [],
   "source": [
    "edges = dataset.metadata['edges']\n",
    "element = []\n",
    "areal_density = []\n",
    "for key, edge in edges.items():\n",
    "    if key.isdigit():\n",
    "        element.append(edge['element'])\n",
    "        areal_density.append(edge['areal_density'])\n",
    "\n",
    "print('Relative chemical composition of ', dataset.title)\n",
    "for i in range(len(element)):\n",
    "    print(f'{element[i]}: {areal_density[i]/np.sum(areal_density)*100:.1f} %')\n",
    "    \n",
    "saved_edges_metadata = edges"
   ]
  },
  {
   "cell_type": "markdown",
   "metadata": {},
   "source": [
    "### Log Data\n",
    "We write all the data to the hdf5 file associated with our dataset.\n",
    "\n",
    "In our case that is only the ``metadata``, in which we stored the ``experimental parameters`` and the ``fitting parameters and result``."
   ]
  },
  {
   "cell_type": "code",
   "execution_count": null,
   "metadata": {},
   "outputs": [],
   "source": [
    "current_group = dataset.h5_dataset.parent.parent\n",
    "if 'Log_000' not in current_group:\n",
    "    log_group = current_group.create_group('Log_000')\n",
    "    \n",
    "log_group = current_group['Log_000']\n",
    "if 'analysis' in log_group:\n",
    "    del log_group['analysis'] \n",
    "log_group['analysis'] = 'EELS_quantification'\n",
    "\n",
    "sidpy.hdf.hdf_utils.write_simple_attrs(log_group, dataset.metadata)\n",
    "current_group.file.flush()"
   ]
  },
  {
   "cell_type": "code",
   "execution_count": null,
   "metadata": {},
   "outputs": [],
   "source": [
    "ft.h5_tree(current_group.file)"
   ]
  },
  {
   "cell_type": "markdown",
   "metadata": {},
   "source": [
    "## ELNES\n",
    "The electron energy-loss near edge structure is determined by fititng the spectrum after quantification model subtraction. \n",
    "\n",
    "First smooth the spectrum (2 iterations are ususally sufficient) and then \n",
    "find the number of peaks you want (Can be repeated as oftern as one wants).\n"
   ]
  },
  {
   "cell_type": "code",
   "execution_count": null,
   "metadata": {},
   "outputs": [],
   "source": [
    "peak_dialog = ieels.PeakFitDialog(dataset)"
   ]
  },
  {
   "cell_type": "markdown",
   "metadata": {},
   "source": [
    "### Output"
   ]
  },
  {
   "cell_type": "code",
   "execution_count": null,
   "metadata": {},
   "outputs": [],
   "source": [
    "areas = []\n",
    "for p, peak in peak_dialog.peaks['peaks'].items():\n",
    "    area = np.sqrt(2* np.pi)* peak['amplitude'] * np.abs(peak['width'] / np.sqrt(2 *np.log(2))) \n",
    "    areas.append(area)\n",
    "    if 'associated_edge' not in peak:\n",
    "        peak['associated_edge']= ''\n",
    "    print(f\"peak  {p}: position: {peak['position']:7.1f}, area: {area:12.3f} associated edge: {peak['associated_edge']}\")\n",
    "#print(f'\\n M4/M5 peak 2 to peak 1 ratio: {(areas[1])/areas[0]:.2f}')"
   ]
  },
  {
   "cell_type": "markdown",
   "metadata": {},
   "source": [
    "### Log Data"
   ]
  },
  {
   "cell_type": "code",
   "execution_count": null,
   "metadata": {},
   "outputs": [],
   "source": [
    "current_group = current_dataset.h5_dataset.parent\n",
    "if 'Log_001' not in current_group:\n",
    "    log_group = current_group.create_group('Log_001')\n",
    "    \n",
    "log_group = current_group['Log_001']\n",
    "if 'analysis' in log_group:\n",
    "    del log_group['analysis'] \n",
    "log_group['analysis'] = 'ELNES_fit'\n",
    "sidpy.hdf.hdf_utils.write_simple_attrs(log_group, dataset.metadata)\n",
    "current_group.file.flush()\n",
    "\n",
    "print('Logged Data of ', current_dataset.title)\n",
    "for key in current_group:\n",
    "    if 'Log_' in key:\n",
    "        if 'analysis' in current_group[key]:\n",
    "            print(f\" {key}: {current_group[key]['analysis'][()]}\")"
   ]
  },
  {
   "cell_type": "markdown",
   "metadata": {
    "hideCode": false,
    "hidePrompt": true
   },
   "source": [
    "## Close File\n",
    "File needs to be closed to be used with other notebooks"
   ]
  },
  {
   "cell_type": "code",
   "execution_count": null,
   "metadata": {
    "hideCode": false,
    "hidePrompt": true
   },
   "outputs": [],
   "source": [
    "current_dataset.h5_dataset.file.close()"
   ]
  },
  {
   "cell_type": "markdown",
   "metadata": {
    "hideCode": true,
    "hidePrompt": true
   },
   "source": [
    "## Navigation\n",
    "<font size = \"5\"> **Back: [Calculating Dielectric Function II: Silicon](DielectricDFT2.ipynb)** </font>\n",
    "\n",
    "<font size = \"5\"> **Next: [ELNES](ELNES.ipynb)** </font>\n",
    "\n",
    "<font size = \"5\"> **Chapter 4: [Spectroscopy](Spectroscopy.ipynb)** </font>\n",
    "\n",
    "<font size = \"5\"> **Index: [Index](Analysis_of_Transmission_Electron_Microscope_Data.ipynb)** </font>"
   ]
  },
  {
   "cell_type": "code",
   "execution_count": null,
   "metadata": {
    "hideCode": true,
    "hidePrompt": true
   },
   "outputs": [],
   "source": [
    "%pylab notebook\n",
    "\n",
    "t = np.arange(0.0, 0.2, 0.1)\n",
    "y1 = 2*np.sin(2*np.pi*t)\n",
    "y2 = 4*np.sin(2*np.pi*2*t)\n",
    "\n",
    "fig, ax = plt.subplots()\n",
    "ax.set_title('Click on legend line to toggle line on/off')\n",
    "line1, = ax.plot(t, y1, lw=2, label='1 HZ')\n",
    "line2, = ax.plot(t, y2, lw=2, label='2 HZ')\n",
    "leg = ax.legend(loc='upper left', fancybox=True, shadow=True)\n",
    "leg.get_frame().set_alpha(0.4)\n",
    "\n",
    "\n",
    "# we will set up a dict mapping legend line to orig line, and enable\n",
    "# picking on the legend line\n",
    "lines = [line1, line2]\n",
    "lined = dict()\n",
    "for legline, origline in zip(leg.get_lines(), lines):\n",
    "    legline.set_picker(5)  # 5 pts tolerance\n",
    "    lined[legline] = origline\n",
    "\n",
    "\n",
    "def onpick(event):\n",
    "    # on the pick event, find the orig line corresponding to the\n",
    "    # legend proxy line, and toggle the visibility\n",
    "    legline = event.artist\n",
    "    origline = lined[legline]\n",
    "    vis = not origline.get_visible()\n",
    "    origline.set_visible(vis)\n",
    "    # Change the alpha on the line in the legend so we can see what lines\n",
    "    # have been toggled\n",
    "    if vis:\n",
    "        legline.set_alpha(1.0)\n",
    "    else:\n",
    "        legline.set_alpha(0.2)\n",
    "    fig.canvas.draw()\n",
    "\n",
    "fig.canvas.mpl_connect('pick_event', onpick)\n",
    "\n",
    "plt.show()\n"
   ]
  },
  {
   "cell_type": "code",
   "execution_count": null,
   "metadata": {},
   "outputs": [],
   "source": [
    "print(lined)"
   ]
  },
  {
   "cell_type": "code",
   "execution_count": null,
   "metadata": {},
   "outputs": [],
   "source": [
    "line3, = ax.plot(t, y2-1, lw=2, label='3 HZ')\n",
    "legline= leg.get_lines()[-1]\n",
    "legline.set_pickradius (5)  # 5 pts tolerance\n",
    "lined[legline] = origline\n",
    "fig.canvas.draw_idle()"
   ]
  },
  {
   "cell_type": "code",
   "execution_count": null,
   "metadata": {},
   "outputs": [],
   "source": []
  }
 ],
 "metadata": {
  "hide_code_all_hidden": true,
  "kernelspec": {
   "display_name": "Python 3 (ipykernel)",
   "language": "python",
   "name": "python3"
  },
  "language_info": {
   "codemirror_mode": {
    "name": "ipython",
    "version": 3
   },
   "file_extension": ".py",
   "mimetype": "text/x-python",
   "name": "python",
   "nbconvert_exporter": "python",
   "pygments_lexer": "ipython3",
   "version": "3.8.12"
  },
  "toc": {
   "base_numbering": 1,
   "nav_menu": {},
   "number_sections": true,
   "sideBar": true,
   "skip_h1_title": false,
   "title_cell": "Table of Contents",
   "title_sidebar": "Contents",
   "toc_cell": false,
   "toc_position": {
    "height": "calc(100% - 180px)",
    "left": "10px",
    "top": "150px",
    "width": "270px"
   },
   "toc_section_display": true,
   "toc_window_display": false
  },
  "varInspector": {
   "cols": {
    "lenName": 16,
    "lenType": 16,
    "lenVar": 40
   },
   "kernels_config": {
    "python": {
     "delete_cmd_postfix": "",
     "delete_cmd_prefix": "del ",
     "library": "var_list.py",
     "varRefreshCmd": "print(var_dic_list())"
    },
    "r": {
     "delete_cmd_postfix": ") ",
     "delete_cmd_prefix": "rm(",
     "library": "var_list.r",
     "varRefreshCmd": "cat(var_dic_list()) "
    }
   },
   "types_to_exclude": [
    "module",
    "function",
    "builtin_function_or_method",
    "instance",
    "_Feature"
   ],
   "window_display": false
  }
 },
 "nbformat": 4,
 "nbformat_minor": 2
}
