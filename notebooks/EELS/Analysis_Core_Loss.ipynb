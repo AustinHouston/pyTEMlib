{
 "cells": [
  {
   "cell_type": "markdown",
   "metadata": {
    "hideCode": true,
    "hidePrompt": true
   },
   "source": [
    "<font size = \"5\"> **EELS_Tools:  [Spectroscopy](../4_EELS_Tools.ipynb)** </font>\n",
    "\n",
    "<hr style=\"height:1px;border-top:4px solid #FF8200\" />\n",
    "\n",
    "# Analysis of Core-Loss EELS Spectra\n",
    "<br>\n",
    "\n",
    "[<img src=https://www.coeuscreativegroup.com/wp-content/uploads/2020/04/download-button.png, width=125>](https://raw.githubusercontent.com/pycroscopy/pyTEMlib/main/notebooks/EELS/Analysis_Core_Loss.ipynb) \n",
    "\n",
    "[![OpenInColab](https://colab.research.google.com/assets/colab-badge.svg)](\n",
    "    https://colab.research.google.com/github/pycroscopy/pyTEMlib/blob/main/notebooks/EELS/Analysis_Core_Loss.ipynb)\n",
    "    \n",
    "part of \n",
    "\n",
    "<font size = \"5\"> **[pyTEMlib](https://pycroscopy.github.io/pyTEMlib/about.html)**</font>\n",
    "\n",
    "a [pycroscopy](https://pycroscopy.github.io/pycroscopy/about.html) ecosystem package\n",
    "\n",
    "\n",
    "Notebook by Gerd Duscher, 2023\n",
    "\n",
    "Microscopy Facilities<br>\n",
    "Institute of Advanced Materials & Manufacturing<br>\n",
    "The University of Tennessee, Knoxville\n",
    "\n",
    "Model based analysis and quantification of data acquired with transmission electron microscopes\n",
    "\n",
    "\n"
   ]
  },
  {
   "cell_type": "markdown",
   "metadata": {
    "hideCode": true,
    "hidePrompt": true
   },
   "source": [
    "## Content\n",
    "\n",
    "Quantitative determination of chemical composition from a core-loss EELS spectrum\n",
    "\n",
    "Relavant notebooks in course [MSE 672: Introduction to TEM]()  give an in depth explanation of the method.\n",
    "\n",
    "Please cite:\n",
    "\n",
    "[M. Tian et  al. *Measuring the areal density of nanomaterials by electron energy-loss spectroscopy*\n",
    "Ultramicroscopy Volume 196, 2019, pages 154-160](https://doi.org/10.1016/j.ultramic.2018.10.009)\n",
    "\n",
    "as a reference of this quantification method.\n",
    "\n",
    "## Prerequesites\n",
    "This notebook will only run with  ``pyTEMlib version 0.2023.5.0`` or higher.\n",
    "\n",
    "### Install missing packages\n",
    "This can take a while for the first time. This code will have to run at least once on your computer and for each colab session."
   ]
  },
  {
   "cell_type": "code",
   "execution_count": 2,
   "metadata": {},
   "outputs": [
    {
     "name": "stdout",
     "output_type": "stream",
     "text": [
      "installing pyTEMlib\n",
      "Collecting git+https://github.com/pycroscopy/sidpy\n",
      "  Cloning https://github.com/pycroscopy/sidpy to c:\\users\\gduscher\\appdata\\local\\temp\\pip-req-build-t5foc5pm\n",
      "  Resolved https://github.com/pycroscopy/sidpy to commit 78a293b0e2f2d3f6aa2773a484918c0c2ba94ebf\n",
      "  Preparing metadata (setup.py): started\n",
      "  Preparing metadata (setup.py): finished with status 'done'\n",
      "Requirement already satisfied: numpy>=1.10 in c:\\users\\gduscher\\appdata\\local\\anaconda3\\envs\\pytemlib\\lib\\site-packages (from sidpy==0.12.1) (1.24.3)\n",
      "Requirement already satisfied: toolz in c:\\users\\gduscher\\appdata\\local\\anaconda3\\envs\\pytemlib\\lib\\site-packages (from sidpy==0.12.1) (0.12.0)\n",
      "Requirement already satisfied: cytoolz in c:\\users\\gduscher\\appdata\\local\\anaconda3\\envs\\pytemlib\\lib\\site-packages (from sidpy==0.12.1) (0.12.0)\n",
      "Requirement already satisfied: dask>=0.10 in c:\\users\\gduscher\\appdata\\local\\anaconda3\\envs\\pytemlib\\lib\\site-packages (from sidpy==0.12.1) (2023.5.1)\n",
      "Requirement already satisfied: h5py>=2.6.0 in c:\\users\\gduscher\\appdata\\local\\anaconda3\\envs\\pytemlib\\lib\\site-packages (from sidpy==0.12.1) (3.9.0)\n",
      "Requirement already satisfied: matplotlib>=2.0.0 in c:\\users\\gduscher\\appdata\\local\\anaconda3\\envs\\pytemlib\\lib\\site-packages (from sidpy==0.12.1) (3.7.2)\n",
      "Requirement already satisfied: distributed>=2.0.0 in c:\\users\\gduscher\\appdata\\local\\anaconda3\\envs\\pytemlib\\lib\\site-packages (from sidpy==0.12.1) (2023.5.1)\n",
      "Requirement already satisfied: psutil in c:\\users\\gduscher\\appdata\\local\\anaconda3\\envs\\pytemlib\\lib\\site-packages (from sidpy==0.12.1) (5.9.5)\n",
      "Requirement already satisfied: six in c:\\users\\gduscher\\appdata\\local\\anaconda3\\envs\\pytemlib\\lib\\site-packages (from sidpy==0.12.1) (1.16.0)\n",
      "Requirement already satisfied: joblib>=0.11.0 in c:\\users\\gduscher\\appdata\\local\\anaconda3\\envs\\pytemlib\\lib\\site-packages (from sidpy==0.12.1) (1.2.0)\n",
      "Requirement already satisfied: ipywidgets>=5.2.2 in c:\\users\\gduscher\\appdata\\local\\anaconda3\\envs\\pytemlib\\lib\\site-packages (from sidpy==0.12.1) (8.0.6)\n",
      "Requirement already satisfied: ipykernel in c:\\users\\gduscher\\appdata\\local\\anaconda3\\envs\\pytemlib\\lib\\site-packages (from sidpy==0.12.1) (6.23.1)\n",
      "Requirement already satisfied: scikit-learn in c:\\users\\gduscher\\appdata\\local\\anaconda3\\envs\\pytemlib\\lib\\site-packages (from sidpy==0.12.1) (1.2.2)\n",
      "Requirement already satisfied: scipy in c:\\users\\gduscher\\appdata\\local\\anaconda3\\envs\\pytemlib\\lib\\site-packages (from sidpy==0.12.1) (1.10.1)\n",
      "Requirement already satisfied: ase in c:\\users\\gduscher\\appdata\\local\\anaconda3\\envs\\pytemlib\\lib\\site-packages (from sidpy==0.12.1) (3.22.1)\n",
      "Requirement already satisfied: ipython>=6.0 in c:\\users\\gduscher\\appdata\\local\\anaconda3\\envs\\pytemlib\\lib\\site-packages (from sidpy==0.12.1) (8.13.2)\n",
      "Requirement already satisfied: click>=8.0 in c:\\users\\gduscher\\appdata\\local\\anaconda3\\envs\\pytemlib\\lib\\site-packages (from dask>=0.10->sidpy==0.12.1) (8.1.3)\n",
      "Requirement already satisfied: cloudpickle>=1.5.0 in c:\\users\\gduscher\\appdata\\local\\anaconda3\\envs\\pytemlib\\lib\\site-packages (from dask>=0.10->sidpy==0.12.1) (2.2.1)\n",
      "Requirement already satisfied: fsspec>=2021.09.0 in c:\\users\\gduscher\\appdata\\local\\anaconda3\\envs\\pytemlib\\lib\\site-packages (from dask>=0.10->sidpy==0.12.1) (2023.5.0)\n",
      "Requirement already satisfied: packaging>=20.0 in c:\\users\\gduscher\\appdata\\local\\anaconda3\\envs\\pytemlib\\lib\\site-packages (from dask>=0.10->sidpy==0.12.1) (23.0)\n",
      "Requirement already satisfied: partd>=1.2.0 in c:\\users\\gduscher\\appdata\\local\\anaconda3\\envs\\pytemlib\\lib\\site-packages (from dask>=0.10->sidpy==0.12.1) (1.4.0)\n",
      "Requirement already satisfied: pyyaml>=5.3.1 in c:\\users\\gduscher\\appdata\\local\\anaconda3\\envs\\pytemlib\\lib\\site-packages (from dask>=0.10->sidpy==0.12.1) (6.0)\n",
      "Requirement already satisfied: importlib-metadata>=4.13.0 in c:\\users\\gduscher\\appdata\\local\\anaconda3\\envs\\pytemlib\\lib\\site-packages (from dask>=0.10->sidpy==0.12.1) (6.6.0)\n",
      "Requirement already satisfied: jinja2>=2.10.3 in c:\\users\\gduscher\\appdata\\local\\anaconda3\\envs\\pytemlib\\lib\\site-packages (from distributed>=2.0.0->sidpy==0.12.1) (3.1.2)\n",
      "Requirement already satisfied: locket>=1.0.0 in c:\\users\\gduscher\\appdata\\local\\anaconda3\\envs\\pytemlib\\lib\\site-packages (from distributed>=2.0.0->sidpy==0.12.1) (1.0.0)\n",
      "Requirement already satisfied: msgpack>=1.0.0 in c:\\users\\gduscher\\appdata\\local\\anaconda3\\envs\\pytemlib\\lib\\site-packages (from distributed>=2.0.0->sidpy==0.12.1) (1.0.5)\n",
      "Requirement already satisfied: sortedcontainers>=2.0.5 in c:\\users\\gduscher\\appdata\\local\\anaconda3\\envs\\pytemlib\\lib\\site-packages (from distributed>=2.0.0->sidpy==0.12.1) (2.4.0)\n",
      "Requirement already satisfied: tblib>=1.6.0 in c:\\users\\gduscher\\appdata\\local\\anaconda3\\envs\\pytemlib\\lib\\site-packages (from distributed>=2.0.0->sidpy==0.12.1) (1.7.0)\n",
      "Requirement already satisfied: tornado>=6.0.4 in c:\\users\\gduscher\\appdata\\local\\anaconda3\\envs\\pytemlib\\lib\\site-packages (from distributed>=2.0.0->sidpy==0.12.1) (6.3.2)\n",
      "Requirement already satisfied: urllib3>=1.24.3 in c:\\users\\gduscher\\appdata\\local\\anaconda3\\envs\\pytemlib\\lib\\site-packages (from distributed>=2.0.0->sidpy==0.12.1) (1.26.16)\n",
      "Requirement already satisfied: zict>=2.2.0 in c:\\users\\gduscher\\appdata\\local\\anaconda3\\envs\\pytemlib\\lib\\site-packages (from distributed>=2.0.0->sidpy==0.12.1) (3.0.0)\n",
      "Requirement already satisfied: backcall in c:\\users\\gduscher\\appdata\\local\\anaconda3\\envs\\pytemlib\\lib\\site-packages (from ipython>=6.0->sidpy==0.12.1) (0.2.0)\n",
      "Requirement already satisfied: decorator in c:\\users\\gduscher\\appdata\\local\\anaconda3\\envs\\pytemlib\\lib\\site-packages (from ipython>=6.0->sidpy==0.12.1) (5.1.1)\n",
      "Requirement already satisfied: jedi>=0.16 in c:\\users\\gduscher\\appdata\\local\\anaconda3\\envs\\pytemlib\\lib\\site-packages (from ipython>=6.0->sidpy==0.12.1) (0.18.2)\n",
      "Requirement already satisfied: matplotlib-inline in c:\\users\\gduscher\\appdata\\local\\anaconda3\\envs\\pytemlib\\lib\\site-packages (from ipython>=6.0->sidpy==0.12.1) (0.1.6)\n",
      "Requirement already satisfied: pickleshare in c:\\users\\gduscher\\appdata\\local\\anaconda3\\envs\\pytemlib\\lib\\site-packages (from ipython>=6.0->sidpy==0.12.1) (0.7.5)\n",
      "Requirement already satisfied: prompt-toolkit!=3.0.37,<3.1.0,>=3.0.30 in c:\\users\\gduscher\\appdata\\local\\anaconda3\\envs\\pytemlib\\lib\\site-packages (from ipython>=6.0->sidpy==0.12.1) (3.0.38)\n",
      "Requirement already satisfied: pygments>=2.4.0 in c:\\users\\gduscher\\appdata\\local\\anaconda3\\envs\\pytemlib\\lib\\site-packages (from ipython>=6.0->sidpy==0.12.1) (2.15.1)\n",
      "Requirement already satisfied: stack-data in c:\\users\\gduscher\\appdata\\local\\anaconda3\\envs\\pytemlib\\lib\\site-packages (from ipython>=6.0->sidpy==0.12.1) (0.6.2)\n",
      "Requirement already satisfied: traitlets>=5 in c:\\users\\gduscher\\appdata\\local\\anaconda3\\envs\\pytemlib\\lib\\site-packages (from ipython>=6.0->sidpy==0.12.1) (5.9.0)\n",
      "Requirement already satisfied: colorama in c:\\users\\gduscher\\appdata\\local\\anaconda3\\envs\\pytemlib\\lib\\site-packages (from ipython>=6.0->sidpy==0.12.1) (0.4.6)\n",
      "Requirement already satisfied: widgetsnbextension~=4.0.7 in c:\\users\\gduscher\\appdata\\local\\anaconda3\\envs\\pytemlib\\lib\\site-packages (from ipywidgets>=5.2.2->sidpy==0.12.1) (4.0.7)\n",
      "Requirement already satisfied: jupyterlab-widgets~=3.0.7 in c:\\users\\gduscher\\appdata\\local\\anaconda3\\envs\\pytemlib\\lib\\site-packages (from ipywidgets>=5.2.2->sidpy==0.12.1) (3.0.7)\n",
      "Requirement already satisfied: comm>=0.1.1 in c:\\users\\gduscher\\appdata\\local\\anaconda3\\envs\\pytemlib\\lib\\site-packages (from ipykernel->sidpy==0.12.1) (0.1.3)\n",
      "Requirement already satisfied: debugpy>=1.6.5 in c:\\users\\gduscher\\appdata\\local\\anaconda3\\envs\\pytemlib\\lib\\site-packages (from ipykernel->sidpy==0.12.1) (1.6.7)\n",
      "Requirement already satisfied: jupyter-client>=6.1.12 in c:\\users\\gduscher\\appdata\\local\\anaconda3\\envs\\pytemlib\\lib\\site-packages (from ipykernel->sidpy==0.12.1) (8.2.0)\n",
      "Requirement already satisfied: jupyter-core!=5.0.*,>=4.12 in c:\\users\\gduscher\\appdata\\local\\anaconda3\\envs\\pytemlib\\lib\\site-packages (from ipykernel->sidpy==0.12.1) (5.3.0)\n",
      "Requirement already satisfied: nest-asyncio in c:\\users\\gduscher\\appdata\\local\\anaconda3\\envs\\pytemlib\\lib\\site-packages (from ipykernel->sidpy==0.12.1) (1.5.6)\n",
      "Requirement already satisfied: pyzmq>=20 in c:\\users\\gduscher\\appdata\\local\\anaconda3\\envs\\pytemlib\\lib\\site-packages (from ipykernel->sidpy==0.12.1) (25.1.0)\n",
      "Requirement already satisfied: contourpy>=1.0.1 in c:\\users\\gduscher\\appdata\\local\\anaconda3\\envs\\pytemlib\\lib\\site-packages (from matplotlib>=2.0.0->sidpy==0.12.1) (1.0.7)\n",
      "Requirement already satisfied: cycler>=0.10 in c:\\users\\gduscher\\appdata\\local\\anaconda3\\envs\\pytemlib\\lib\\site-packages (from matplotlib>=2.0.0->sidpy==0.12.1) (0.11.0)\n",
      "Requirement already satisfied: fonttools>=4.22.0 in c:\\users\\gduscher\\appdata\\local\\anaconda3\\envs\\pytemlib\\lib\\site-packages (from matplotlib>=2.0.0->sidpy==0.12.1) (4.39.4)\n",
      "Requirement already satisfied: kiwisolver>=1.0.1 in c:\\users\\gduscher\\appdata\\local\\anaconda3\\envs\\pytemlib\\lib\\site-packages (from matplotlib>=2.0.0->sidpy==0.12.1) (1.4.4)\n",
      "Requirement already satisfied: pillow>=6.2.0 in c:\\users\\gduscher\\appdata\\local\\anaconda3\\envs\\pytemlib\\lib\\site-packages (from matplotlib>=2.0.0->sidpy==0.12.1) (10.0.0)\n",
      "Requirement already satisfied: pyparsing<3.1,>=2.3.1 in c:\\users\\gduscher\\appdata\\local\\anaconda3\\envs\\pytemlib\\lib\\site-packages (from matplotlib>=2.0.0->sidpy==0.12.1) (3.0.9)\n",
      "Requirement already satisfied: python-dateutil>=2.7 in c:\\users\\gduscher\\appdata\\local\\anaconda3\\envs\\pytemlib\\lib\\site-packages (from matplotlib>=2.0.0->sidpy==0.12.1) (2.8.2)\n",
      "Requirement already satisfied: threadpoolctl>=2.0.0 in c:\\users\\gduscher\\appdata\\local\\anaconda3\\envs\\pytemlib\\lib\\site-packages (from scikit-learn->sidpy==0.12.1) (3.1.0)\n",
      "Requirement already satisfied: zipp>=0.5 in c:\\users\\gduscher\\appdata\\local\\anaconda3\\envs\\pytemlib\\lib\\site-packages (from importlib-metadata>=4.13.0->dask>=0.10->sidpy==0.12.1) (3.15.0)\n",
      "Requirement already satisfied: parso<0.9.0,>=0.8.0 in c:\\users\\gduscher\\appdata\\local\\anaconda3\\envs\\pytemlib\\lib\\site-packages (from jedi>=0.16->ipython>=6.0->sidpy==0.12.1) (0.8.3)\n",
      "Requirement already satisfied: MarkupSafe>=2.0 in c:\\users\\gduscher\\appdata\\local\\anaconda3\\envs\\pytemlib\\lib\\site-packages (from jinja2>=2.10.3->distributed>=2.0.0->sidpy==0.12.1) (2.1.2)\n",
      "Requirement already satisfied: platformdirs>=2.5 in c:\\users\\gduscher\\appdata\\local\\anaconda3\\envs\\pytemlib\\lib\\site-packages (from jupyter-core!=5.0.*,>=4.12->ipykernel->sidpy==0.12.1) (3.5.1)\n",
      "Requirement already satisfied: pywin32>=300 in c:\\users\\gduscher\\appdata\\local\\anaconda3\\envs\\pytemlib\\lib\\site-packages (from jupyter-core!=5.0.*,>=4.12->ipykernel->sidpy==0.12.1) (304)\n",
      "Requirement already satisfied: wcwidth in c:\\users\\gduscher\\appdata\\local\\anaconda3\\envs\\pytemlib\\lib\\site-packages (from prompt-toolkit!=3.0.37,<3.1.0,>=3.0.30->ipython>=6.0->sidpy==0.12.1) (0.2.6)\n",
      "Requirement already satisfied: executing>=1.2.0 in c:\\users\\gduscher\\appdata\\local\\anaconda3\\envs\\pytemlib\\lib\\site-packages (from stack-data->ipython>=6.0->sidpy==0.12.1) (1.2.0)\n",
      "Requirement already satisfied: asttokens>=2.1.0 in c:\\users\\gduscher\\appdata\\local\\anaconda3\\envs\\pytemlib\\lib\\site-packages (from stack-data->ipython>=6.0->sidpy==0.12.1) (2.2.1)\n",
      "Requirement already satisfied: pure-eval in c:\\users\\gduscher\\appdata\\local\\anaconda3\\envs\\pytemlib\\lib\\site-packages (from stack-data->ipython>=6.0->sidpy==0.12.1) (0.2.2)\n"
     ]
    },
    {
     "name": "stderr",
     "output_type": "stream",
     "text": [
      "  Running command git clone --filter=blob:none --quiet https://github.com/pycroscopy/sidpy 'C:\\Users\\gduscher\\AppData\\Local\\Temp\\pip-req-build-t5foc5pm'\n"
     ]
    },
    {
     "name": "stdout",
     "output_type": "stream",
     "text": [
      "done\n"
     ]
    }
   ],
   "source": [
    "import sys\n",
    "\n",
    "from pkg_resources import get_distribution, DistributionNotFound\n",
    "\n",
    "def test_package(package_name):\n",
    "    \"\"\"Test if package exists and returns version or -1\"\"\"\n",
    "    try:\n",
    "        version = (get_distribution(package_name).version)\n",
    "    except (DistributionNotFound, ImportError) as err:\n",
    "        version = '-1'\n",
    "    return version\n",
    "\n",
    "\n",
    "# pyTEMlib setup ------------------\n",
    "if test_package('pyTEMlib') < '0.2023.8.1':\n",
    "    print('installing pyTEMlib')\n",
    "    !{sys.executable} -m pip install git+https://github.com/pycroscopy/sidpy\n",
    "    !{sys.executable} -m pip install git+https://github.com/pycroscopy/SciFiReaders.git@main -q\n",
    "    !{sys.executable} -m pip install git+https://github.com/pycroscopy/pyTEMlib.git@main -q --upgrade\n",
    "    \n",
    "if 'google.colab' in sys.modules:\n",
    "    !{sys.executable} -m pip install numpy==1.25.4\n",
    "# ------------------------------\n",
    "print('done')"
   ]
  },
  {
   "cell_type": "markdown",
   "metadata": {},
   "source": [
    "Restart the Runtime in Runtime Menu above or pres \"Ctrl-M\""
   ]
  },
  {
   "cell_type": "markdown",
   "metadata": {
    "hideCode": false,
    "hidePrompt": false
   },
   "source": [
    "### Load the relevant packages"
   ]
  },
  {
   "cell_type": "code",
   "execution_count": 1,
   "metadata": {
    "hideCode": true,
    "hidePrompt": false
   },
   "outputs": [
    {
     "name": "stdout",
     "output_type": "stream",
     "text": [
      "You don't have igor2 installed.     If you wish to open igor files, you will need to install it     (pip install igor2) before attempting.\n",
      "You don't have gwyfile installed.     If you wish to open .gwy files, you will need to      install it (pip install gwyfile) before attempting.\n",
      "Symmetry functions of spglib enabled\n",
      "pyTEMlib version:  0.2023.8.1\n"
     ]
    }
   ],
   "source": [
    "%matplotlib ipympl\n",
    "import numpy as np\n",
    "import matplotlib.pylab as plt \n",
    "import sys\n",
    "\n",
    "if 'google.colab' in sys.modules:\n",
    "    from google.colab import output\n",
    "    output.enable_custom_widget_manager()\n",
    "    from google.colab import drive\n",
    "\n",
    "import sys\n",
    "sys.path.insert(0, '../..')\n",
    "%load_ext autoreload\n",
    "%autoreload 2\n",
    "\n",
    "import pyTEMlib\n",
    "import pyTEMlib.file_tools as ft     # File input/ output library\n",
    "import pyTEMlib.image_tools as it\n",
    "import pyTEMlib.eels_tools  as eels        # EELS methods \n",
    "\n",
    "import pyTEMlib.interactive_eels as ieels  # Dialogs for EELS input and quantification\n",
    "\n",
    "# For archiving reasons it is a good idea to print the version numbers out at this point\n",
    "print('pyTEMlib version: ', pyTEMlib.__version__)\n",
    "\n",
    "__notebook__ = 'analyze_core_loss'\n",
    "__notebook_version__ = '2023_05_21'\n",
    "\n",
    "if 'google.colab' in sys.modules:\n",
    "    drive.mount(\"/content/drive\")"
   ]
  },
  {
   "cell_type": "markdown",
   "metadata": {},
   "source": [
    "## Load and plot a spectrum\n",
    "\n",
    "As an example we load the spectrum **1EELS Acquire (high-loss).dm3** from the *example data* folder.\n",
    "\n",
    "Please see [Loading an EELS Spectrum](LoadEELS.ipynb) for details on storage and plotting.\n",
    "\n",
    "First a dialog to select a file will apear.\n",
    "\n",
    "Then the spectrum plot and ``Spectrum Info`` dialog will appear, in which we set the experimental parameters.\n",
    "\n",
    "Please use the ``Set Energy Scale`` button to change the energy scale. When pressed a new dialog and a cursor will appear in which one is able to set the energy scale based on known features in the spectrum.\n"
   ]
  },
  {
   "cell_type": "code",
   "execution_count": 2,
   "metadata": {},
   "outputs": [
    {
     "data": {
      "application/vnd.jupyter.widget-view+json": {
       "model_id": "e5cb907035e04a76b186f347db76637e",
       "version_major": 2,
       "version_minor": 0
      },
      "text/plain": [
       "VBox(children=(Dropdown(description='directory:', layout=Layout(width='90%'), options=('c:\\\\Users\\\\gduscher\\\\D…"
      ]
     },
     "metadata": {},
     "output_type": "display_data"
    }
   ],
   "source": [
    "# -----Input -------#\n",
    "load_example = False\n",
    "\n",
    "if load_example:\n",
    "    datasets = ft.open_file('../../example_data/EELS_STO3.hf5')\n",
    "else:  \n",
    "    fileWidget = ft.FileWidget()"
   ]
  },
  {
   "cell_type": "code",
   "execution_count": 54,
   "metadata": {},
   "outputs": [
    {
     "data": {
      "application/vnd.jupyter.widget-view+json": {
       "model_id": "2176f295e3e748168768239cc559f5e7",
       "version_major": 2,
       "version_minor": 0
      },
      "text/plain": [
       "AppLayout(children=(GridspecLayout(children=(Dropdown(description='Main Dataset:', layout=Layout(grid_area='wi…"
      ]
     },
     "metadata": {},
     "output_type": "display_data"
    }
   ],
   "source": [
    "if not load_example:\n",
    "    datasets = fileWidget.datasets\n",
    "infoWidget= ieels.InfoWidget(datasets)\n"
   ]
  },
  {
   "cell_type": "markdown",
   "metadata": {},
   "source": [
    "## Chemical Composition \n",
    "The fit of the cross-section and background to the spectrum results in the chemical composition. If the calibration is correct this composition is given as areal density in atoms/nm$^2$\n",
    "\n",
    "\n"
   ]
  },
  {
   "cell_type": "code",
   "execution_count": 43,
   "metadata": {},
   "outputs": [
    {
     "name": "stdout",
     "output_type": "stream",
     "text": [
      "Auto Quantification\n",
      "\n",
      "Relative composition: \n",
      "Ti: 72.2%  Sb: 24.3%  Te: 3.5%  \n"
     ]
    }
   ],
   "source": [
    "print('Auto Quantification')\n",
    "eels.auto_chemical_composition(infoWidget.dataset)"
   ]
  },
  {
   "cell_type": "markdown",
   "metadata": {},
   "source": [
    "###  Fit of Data\n",
    "A dashboardw will open.\n",
    "Press **Elements** to select the elements first.\n",
    "\n",
    "Pres``Quantification`` button. Adjust parameters as needed and check fit by pressing the ``Quantification`` button again.\n",
    "\n",
    "Select the ``Fit Area`` button will show you which parts of the spectrum you choose to fit.\n",
    "\n",
    "Changing the multiplier value will make a simulation of your spectrum.\n",
    "\n",
    "Probability will change to atoms/nm$^2$ if you selected a reference for the counts in the info dashboard above.\n",
    "Edges button will display the edges of the te selected elements.\n",
    "\n",
    "If a low-loss spectrum is selected a "
   ]
  },
  {
   "cell_type": "code",
   "execution_count": 87,
   "metadata": {
    "tags": []
   },
   "outputs": [
    {
     "data": {
      "application/vnd.jupyter.widget-view+json": {
       "model_id": "5042d7a3b4474d91828f8acbed390afd",
       "version_major": 2,
       "version_minor": 0
      },
      "text/plain": [
       "AppLayout(children=(GridspecLayout(children=(ToggleButton(value=False, button_style='info', description='Fit A…"
      ]
     },
     "metadata": {},
     "output_type": "display_data"
    }
   ],
   "source": [
    "datasets['Channel_000'].metadata['edges']={}\n",
    "compositionWidget = ieels.CompositionWidget(datasets)"
   ]
  },
  {
   "cell_type": "markdown",
   "metadata": {},
   "source": [
    "### Output of Results"
   ]
  },
  {
   "cell_type": "code",
   "execution_count": 90,
   "metadata": {},
   "outputs": [
    {
     "name": "stdout",
     "output_type": "stream",
     "text": [
      "Relative chemical composition of  EELS_STO2\n",
      "Ti: 20.9 %\n",
      "O: 79.1 %\n"
     ]
    }
   ],
   "source": [
    "edges = compositionWidget.dataset.metadata['edges']\n",
    "element = []\n",
    "areal_density = []\n",
    "for key, edge in edges.items():\n",
    "    if key.isdigit():\n",
    "        element.append(edge['element'])\n",
    "        areal_density.append(edge['areal_density'])\n",
    "\n",
    "print('Relative chemical composition of ', compositionWidget.dataset.title)\n",
    "for i in range(len(element)):\n",
    "    print(f'{element[i]}: {areal_density[i]/np.sum(areal_density)*100:.1f} %')\n",
    "    \n",
    "saved_edges_metadata = edges"
   ]
  },
  {
   "cell_type": "markdown",
   "metadata": {},
   "source": [
    "### Log Data\n",
    "All the data associated with quantification are stored in the ``metadata`` attribute. The relevant keys of that dictionary are:  ``experiment`` and  ``edges``."
   ]
  },
  {
   "cell_type": "code",
   "execution_count": 44,
   "metadata": {
    "scrolled": true
   },
   "outputs": [
    {
     "name": "stdout",
     "output_type": "stream",
     "text": [
      "experiment :\n",
      "\tsingle_exposure_time : 2.0\n",
      "\texposure_time : 20.0\n",
      "\tnumber_of_frames : 10\n",
      "\tcollection_angle : 33.0\n",
      "\tconvergence_angle : 30.0\n",
      "\tacceleration_voltage : 200000.0\n",
      "\tflux_ppm : 0\n",
      "\tcount_conversion : 1\n",
      "\tbeam_current : 0\n",
      "filename : c:\\Users\\gduscher\\Documents\\Github\\pyTEMlib\\example_data\\EELS_STO2.dm3\n",
      "edges :\n",
      "\t0 :\n",
      "\t\tz : 22\n",
      "\t\tsymmetry : L3\n",
      "\t\telement : Ti\n",
      "\t\tonset : 455.5\n",
      "\t\tend_exclude : 505.5\n",
      "\t\tstart_exclude : 450.5\n",
      "\t\tall_edges :\n",
      "\t\t\tL3 :\n",
      "\t\t\t\tonset : 455.5\n",
      "\t\t\tL2 :\n",
      "\t\t\t\tonset : 461.5\n",
      "\t\t\tL1 :\n",
      "\t\t\t\tonset : 563.6999999999999\n",
      "\t\tchemical_shift : 0.0\n",
      "\t\tareal_density : 7065319769996.836\n",
      "\t\toriginal_onset : 455.5\n",
      "\t\tdata : [1.23264220e-09 1.22917273e-09 1.22570326e-09 ... 4.28971162e-10\n",
      " 4.28439070e-10 4.27906979e-10]\n",
      "\t\tX_section_type : XRPA\n",
      "\t\tX_section_source : pyTEMlib\n",
      "\tmodel :\n",
      "\t\tbackground : energy_loss:  energy-loss (eV) of size (2048,)\n",
      "\t\tbackground-poly_0 : -18905.269730586166\n",
      "\t\tbackground-poly_1 : -5.10291026745673\n",
      "\t\tbackground-poly_2 : 0.005046721263305648\n",
      "\t\tbackground-A : 3837665365.6060038\n",
      "\t\tbackground-r : 1.7015198900098305\n",
      "\t\tspectrum : energy_loss:  energy-loss (eV) of size (2048,)\n",
      "\t\tblurred : [183081.86  183025.38  182917.77  ...  23102.238  23095.361  23091.861]\n",
      "\t\tmask : [0. 0. 0. ... 1. 1. 1.]\n",
      "\t\tfit_parameter : [ 7.06531977e+12  2.98518572e+13  3.23511906e+04  3.23511906e+04\n",
      "  3.23511906e+04  3.23511906e+04 -1.89052697e+04 -5.10291027e+00\n",
      "  5.04672126e-03]\n",
      "\t\tfit_area_start : 351.669\n",
      "\t\tfit_area_end : 913.99\n",
      "\tuse_low_loss : False\n",
      "\tfit_area :\n",
      "\t\tfit_start : 351.669\n",
      "\t\tfit_end : 913.99\n",
      "\t1 :\n",
      "\t\tz : 8\n",
      "\t\tsymmetry : K1\n",
      "\t\telement : O\n",
      "\t\tonset : 532.0\n",
      "\t\tend_exclude : 582.0\n",
      "\t\tstart_exclude : 527.0\n",
      "\t\tall_edges :\n",
      "\t\t\tK1 :\n",
      "\t\t\t\tonset : 532.0\n",
      "\t\tchemical_shift : 0.0\n",
      "\t\tareal_density : 29851857187607.938\n",
      "\t\toriginal_onset : 532.0\n",
      "\t\tdata : [2.57010352e-10 2.56162359e-10 2.55314367e-10 ... 1.14358357e-10\n",
      " 1.14210558e-10 1.14062758e-10]\n",
      "\t\tX_section_type : XRPA\n",
      "\t\tX_section_source : pyTEMlib\n"
     ]
    }
   ],
   "source": [
    "compositionWidget.dataset.view_metadata()"
   ]
  },
  {
   "cell_type": "markdown",
   "metadata": {},
   "source": [
    "## ELNES\n",
    "The electron energy-loss near edge structure is determined by fititng the spectrum after quantification model subtraction. \n",
    "\n",
    "First smooth the spectrum (only 0 iteration available at this time) and then \n",
    "find the number of peaks you want (Can be repeated as oftern as one wants).\n",
    "\n",
    "Please note that the peaks do not necessarily have a physcial meaning as there are peaks with \n",
    "positive and negative amplitudes. The goal is to get a smooth representation of the spectrum.\n",
    "A difference of a good fit and the data should result in a residual of noise only. To achieve such a good fit, the careful setting of the edge onset is important.\n"
   ]
  },
  {
   "cell_type": "code",
   "execution_count": 92,
   "metadata": {},
   "outputs": [
    {
     "data": {
      "application/vnd.jupyter.widget-view+json": {
       "model_id": "f0786291e5a2452aae0165ef42faa00c",
       "version_major": 2,
       "version_minor": 0
      },
      "text/plain": [
       "AppLayout(children=(GridspecLayout(children=(Button(description='Fit Area', layout=Layout(grid_area='widget001…"
      ]
     },
     "metadata": {},
     "output_type": "display_data"
    }
   ],
   "source": [
    "datasets['Channel_000'].metadata['peak_fit'] ={}\n",
    "peakFitWidget = ieels.PeakFitWidget(datasets)"
   ]
  },
  {
   "cell_type": "markdown",
   "metadata": {},
   "source": [
    "### Output"
   ]
  },
  {
   "cell_type": "code",
   "execution_count": 48,
   "metadata": {},
   "outputs": [
    {
     "name": "stdout",
     "output_type": "stream",
     "text": [
      "peak  0: position:   540.6, area: -2171440.358 associated edge: O-K1\n",
      "peak  1: position:   540.6, area:  2044736.464 associated edge: O-K1\n",
      "peak  2: position:   462.3, area:  1019741.883 associated edge: Ti-L2\n",
      "peak  3: position:   475.4, area:  -421663.981 associated edge: Ti-L2\n",
      "peak  4: position:   457.3, area:   364278.003 associated edge: Ti-L3\n",
      "peak  5: position:   454.9, area:   266951.091 associated edge: \n",
      "peak  6: position:   559.7, area:  -229694.131 associated edge: O-K1\n",
      "peak  7: position:   356.7, area:   147740.995 associated edge: \n"
     ]
    }
   ],
   "source": [
    "areas = []\n",
    "for p, peak in peakFitWidget.peaks['peaks'].items():\n",
    "    area = np.sqrt(2* np.pi)* peak['amplitude'] * np.abs(peak['width'] / np.sqrt(2 *np.log(2))) \n",
    "    areas.append(area)\n",
    "    if 'associated_edge' not in peak:\n",
    "        peak['associated_edge']= ''\n",
    "    print(f\"peak  {p}: position: {peak['position']:7.1f}, area: {area:12.3f} associated edge: {peak['associated_edge']}\")\n",
    "#print(f'\\n M4/M5 peak 2 to peak 1 ratio: {(areas[1])/areas[0]:.2f}')"
   ]
  },
  {
   "cell_type": "markdown",
   "metadata": {},
   "source": [
    "### Log Data\n",
    "All the data associated with quantification are stored in the ``metadata`` attribute. \n",
    "The new key in that dictionary is: ``peak_fit``."
   ]
  },
  {
   "cell_type": "code",
   "execution_count": 49,
   "metadata": {},
   "outputs": [
    {
     "data": {
      "text/plain": [
       "dict_keys(['experiment', 'filename', 'edges', 'peak_fit'])"
      ]
     },
     "execution_count": 49,
     "metadata": {},
     "output_type": "execute_result"
    }
   ],
   "source": [
    "infoWidget.dataset.metadata.keys()"
   ]
  },
  {
   "cell_type": "markdown",
   "metadata": {
    "hideCode": false,
    "hidePrompt": true
   },
   "source": [
    "## Save and Close File\n",
    "The dataset with the metadata should be saved for further quantification. \n",
    "The file needs to be closed to be used with other notebooks."
   ]
  },
  {
   "cell_type": "code",
   "execution_count": 50,
   "metadata": {
    "hideCode": false,
    "hidePrompt": true
   },
   "outputs": [
    {
     "name": "stderr",
     "output_type": "stream",
     "text": [
      "c:\\Users\\gduscher\\AppData\\Local\\anaconda3\\envs\\pyTEMlib\\Lib\\site-packages\\pyNSID\\io\\hdf_utils.py:376: FutureWarning: validate_h5_dimension may be removed in a future version\n",
      "  warn('validate_h5_dimension may be removed in a future version',\n"
     ]
    }
   ],
   "source": [
    "h5_group = ft.save_dataset(infoWidget.datasets, '../../example_data/EELS_STO3.hf5')\n",
    "h5_group.file.close()"
   ]
  },
  {
   "cell_type": "code",
   "execution_count": null,
   "metadata": {},
   "outputs": [],
   "source": []
  }
 ],
 "metadata": {
  "hide_code_all_hidden": true,
  "kernelspec": {
   "display_name": "pyTEMlib",
   "language": "python",
   "name": "pytemlib"
  },
  "language_info": {
   "codemirror_mode": {
    "name": "ipython",
    "version": 3
   },
   "file_extension": ".py",
   "mimetype": "text/x-python",
   "name": "python",
   "nbconvert_exporter": "python",
   "pygments_lexer": "ipython3",
   "version": "3.11.4"
  },
  "toc": {
   "base_numbering": 1,
   "nav_menu": {},
   "number_sections": true,
   "sideBar": true,
   "skip_h1_title": false,
   "title_cell": "Table of Contents",
   "title_sidebar": "Contents",
   "toc_cell": false,
   "toc_position": {
    "height": "calc(100% - 180px)",
    "left": "10px",
    "top": "150px",
    "width": "270px"
   },
   "toc_section_display": true,
   "toc_window_display": false
  },
  "varInspector": {
   "cols": {
    "lenName": 16,
    "lenType": 16,
    "lenVar": 40
   },
   "kernels_config": {
    "python": {
     "delete_cmd_postfix": "",
     "delete_cmd_prefix": "del ",
     "library": "var_list.py",
     "varRefreshCmd": "print(var_dic_list())"
    },
    "r": {
     "delete_cmd_postfix": ") ",
     "delete_cmd_prefix": "rm(",
     "library": "var_list.r",
     "varRefreshCmd": "cat(var_dic_list()) "
    }
   },
   "types_to_exclude": [
    "module",
    "function",
    "builtin_function_or_method",
    "instance",
    "_Feature"
   ],
   "window_display": false
  }
 },
 "nbformat": 4,
 "nbformat_minor": 4
}
