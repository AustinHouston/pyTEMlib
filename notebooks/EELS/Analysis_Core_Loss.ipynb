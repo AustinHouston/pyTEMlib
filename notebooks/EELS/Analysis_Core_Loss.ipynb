{
 "cells": [
  {
   "cell_type": "markdown",
   "metadata": {
    "hideCode": true,
    "hidePrompt": true
   },
   "source": [
    "<font size = \"5\"> **EELS_Tools:  [Spectroscopy](Ch4-Spectroscopy.ipynb)** </font>\n",
    "\n",
    "<hr style=\"height:1px;border-top:4px solid #FF8200\" />\n",
    "\n",
    "# Analysis of Core-Loss Spectra\n",
    "<br>\n",
    "\n",
    "part of \n",
    "\n",
    "<font size = \"5\"> **[Analysis of Transmission Electron Microscope Data](_Analysis_of_Transmission_Electron_Microscope_Data.ipynb)**</font>\n",
    "\n",
    "by Gerd Duscher, 2023\n",
    "\n",
    "Microscopy Facilities<br>\n",
    "Institute of Advanced Materials & Manufacturing<br>\n",
    "The University of Tennessee, Knoxville\n",
    "\n",
    "Model based analysis and quantification of data acquired with transmission electron microscopes\n",
    "\n",
    "\n"
   ]
  },
  {
   "cell_type": "markdown",
   "metadata": {
    "hideCode": true,
    "hidePrompt": true
   },
   "source": [
    "## Content\n",
    "\n",
    "Quantitative determination of chemical composition from a core-loss EELS spectrum\n",
    "\n",
    "\n",
    "Relavant notebooks in course [MSE 672: Introduction to TEM]()  give an in depth explanation of the method.\n",
    "\n",
    "Please cite:\n",
    "\n",
    "[M. Tian et  al. *Measuring the areal density of nanomaterials by electron energy-loss spectroscopy*\n",
    "Ultramicroscopy Volume 196, 2019, pages 154-160](https://doi.org/10.1016/j.ultramic.2018.10.009)\n",
    "\n",
    "as a reference of this quantification method.\n",
    "\n",
    "## Prerequesites\n",
    "This notebook will only run with  ``version 0.2022.6.0`` or higher.\n",
    "\n",
    "### Install missing packages\n",
    "This can take a while for the first time. This code will have to run at least once on you computer or colab session."
   ]
  },
  {
   "cell_type": "code",
   "execution_count": 1,
   "metadata": {},
   "outputs": [
    {
     "name": "stdout",
     "output_type": "stream",
     "text": [
      "done\n"
     ]
    }
   ],
   "source": [
    "import sys\n",
    "from pkg_resources import get_distribution, DistributionNotFound\n",
    "\n",
    "def test_package(package_name):\n",
    "    \"\"\"Test if package exists and returns version or -1\"\"\"\n",
    "    try:\n",
    "        version = (get_distribution(package_name).version)\n",
    "    except (DistributionNotFound, ImportError) as err:\n",
    "        version = '-1'\n",
    "    return version\n",
    "\n",
    "# pyTEMlib setup ------------------\n",
    "if test_package('pyTEMlib') < '0.2023.4.0':\n",
    "    print('installing pyTEMlib')\n",
    "    !{sys.executable} -m pip install  --upgrade pyTEMlib -q\n",
    "# ------------------------------\n",
    "print('done')"
   ]
  },
  {
   "cell_type": "markdown",
   "metadata": {
    "hideCode": false,
    "hidePrompt": false
   },
   "source": [
    "### Load the relevant packages"
   ]
  },
  {
   "cell_type": "code",
   "execution_count": 1,
   "metadata": {
    "hideCode": true,
    "hidePrompt": false
   },
   "outputs": [
    {
     "name": "stdout",
     "output_type": "stream",
     "text": [
      "Symmetry functions of spglib enabled\n",
      "SimpleITK not installed; Registration Functions for Image Stacks not available\n",
      "install with: conda install -c simpleitk simpleitk \n",
      "pyTEMlib version:  0.2023.4.0\n"
     ]
    }
   ],
   "source": [
    "%matplotlib qt\n",
    "import numpy as np\n",
    "import matplotlib.pylab as plt \n",
    "\n",
    "%gui qt5\n",
    "import sys\n",
    "# sys.path.insert(0, '../../')\n",
    "\n",
    "import pyTEMlib\n",
    "import pyTEMlib.file_tools as ft     # File input/ output library\n",
    "import pyTEMlib.image_tools as it\n",
    "import pyTEMlib.eels_tools  as eels        # EELS methods \n",
    "\n",
    "import pyTEMlib.interactive_eels as ieels  # Dialogs for EELS input and quantification\n",
    "\n",
    "# For archiving reasons it is a good idea to print the version numbers out at this point\n",
    "print('pyTEMlib version: ', pyTEMlib.__version__)\n",
    "if pyTEMlib.__version__ < '0.2023.3.0':\n",
    "    print('This version of pyTEMlib will not work with this notebook')\n",
    "    print('Please install new pyTEMlib version with code cell above first and then restart this notebook!')\n",
    "    \n",
    "__notebook__ = 'analyze_core_loss'\n",
    "__notebook_version__ = '2023_03_20'"
   ]
  },
  {
   "cell_type": "markdown",
   "metadata": {},
   "source": [
    "## Load and plot a spectrum\n",
    "\n",
    "As an example we load the spectrum **1EELS Acquire (high-loss).dm3** from the *example data* folder.\n",
    "\n",
    "Please see [Loading an EELS Spectrum](LoadEELS.ipynb) for details on storage and plotting.\n",
    "\n",
    "First a dialog to select a file will apear.\n",
    "\n",
    "Then the spectrum plot and ``Spectrum Info`` dialog will appear, in which we set the experimental parameters.\n",
    "\n",
    "Please use the ``Set Energy Scale`` button to change the energy scale. When pressed a new dialog and a cursor will appear in which one is able to set the energy scale based on known features in the spectrum.\n"
   ]
  },
  {
   "cell_type": "code",
   "execution_count": 7,
   "metadata": {
    "scrolled": true
   },
   "outputs": [
    {
     "name": "stdout",
     "output_type": "stream",
     "text": [
      "edges\n",
      "0\n",
      "all_edges\n",
      "L1\n",
      "L2\n",
      "L3\n",
      "1\n",
      "all_edges\n",
      "K1\n",
      "fit_area\n",
      "model\n",
      "experiment\n",
      "DM\n",
      "DocumentObjectList\n",
      "0\n",
      "AnnotationGroupList\n",
      "ImageDisplayInfo\n",
      "CalibrationSliceId\n",
      "DimensionLabels\n",
      "GroupList\n",
      "0\n",
      "GroupToDisplay\n",
      "MainSliceId\n",
      "SliceList\n",
      "0\n",
      "ImageToGroup\n",
      "SliceId\n",
      "ObjectTags\n",
      "DocumentTags\n",
      "Image Behavior\n",
      "UnscaledTransform\n",
      "ZoomAndMoveTransform\n",
      "ImageData\n",
      "Calibrations\n",
      "Brightness\n",
      "Dimension\n",
      "0\n",
      "Dimensions\n",
      "ImageSourceList\n",
      "0\n",
      "Extra Slice Info\n",
      "0\n",
      "Id\n",
      "Id\n",
      "ImageTags\n",
      "Acquisition\n",
      "Device\n",
      "CCD\n",
      "Configuration\n",
      "Transpose\n",
      "Frame\n",
      "Area\n",
      "Transform\n",
      "Transform List\n",
      "0\n",
      "Transpose\n",
      "CCD\n",
      "Intensity\n",
      "Transform\n",
      "Transform List\n",
      "0\n",
      "1\n",
      "Parameters\n",
      "Base Detector\n",
      "Detector\n",
      "Environment\n",
      "High Level\n",
      "Shutter\n",
      "Transform\n",
      "Objects\n",
      "0\n",
      "EELS\n",
      "Acquisition\n",
      "Experimental Conditions\n",
      "EELS Spectrometer\n",
      "Meta Data\n",
      "Microscope Info\n",
      "Session Info\n",
      "Items\n",
      "0\n",
      "1\n",
      "2\n",
      "MinVersionList\n",
      "0\n",
      "Page Behavior\n",
      "PageTransform\n",
      "SentinelList\n",
      "Thumbnails\n",
      "0\n",
      "UniqueID\n"
     ]
    },
    {
     "data": {
      "application/vnd.jupyter.widget-view+json": {
       "model_id": "cd6208d97ef74fb0b4c5b6c694e78d0d",
       "version_major": 2,
       "version_minor": 0
      },
      "text/plain": [
       "Dropdown(description='select dataset:', options=('Channel_000: 01_EELS Acquire_STO',), value='Channel_000: 01_…"
      ]
     },
     "metadata": {},
     "output_type": "display_data"
    }
   ],
   "source": [
    "filename='../../example_data/EELS_STO.hf5'\n",
    "\n",
    "datasets=  ft.open_file(filename=filename)\n",
    "chooser = ft.ChooseDataset(datasets)"
   ]
  },
  {
   "cell_type": "code",
   "execution_count": 8,
   "metadata": {},
   "outputs": [],
   "source": [
    "dataset = chooser.dataset\n",
    "view = dataset.plot()\n",
    "plt.show() \n",
    "plt.draw()"
   ]
  },
  {
   "cell_type": "markdown",
   "metadata": {},
   "source": [
    "## Chemical Composition \n",
    "The fit of the cross-section and background to the spectrum results in the chemical composition. If the calibration is correct this composition is given as areal density in atoms/nm$^2$\n",
    "\n",
    "\n"
   ]
  },
  {
   "cell_type": "code",
   "execution_count": 9,
   "metadata": {},
   "outputs": [
    {
     "name": "stdout",
     "output_type": "stream",
     "text": [
      "Auto Quantification\n",
      "\n",
      "Relative composition: \n",
      "Ti: 18.8%  O: 81.2%  \n"
     ]
    }
   ],
   "source": [
    "print('Auto Quantification')\n",
    "eels.auto_chemical_composition(dataset)"
   ]
  },
  {
   "cell_type": "markdown",
   "metadata": {},
   "source": [
    "###  Fit of Data\n",
    "A dialog window will open, enter the elements first (0 will open a periodic table) and press \n",
    "``Fit Composition`` button (bottom right). Adjust parameters as needed and check fit by pressing the ``Fit Composition`` button again.\n",
    "\n",
    "Select the ``Region`` checkbox to see which parts of the spectrum you choose to fit.\n",
    "\n",
    "Changing the multiplier value will make a simulation of your spectrum.\n",
    "\n",
    "The ``InfoDialog``, if open, still works to change experimental parameters and the energy scale."
   ]
  },
  {
   "cell_type": "code",
   "execution_count": 10,
   "metadata": {
    "scrolled": true
   },
   "outputs": [],
   "source": [
    "composition = ieels.CompositionDialog(dataset)"
   ]
  },
  {
   "cell_type": "markdown",
   "metadata": {},
   "source": [
    "### Output of Results"
   ]
  },
  {
   "cell_type": "code",
   "execution_count": 11,
   "metadata": {},
   "outputs": [
    {
     "name": "stdout",
     "output_type": "stream",
     "text": [
      "Relative chemical composition of  01_EELS Acquire_STO\n",
      "Ti: 18.8 %\n",
      "O: 81.2 %\n"
     ]
    }
   ],
   "source": [
    "edges = dataset.metadata['edges']\n",
    "element = []\n",
    "areal_density = []\n",
    "for key, edge in edges.items():\n",
    "    if key.isdigit():\n",
    "        element.append(edge['element'])\n",
    "        areal_density.append(edge['areal_density'])\n",
    "\n",
    "print('Relative chemical composition of ', dataset.title)\n",
    "for i in range(len(element)):\n",
    "    print(f'{element[i]}: {areal_density[i]/np.sum(areal_density)*100:.1f} %')\n",
    "    \n",
    "saved_edges_metadata = edges"
   ]
  },
  {
   "cell_type": "markdown",
   "metadata": {},
   "source": [
    "### Log Data\n",
    "All the data associated with quantification are stored in the ``metadata`` attribute. The relevant keys of that dictionary are:  ``experiment`` and  ``edges``."
   ]
  },
  {
   "cell_type": "code",
   "execution_count": 10,
   "metadata": {},
   "outputs": [
    {
     "data": {
      "text/plain": [
       "dict_keys(['experiment', 'filename', 'edges'])"
      ]
     },
     "execution_count": 10,
     "metadata": {},
     "output_type": "execute_result"
    }
   ],
   "source": [
    "dataset.metadata.keys()"
   ]
  },
  {
   "cell_type": "code",
   "execution_count": 11,
   "metadata": {
    "scrolled": true
   },
   "outputs": [
    {
     "data": {
      "text/plain": [
       "{'experiment': {'single_exposure_time': 2.0,\n",
       "  'exposure_time': 20.0,\n",
       "  'number_of_frames': 10,\n",
       "  'collection_angle': 33.0,\n",
       "  'convergence_angle': 30.0,\n",
       "  'acceleration_voltage': 200000.0,\n",
       "  'offset': 350.0,\n",
       "  'dispersion': 0.25,\n",
       "  'binning': 1,\n",
       "  'conversion': 1.0,\n",
       "  'flux_ppm': -1.0,\n",
       "  'flux_unit': 'counts',\n",
       "  'current': 1.0,\n",
       "  'SI_bin_x': 1,\n",
       "  'SI_bin_y': 1},\n",
       " 'filename': 'C:/Users/gduscher/Documents/Github/pyTEMlib/example_data/EELS_STO.dm3',\n",
       " 'edges': {'model': {'background': array([169020.25174338, 168789.78918192, 168559.82605639, ...,\n",
       "            9149.54959508,   9100.75462706,   9051.94875424]),\n",
       "   'background-poly_0': -81470.80833794757,\n",
       "   'background-poly_1': 249.6292062065052,\n",
       "   'background-poly_2': -0.21422944630842575,\n",
       "   'background-A': 12172261631.904371,\n",
       "   'background-r': 1.8899156398038295,\n",
       "   'spectrum': array([176470.83278946, 176223.47467571, 175976.61599788, ...,\n",
       "           13245.7753568 ,  13191.95820283,  13138.13014407]),\n",
       "   'blurred': array([183081.86 , 183025.38 , 182917.77 , ...,  23102.238,  23095.361,\n",
       "           23091.861], dtype=float32),\n",
       "   'mask': array([0., 0., 0., ..., 1., 0., 1.]),\n",
       "   'fit_parameter': array([ 4.59670802e+12,  1.48706380e+13,  2.14449459e+05,  3.23511906e+04,\n",
       "           3.23511906e+04,  3.23511906e+04, -8.14708083e+04,  2.49629206e+02,\n",
       "          -2.14229446e-01]),\n",
       "   'fit_area_start': 362.5,\n",
       "   'fit_area_end': 861.5},\n",
       "  'use_low_loss': False,\n",
       "  '0': {'z': 22,\n",
       "   'symmetry': 'L3',\n",
       "   'element': 'Ti',\n",
       "   'onset': 455.5,\n",
       "   'end_exclude': 505.5,\n",
       "   'start_exclude': 450.5,\n",
       "   'all_edges': {'L3': {'onset': 455.5},\n",
       "    'L2': {'onset': 461.5},\n",
       "    'L1': {'onset': 563.6999999999999}},\n",
       "   'chemical_shift': 0.0,\n",
       "   'areal_density': 4596708022990.737,\n",
       "   'original_onset': 455.5,\n",
       "   'data': array([9.75030542e-10, 9.72936517e-10, 9.70842492e-10, ...,\n",
       "          4.76621339e-10, 4.76045667e-10, 4.75469995e-10]),\n",
       "   'X_section_type': 'XRPA',\n",
       "   'X_section_source': 'pyTEMlib'},\n",
       "  '1': {'z': 8,\n",
       "   'symmetry': 'K1',\n",
       "   'element': 'O',\n",
       "   'onset': 532.0,\n",
       "   'end_exclude': 582.0,\n",
       "   'start_exclude': 527.0,\n",
       "   'all_edges': {'K1': {'onset': 532.0}},\n",
       "   'chemical_shift': 0.0,\n",
       "   'areal_density': 14870637969963.275,\n",
       "   'original_onset': 532.0,\n",
       "   'data': array([1.99631645e-10, 1.99142767e-10, 1.98653888e-10, ...,\n",
       "          1.28127406e-10, 1.27967629e-10, 1.27807852e-10]),\n",
       "   'X_section_type': 'XRPA',\n",
       "   'X_section_source': 'pyTEMlib'},\n",
       "  '2': {'z': 52,\n",
       "   'symmetry': 'M3',\n",
       "   'element': 'Te',\n",
       "   'onset': 818.6999999999999,\n",
       "   'end_exclude': 861.25,\n",
       "   'start_exclude': 813.6999999999999,\n",
       "   'all_edges': {'M5': {'onset': 572.1},\n",
       "    'M4': {'onset': 582.5},\n",
       "    'M3': {'onset': 818.6999999999999}},\n",
       "   'chemical_shift': 0.0,\n",
       "   'areal_density': 214449.4593395918,\n",
       "   'original_onset': 818.6999999999999,\n",
       "   'data': array([1.94023197e-09, 1.93800932e-09, 1.93578667e-09, ...,\n",
       "          1.65155976e-09, 1.64981869e-09, 1.64807763e-09]),\n",
       "   'X_section_type': 'XRPA',\n",
       "   'X_section_source': 'pyTEMlib'},\n",
       "  'fit_area': {'fit_start': 362.5, 'fit_end': 861.5}}}"
      ]
     },
     "execution_count": 11,
     "metadata": {},
     "output_type": "execute_result"
    },
    {
     "name": "stdout",
     "output_type": "stream",
     "text": [
      "Could not find no edge of 1 in spectrum\n",
      "Could not find no edge of 1 in spectrum\n"
     ]
    }
   ],
   "source": [
    "dataset.metadata"
   ]
  },
  {
   "cell_type": "markdown",
   "metadata": {},
   "source": [
    "## ELNES\n",
    "The electron energy-loss near edge structure is determined by fititng the spectrum after quantification model subtraction. \n",
    "\n",
    "First smooth the spectrum (only 0 iteration available at this time) and then \n",
    "find the number of peaks you want (Can be repeated as oftern as one wants).\n",
    "\n",
    "Please note that the peaks do not necessarily have a physcial meaning as there are peaks with \n",
    "positive and negative amplitudes. The goal is to get a smooth representation of the spectrum.\n",
    "A difference of a good fit and the data should result in a residual of noise only. To achieve such a good fit, the careful setting of the edge onset is important.\n"
   ]
  },
  {
   "cell_type": "code",
   "execution_count": 12,
   "metadata": {},
   "outputs": [
    {
     "name": "stdout",
     "output_type": "stream",
     "text": [
      "Fitting peaks...\n",
      "Core loss model found. Fitting on top of the model.\n"
     ]
    }
   ],
   "source": [
    "peak_dialog = ieels.PeakFitDialog(dataset)"
   ]
  },
  {
   "cell_type": "markdown",
   "metadata": {},
   "source": [
    "### Output"
   ]
  },
  {
   "cell_type": "code",
   "execution_count": null,
   "metadata": {},
   "outputs": [],
   "source": [
    "areas = []\n",
    "for p, peak in peak_dialog.peaks['peaks'].items():\n",
    "    area = np.sqrt(2* np.pi)* peak['amplitude'] * np.abs(peak['width'] / np.sqrt(2 *np.log(2))) \n",
    "    areas.append(area)\n",
    "    if 'associated_edge' not in peak:\n",
    "        peak['associated_edge']= ''\n",
    "    print(f\"peak  {p}: position: {peak['position']:7.1f}, area: {area:12.3f} associated edge: {peak['associated_edge']}\")\n",
    "#print(f'\\n M4/M5 peak 2 to peak 1 ratio: {(areas[1])/areas[0]:.2f}')"
   ]
  },
  {
   "cell_type": "markdown",
   "metadata": {},
   "source": [
    "### Log Data\n",
    "All the data associated with quantification are stored in the ``metadata`` attribute. \n",
    "The new key in that dictionary is: ``peak_fit``."
   ]
  },
  {
   "cell_type": "code",
   "execution_count": null,
   "metadata": {},
   "outputs": [],
   "source": [
    "dataset.metadata.keys()"
   ]
  },
  {
   "cell_type": "markdown",
   "metadata": {
    "hideCode": false,
    "hidePrompt": true
   },
   "source": [
    "## Save and Close File\n",
    "The dataset with the metadata should be saved for further quantification. \n",
    "The file needs to be closed to be used with other notebooks."
   ]
  },
  {
   "cell_type": "code",
   "execution_count": null,
   "metadata": {
    "hideCode": false,
    "hidePrompt": true
   },
   "outputs": [],
   "source": [
    "h5_group = ft.save_dataset(datasets, '../../example_data/EELS_STO.hf5')\n",
    "h5_group.file.close()"
   ]
  },
  {
   "cell_type": "code",
   "execution_count": null,
   "metadata": {},
   "outputs": [],
   "source": []
  }
 ],
 "metadata": {
  "hide_code_all_hidden": true,
  "kernelspec": {
   "display_name": "Python 3 (ipykernel)",
   "language": "python",
   "name": "python3"
  },
  "language_info": {
   "codemirror_mode": {
    "name": "ipython",
    "version": 3
   },
   "file_extension": ".py",
   "mimetype": "text/x-python",
   "name": "python",
   "nbconvert_exporter": "python",
   "pygments_lexer": "ipython3",
   "version": "3.10.10"
  },
  "toc": {
   "base_numbering": 1,
   "nav_menu": {},
   "number_sections": true,
   "sideBar": true,
   "skip_h1_title": false,
   "title_cell": "Table of Contents",
   "title_sidebar": "Contents",
   "toc_cell": false,
   "toc_position": {
    "height": "calc(100% - 180px)",
    "left": "10px",
    "top": "150px",
    "width": "270px"
   },
   "toc_section_display": true,
   "toc_window_display": false
  },
  "varInspector": {
   "cols": {
    "lenName": 16,
    "lenType": 16,
    "lenVar": 40
   },
   "kernels_config": {
    "python": {
     "delete_cmd_postfix": "",
     "delete_cmd_prefix": "del ",
     "library": "var_list.py",
     "varRefreshCmd": "print(var_dic_list())"
    },
    "r": {
     "delete_cmd_postfix": ") ",
     "delete_cmd_prefix": "rm(",
     "library": "var_list.r",
     "varRefreshCmd": "cat(var_dic_list()) "
    }
   },
   "types_to_exclude": [
    "module",
    "function",
    "builtin_function_or_method",
    "instance",
    "_Feature"
   ],
   "window_display": false
  }
 },
 "nbformat": 4,
 "nbformat_minor": 4
}
