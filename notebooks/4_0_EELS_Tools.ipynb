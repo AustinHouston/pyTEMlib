{
 "cells": [
  {
   "cell_type": "markdown",
   "metadata": {},
   "source": [
    "<font size = \"5\"> **[pyTEMlib](0_pyTEMlib.ipynb)** </font>\n",
    "\n",
    "<hr style=\"height:1px;border-top:4px solid #FF8200\" />\n",
    "\n",
    "\n",
    "# EELS Tools\n",
    "\n",
    "\n",
    "part of \n",
    "\n",
    "<font size = \"4\"> **pyTEMlib**, a **pycroscopy** library </font>\n",
    "\n",
    "\n",
    "Notebook by \n",
    "\n",
    "Gerd Duscher\n",
    "\n",
    "Materials Science & Engineering<br>\n",
    "Joint Institute of Advanced Materials<br>\n",
    "The University of Tennessee, Knoxville\n",
    "\n",
    "\n",
    "Usage of the Image Tools of [pyTEMlib](_pyTEMlib.ipynb)\n",
    "\n",
    "## [Low-Loss Spectra](EELS/Analyse_Low-Loss.ipynb)\n",
    "## [Core-Loss Spectra](EELS/Analysis_Core_Loss.ipynb)\n",
    "## [Low-Loss Spectral Images](Analyse_Low-Loss_Spectral_Images.ipynb)\n",
    "## [Core-Loss Spectral Images](Analyse_Core-Loss_Spectral_Images.ipynb)\n"
   ]
  },
  {
   "cell_type": "markdown",
   "metadata": {},
   "source": []
  }
 ],
 "metadata": {
  "kernelspec": {
   "display_name": "Python 3",
   "language": "python",
   "name": "python3"
  },
  "language_info": {
   "codemirror_mode": {
    "name": "ipython",
    "version": 3
   },
   "file_extension": ".py",
   "mimetype": "text/x-python",
   "name": "python",
   "nbconvert_exporter": "python",
   "pygments_lexer": "ipython3",
   "version": "3.8.8"
  },
  "toc": {
   "base_numbering": "3",
   "nav_menu": {},
   "number_sections": true,
   "sideBar": true,
   "skip_h1_title": false,
   "title_cell": "Table of Contents",
   "title_sidebar": "Contents",
   "toc_cell": false,
   "toc_position": {},
   "toc_section_display": true,
   "toc_window_display": true
  }
 },
 "nbformat": 4,
 "nbformat_minor": 4
}
